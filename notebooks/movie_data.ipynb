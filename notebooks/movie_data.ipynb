{
 "cells": [
  {
   "cell_type": "code",
   "execution_count": 1,
   "id": "ed4130c3-aeaf-42e2-b63e-e84973c1a5fd",
   "metadata": {},
   "outputs": [],
   "source": [
    "import pandas as pd\n",
    "import requests\n",
    "from bs4 import BeautifulSoup\n",
    "import re\n",
    "import matplotlib.pyplot as plt\n",
    "import seaborn as sns"
   ]
  },
  {
   "cell_type": "markdown",
   "id": "2fb95efe-2f8e-4bcd-aab6-66e326feca3d",
   "metadata": {
    "jp-MarkdownHeadingCollapsed": true
   },
   "source": [
    "# Kaggle dataset, 1915-2023"
   ]
  },
  {
   "cell_type": "code",
   "execution_count": 2,
   "id": "e3356621-5de1-43d8-ae7f-532a30621329",
   "metadata": {},
   "outputs": [],
   "source": [
    "rotten_tomatoes_kaggle = pd.read_excel('../data/movie_info_kaggle.xlsx')"
   ]
  },
  {
   "cell_type": "code",
   "execution_count": 3,
   "id": "31b6c829-4e56-42f7-99a7-29fccc539110",
   "metadata": {},
   "outputs": [],
   "source": [
    "english_rotten_tomatoes = rotten_tomatoes_kaggle[rotten_tomatoes_kaggle['originalLanguage'] == 'English']"
   ]
  },
  {
   "cell_type": "code",
   "execution_count": 4,
   "id": "f6d7c484-de1c-4f24-924a-88237673bce8",
   "metadata": {},
   "outputs": [],
   "source": [
    "rotten_tomatoes_dropna = english_rotten_tomatoes[(english_rotten_tomatoes['audienceScore'].notna()) & (english_rotten_tomatoes['tomatoMeter'].notna())]"
   ]
  },
  {
   "cell_type": "code",
   "execution_count": 5,
   "id": "7f9dd0d0-ba22-4b1c-ab9e-16b355b79372",
   "metadata": {},
   "outputs": [],
   "source": [
    "rotten_tomatoes_drop_duplicates = rotten_tomatoes_dropna.drop_duplicates(subset=['id', 'title', 'audienceScore', 'tomatoMeter'], keep='first')"
   ]
  },
  {
   "cell_type": "code",
   "execution_count": 6,
   "id": "7aae608f-c450-40f4-b281-5eb5282555e9",
   "metadata": {},
   "outputs": [
    {
     "data": {
      "text/html": [
       "<div>\n",
       "<style scoped>\n",
       "    .dataframe tbody tr th:only-of-type {\n",
       "        vertical-align: middle;\n",
       "    }\n",
       "\n",
       "    .dataframe tbody tr th {\n",
       "        vertical-align: top;\n",
       "    }\n",
       "\n",
       "    .dataframe thead th {\n",
       "        text-align: right;\n",
       "    }\n",
       "</style>\n",
       "<table border=\"1\" class=\"dataframe\">\n",
       "  <thead>\n",
       "    <tr style=\"text-align: right;\">\n",
       "      <th></th>\n",
       "      <th>id</th>\n",
       "      <th>title</th>\n",
       "      <th>audience_score_kaggle</th>\n",
       "      <th>critic_score_kaggle</th>\n",
       "      <th>rating</th>\n",
       "      <th>releaseDateTheaters</th>\n",
       "      <th>releaseDateStreaming</th>\n",
       "      <th>runtimeMinutes</th>\n",
       "      <th>genre</th>\n",
       "      <th>director</th>\n",
       "      <th>boxOffice</th>\n",
       "    </tr>\n",
       "  </thead>\n",
       "  <tbody>\n",
       "    <tr>\n",
       "      <th>5</th>\n",
       "      <td>adrift_2018</td>\n",
       "      <td>Adrift</td>\n",
       "      <td>65</td>\n",
       "      <td>69</td>\n",
       "      <td>PG-13</td>\n",
       "      <td>2018-06-01</td>\n",
       "      <td>2018-08-21</td>\n",
       "      <td>120.0</td>\n",
       "      <td>Adventure, Drama, Romance</td>\n",
       "      <td>Baltasar KormÃ¡kur</td>\n",
       "      <td>$31.4M</td>\n",
       "    </tr>\n",
       "    <tr>\n",
       "      <th>9</th>\n",
       "      <td>1035316-born_to_kill</td>\n",
       "      <td>Born to Kill</td>\n",
       "      <td>74</td>\n",
       "      <td>83</td>\n",
       "      <td>NaN</td>\n",
       "      <td>1947-04-30</td>\n",
       "      <td>2016-05-23</td>\n",
       "      <td>92.0</td>\n",
       "      <td>Crime, Drama</td>\n",
       "      <td>Robert Wise</td>\n",
       "      <td>NaN</td>\n",
       "    </tr>\n",
       "    <tr>\n",
       "      <th>13</th>\n",
       "      <td>leap_of_faith_2019</td>\n",
       "      <td>Leap of Faith: William Friedkin on The Exorcist</td>\n",
       "      <td>86</td>\n",
       "      <td>93</td>\n",
       "      <td>NaN</td>\n",
       "      <td>NaT</td>\n",
       "      <td>2020-11-19</td>\n",
       "      <td>104.0</td>\n",
       "      <td>Documentary, Mystery &amp; thriller</td>\n",
       "      <td>Alexandre O. Philippe</td>\n",
       "      <td>NaN</td>\n",
       "    </tr>\n",
       "    <tr>\n",
       "      <th>20</th>\n",
       "      <td>sarah_palin_you_betcha</td>\n",
       "      <td>Sarah Palin: You Betcha!</td>\n",
       "      <td>61</td>\n",
       "      <td>32</td>\n",
       "      <td>NaN</td>\n",
       "      <td>2011-09-30</td>\n",
       "      <td>2017-03-08</td>\n",
       "      <td>90.0</td>\n",
       "      <td>Documentary</td>\n",
       "      <td>Nick Broomfield,Joan Churchill</td>\n",
       "      <td>$10.5K</td>\n",
       "    </tr>\n",
       "    <tr>\n",
       "      <th>21</th>\n",
       "      <td>1005521-death_of_a_salesman</td>\n",
       "      <td>Death of a Salesman</td>\n",
       "      <td>75</td>\n",
       "      <td>100</td>\n",
       "      <td>NaN</td>\n",
       "      <td>NaT</td>\n",
       "      <td>2016-01-11</td>\n",
       "      <td>135.0</td>\n",
       "      <td>Drama</td>\n",
       "      <td>Volker SchlÃ¶ndorff</td>\n",
       "      <td>NaN</td>\n",
       "    </tr>\n",
       "    <tr>\n",
       "      <th>...</th>\n",
       "      <td>...</td>\n",
       "      <td>...</td>\n",
       "      <td>...</td>\n",
       "      <td>...</td>\n",
       "      <td>...</td>\n",
       "      <td>...</td>\n",
       "      <td>...</td>\n",
       "      <td>...</td>\n",
       "      <td>...</td>\n",
       "      <td>...</td>\n",
       "      <td>...</td>\n",
       "    </tr>\n",
       "    <tr>\n",
       "      <th>143227</th>\n",
       "      <td>chromophobia</td>\n",
       "      <td>Chromophobia</td>\n",
       "      <td>53</td>\n",
       "      <td>31</td>\n",
       "      <td>NaN</td>\n",
       "      <td>NaT</td>\n",
       "      <td>NaT</td>\n",
       "      <td>136.0</td>\n",
       "      <td>Drama</td>\n",
       "      <td>Martha Fiennes</td>\n",
       "      <td>NaN</td>\n",
       "    </tr>\n",
       "    <tr>\n",
       "      <th>143236</th>\n",
       "      <td>comic_book_confidential</td>\n",
       "      <td>Comic Book Confidential</td>\n",
       "      <td>62</td>\n",
       "      <td>75</td>\n",
       "      <td>NaN</td>\n",
       "      <td>NaT</td>\n",
       "      <td>2002-07-23</td>\n",
       "      <td>90.0</td>\n",
       "      <td>Documentary</td>\n",
       "      <td>Ron Mann</td>\n",
       "      <td>NaN</td>\n",
       "    </tr>\n",
       "    <tr>\n",
       "      <th>143247</th>\n",
       "      <td>summering</td>\n",
       "      <td>Summering</td>\n",
       "      <td>40</td>\n",
       "      <td>34</td>\n",
       "      <td>PG-13</td>\n",
       "      <td>2022-08-12</td>\n",
       "      <td>NaT</td>\n",
       "      <td>87.0</td>\n",
       "      <td>Drama</td>\n",
       "      <td>James Ponsoldt</td>\n",
       "      <td>$55.9K</td>\n",
       "    </tr>\n",
       "    <tr>\n",
       "      <th>143250</th>\n",
       "      <td>fun_size</td>\n",
       "      <td>Fun Size</td>\n",
       "      <td>47</td>\n",
       "      <td>25</td>\n",
       "      <td>PG-13</td>\n",
       "      <td>2012-10-26</td>\n",
       "      <td>2013-02-19</td>\n",
       "      <td>86.0</td>\n",
       "      <td>Holiday, Comedy</td>\n",
       "      <td>Josh Schwartz</td>\n",
       "      <td>$9.4M</td>\n",
       "    </tr>\n",
       "    <tr>\n",
       "      <th>143255</th>\n",
       "      <td>the-human-body</td>\n",
       "      <td>The Human Body</td>\n",
       "      <td>71</td>\n",
       "      <td>89</td>\n",
       "      <td>NaN</td>\n",
       "      <td>NaT</td>\n",
       "      <td>NaT</td>\n",
       "      <td>43.0</td>\n",
       "      <td>Documentary</td>\n",
       "      <td>Peter Georgi</td>\n",
       "      <td>NaN</td>\n",
       "    </tr>\n",
       "  </tbody>\n",
       "</table>\n",
       "<p>22339 rows × 11 columns</p>\n",
       "</div>"
      ],
      "text/plain": [
       "                                 id  \\\n",
       "5                       adrift_2018   \n",
       "9              1035316-born_to_kill   \n",
       "13               leap_of_faith_2019   \n",
       "20           sarah_palin_you_betcha   \n",
       "21      1005521-death_of_a_salesman   \n",
       "...                             ...   \n",
       "143227                 chromophobia   \n",
       "143236      comic_book_confidential   \n",
       "143247                    summering   \n",
       "143250                     fun_size   \n",
       "143255               the-human-body   \n",
       "\n",
       "                                                  title  \\\n",
       "5                                                Adrift   \n",
       "9                                          Born to Kill   \n",
       "13      Leap of Faith: William Friedkin on The Exorcist   \n",
       "20                             Sarah Palin: You Betcha!   \n",
       "21                                  Death of a Salesman   \n",
       "...                                                 ...   \n",
       "143227                                     Chromophobia   \n",
       "143236                          Comic Book Confidential   \n",
       "143247                                        Summering   \n",
       "143250                                         Fun Size   \n",
       "143255                                   The Human Body   \n",
       "\n",
       "        audience_score_kaggle  critic_score_kaggle rating releaseDateTheaters  \\\n",
       "5                          65                   69  PG-13          2018-06-01   \n",
       "9                          74                   83    NaN          1947-04-30   \n",
       "13                         86                   93    NaN                 NaT   \n",
       "20                         61                   32    NaN          2011-09-30   \n",
       "21                         75                  100    NaN                 NaT   \n",
       "...                       ...                  ...    ...                 ...   \n",
       "143227                     53                   31    NaN                 NaT   \n",
       "143236                     62                   75    NaN                 NaT   \n",
       "143247                     40                   34  PG-13          2022-08-12   \n",
       "143250                     47                   25  PG-13          2012-10-26   \n",
       "143255                     71                   89    NaN                 NaT   \n",
       "\n",
       "       releaseDateStreaming  runtimeMinutes                            genre  \\\n",
       "5                2018-08-21           120.0        Adventure, Drama, Romance   \n",
       "9                2016-05-23            92.0                     Crime, Drama   \n",
       "13               2020-11-19           104.0  Documentary, Mystery & thriller   \n",
       "20               2017-03-08            90.0                      Documentary   \n",
       "21               2016-01-11           135.0                            Drama   \n",
       "...                     ...             ...                              ...   \n",
       "143227                  NaT           136.0                            Drama   \n",
       "143236           2002-07-23            90.0                      Documentary   \n",
       "143247                  NaT            87.0                            Drama   \n",
       "143250           2013-02-19            86.0                  Holiday, Comedy   \n",
       "143255                  NaT            43.0                      Documentary   \n",
       "\n",
       "                              director boxOffice  \n",
       "5                   Baltasar KormÃ¡kur    $31.4M  \n",
       "9                          Robert Wise       NaN  \n",
       "13               Alexandre O. Philippe       NaN  \n",
       "20      Nick Broomfield,Joan Churchill    $10.5K  \n",
       "21                 Volker SchlÃ¶ndorff       NaN  \n",
       "...                                ...       ...  \n",
       "143227                  Martha Fiennes       NaN  \n",
       "143236                        Ron Mann       NaN  \n",
       "143247                  James Ponsoldt    $55.9K  \n",
       "143250                   Josh Schwartz     $9.4M  \n",
       "143255                    Peter Georgi       NaN  \n",
       "\n",
       "[22339 rows x 11 columns]"
      ]
     },
     "execution_count": 6,
     "metadata": {},
     "output_type": "execute_result"
    }
   ],
   "source": [
    "rotten_tomatoes_kaggle_final = rotten_tomatoes_drop_duplicates.drop(['ratingContents', 'originalLanguage', 'writer', 'distributor', 'soundMix'], axis=1)\n",
    "rotten_tomatoes_kaggle_final = rotten_tomatoes_kaggle_final.rename(columns={'audienceScore': 'audience_score_kaggle', 'tomatoMeter': 'critic_score_kaggle'})\n",
    "rotten_tomatoes_kaggle_final['critic_score_kaggle'] = rotten_tomatoes_kaggle_final['critic_score_kaggle'].astype(int)\n",
    "rotten_tomatoes_kaggle_final['audience_score_kaggle'] = rotten_tomatoes_kaggle_final['audience_score_kaggle'].astype(int)\n",
    "rotten_tomatoes_kaggle_final"
   ]
  },
  {
   "cell_type": "code",
   "execution_count": 7,
   "id": "999e78c3-d216-4bed-aef8-6b023cdea17b",
   "metadata": {},
   "outputs": [
    {
     "data": {
      "text/plain": [
       "(Timestamp('2023-04-07 00:00:00'), Timestamp('2023-05-09 00:00:00'))"
      ]
     },
     "execution_count": 7,
     "metadata": {},
     "output_type": "execute_result"
    }
   ],
   "source": [
    "max_theater = rotten_tomatoes_kaggle_final['releaseDateTheaters'].max()\n",
    "max_streaming = rotten_tomatoes_kaggle_final['releaseDateStreaming'].max()\n",
    "max_theater, max_streaming"
   ]
  },
  {
   "cell_type": "code",
   "execution_count": 8,
   "id": "6da89365-6963-4e64-87f6-8223bb53e33e",
   "metadata": {},
   "outputs": [
    {
     "data": {
      "text/plain": [
       "(Timestamp('1915-09-13 00:00:00'), Timestamp('1970-04-26 00:00:00'))"
      ]
     },
     "execution_count": 8,
     "metadata": {},
     "output_type": "execute_result"
    }
   ],
   "source": [
    "min_theater = rotten_tomatoes_kaggle_final['releaseDateTheaters'].min()\n",
    "min_streaming = rotten_tomatoes_kaggle_final['releaseDateStreaming'].min()\n",
    "min_theater, min_streaming"
   ]
  },
  {
   "cell_type": "markdown",
   "id": "102b2c98-17a8-48e8-96a0-47a974044abc",
   "metadata": {
    "jp-MarkdownHeadingCollapsed": true
   },
   "source": [
    "# Reddit dataset, 1970-2024"
   ]
  },
  {
   "cell_type": "code",
   "execution_count": 9,
   "id": "9efc4b74-d4af-4ec9-9a30-485e2b0919be",
   "metadata": {},
   "outputs": [],
   "source": [
    "rotten_tomatoes_reddit = pd.read_excel('../data/movie_info_reddit.xlsx')"
   ]
  },
  {
   "cell_type": "code",
   "execution_count": 10,
   "id": "aa103d74-f14f-42bf-aea6-06f964c3d205",
   "metadata": {},
   "outputs": [],
   "source": [
    "rotten_tomatoes_reddit = rotten_tomatoes_reddit.drop(['concat column', 'difference', 'id'], axis=1)"
   ]
  },
  {
   "cell_type": "code",
   "execution_count": 11,
   "id": "a5b946d9-84f6-4e11-ab93-b37c766d867f",
   "metadata": {},
   "outputs": [],
   "source": [
    "rotten_tomatoes_reddit_dropna = rotten_tomatoes_reddit[(rotten_tomatoes_reddit['audience_score'].notna()) & (rotten_tomatoes_reddit['critic_score'].notna())]"
   ]
  },
  {
   "cell_type": "code",
   "execution_count": 12,
   "id": "88aaf946-0ccb-432b-be8b-45f5f5f93acb",
   "metadata": {},
   "outputs": [],
   "source": [
    "def url_id(link):\n",
    "    standard_id = link.split('/')[-1]\n",
    "    return standard_id"
   ]
  },
  {
   "cell_type": "code",
   "execution_count": 13,
   "id": "a5208c6c-f33b-4a30-9dca-e61f8f2114e5",
   "metadata": {},
   "outputs": [
    {
     "name": "stderr",
     "output_type": "stream",
     "text": [
      "C:\\Users\\amand\\AppData\\Local\\Temp\\ipykernel_13160\\2867314043.py:1: SettingWithCopyWarning: \n",
      "A value is trying to be set on a copy of a slice from a DataFrame.\n",
      "Try using .loc[row_indexer,col_indexer] = value instead\n",
      "\n",
      "See the caveats in the documentation: https://pandas.pydata.org/pandas-docs/stable/user_guide/indexing.html#returning-a-view-versus-a-copy\n",
      "  rotten_tomatoes_reddit_dropna['id'] = rotten_tomatoes_reddit_dropna['url'].apply(url_id)\n"
     ]
    }
   ],
   "source": [
    "rotten_tomatoes_reddit_dropna['id'] = rotten_tomatoes_reddit_dropna['url'].apply(url_id)"
   ]
  },
  {
   "cell_type": "code",
   "execution_count": 14,
   "id": "62d657bd-1684-4ca3-a9c4-8ea135ef0093",
   "metadata": {},
   "outputs": [],
   "source": [
    "rotten_tomatoes_reddit_drop_duplicates = rotten_tomatoes_reddit_dropna.drop_duplicates(subset=['title', 'critic_score', 'audience_score', 'id'], keep='first')"
   ]
  },
  {
   "cell_type": "code",
   "execution_count": 15,
   "id": "f5fefb6b-3067-4d1b-9afa-a239493f4bcb",
   "metadata": {},
   "outputs": [
    {
     "data": {
      "text/html": [
       "<div>\n",
       "<style scoped>\n",
       "    .dataframe tbody tr th:only-of-type {\n",
       "        vertical-align: middle;\n",
       "    }\n",
       "\n",
       "    .dataframe tbody tr th {\n",
       "        vertical-align: top;\n",
       "    }\n",
       "\n",
       "    .dataframe thead th {\n",
       "        text-align: right;\n",
       "    }\n",
       "</style>\n",
       "<table border=\"1\" class=\"dataframe\">\n",
       "  <thead>\n",
       "    <tr style=\"text-align: right;\">\n",
       "      <th></th>\n",
       "      <th>id</th>\n",
       "      <th>title</th>\n",
       "      <th>critic_score</th>\n",
       "      <th>audience_score</th>\n",
       "      <th>release_date_clean</th>\n",
       "    </tr>\n",
       "  </thead>\n",
       "  <tbody>\n",
       "    <tr>\n",
       "      <th>0</th>\n",
       "      <td>love_story</td>\n",
       "      <td>Love Story</td>\n",
       "      <td>63</td>\n",
       "      <td>75</td>\n",
       "      <td>Dec 16, 1970</td>\n",
       "    </tr>\n",
       "    <tr>\n",
       "      <th>1</th>\n",
       "      <td>airport</td>\n",
       "      <td>Airport</td>\n",
       "      <td>75</td>\n",
       "      <td>54</td>\n",
       "      <td>Apr 5, 1970</td>\n",
       "    </tr>\n",
       "    <tr>\n",
       "      <th>2</th>\n",
       "      <td>aristocats</td>\n",
       "      <td>The Aristocats</td>\n",
       "      <td>64</td>\n",
       "      <td>70</td>\n",
       "      <td>Dec 24, 1970</td>\n",
       "    </tr>\n",
       "    <tr>\n",
       "      <th>3</th>\n",
       "      <td>little_big_man</td>\n",
       "      <td>Little Big Man</td>\n",
       "      <td>91</td>\n",
       "      <td>87</td>\n",
       "      <td>Dec 14, 1970</td>\n",
       "    </tr>\n",
       "    <tr>\n",
       "      <th>4</th>\n",
       "      <td>ryans_daughter</td>\n",
       "      <td>Ryan's Daughter</td>\n",
       "      <td>47</td>\n",
       "      <td>73</td>\n",
       "      <td>Nov 9, 1970</td>\n",
       "    </tr>\n",
       "    <tr>\n",
       "      <th>...</th>\n",
       "      <td>...</td>\n",
       "      <td>...</td>\n",
       "      <td>...</td>\n",
       "      <td>...</td>\n",
       "      <td>...</td>\n",
       "    </tr>\n",
       "    <tr>\n",
       "      <th>11600</th>\n",
       "      <td>divine_madness</td>\n",
       "      <td>Divine Madness</td>\n",
       "      <td>100</td>\n",
       "      <td>90</td>\n",
       "      <td>1980</td>\n",
       "    </tr>\n",
       "    <tr>\n",
       "      <th>11601</th>\n",
       "      <td>freuds_last_session</td>\n",
       "      <td>Freud's Last Session</td>\n",
       "      <td>45</td>\n",
       "      <td>72</td>\n",
       "      <td>Jan 19</td>\n",
       "    </tr>\n",
       "    <tr>\n",
       "      <th>11602</th>\n",
       "      <td>thin_blue_line</td>\n",
       "      <td>The Thin Blue Line</td>\n",
       "      <td>100</td>\n",
       "      <td>90</td>\n",
       "      <td>Aug 25, 1988</td>\n",
       "    </tr>\n",
       "    <tr>\n",
       "      <th>11603</th>\n",
       "      <td>i_was_born_but</td>\n",
       "      <td>I Was Born, But ...</td>\n",
       "      <td>100</td>\n",
       "      <td>90</td>\n",
       "      <td>1932</td>\n",
       "    </tr>\n",
       "    <tr>\n",
       "      <th>11604</th>\n",
       "      <td>sound_city</td>\n",
       "      <td>Sound City</td>\n",
       "      <td>100</td>\n",
       "      <td>90</td>\n",
       "      <td>Feb 1, 2013</td>\n",
       "    </tr>\n",
       "  </tbody>\n",
       "</table>\n",
       "<p>8462 rows × 5 columns</p>\n",
       "</div>"
      ],
      "text/plain": [
       "                        id                 title  critic_score  \\\n",
       "0               love_story            Love Story            63   \n",
       "1                  airport               Airport            75   \n",
       "2               aristocats        The Aristocats            64   \n",
       "3           little_big_man        Little Big Man            91   \n",
       "4           ryans_daughter       Ryan's Daughter            47   \n",
       "...                    ...                   ...           ...   \n",
       "11600       divine_madness        Divine Madness           100   \n",
       "11601  freuds_last_session  Freud's Last Session            45   \n",
       "11602       thin_blue_line    The Thin Blue Line           100   \n",
       "11603       i_was_born_but   I Was Born, But ...           100   \n",
       "11604           sound_city            Sound City           100   \n",
       "\n",
       "       audience_score release_date_clean  \n",
       "0                  75       Dec 16, 1970  \n",
       "1                  54        Apr 5, 1970  \n",
       "2                  70       Dec 24, 1970  \n",
       "3                  87       Dec 14, 1970  \n",
       "4                  73        Nov 9, 1970  \n",
       "...               ...                ...  \n",
       "11600              90               1980  \n",
       "11601              72             Jan 19  \n",
       "11602              90       Aug 25, 1988  \n",
       "11603              90               1932  \n",
       "11604              90        Feb 1, 2013  \n",
       "\n",
       "[8462 rows x 5 columns]"
      ]
     },
     "execution_count": 15,
     "metadata": {},
     "output_type": "execute_result"
    }
   ],
   "source": [
    "rotten_tomatoes_reddit_final = rotten_tomatoes_reddit_drop_duplicates.drop(['url'], axis=1) #drop url column\n",
    "rotten_tomatoes_reddit_final = rotten_tomatoes_reddit_final[['id', 'title', 'release_date', 'critic_score', 'audience_score']] #keep relevant columns\n",
    "rotten_tomatoes_reddit_final['critic_score'] = rotten_tomatoes_reddit_final['critic_score']*100 #convert from hundredths to hundreds\n",
    "rotten_tomatoes_reddit_final['audience_score'] = rotten_tomatoes_reddit_final['audience_score']*100 #convert from hundredths to hundreds\n",
    "rotten_tomatoes_reddit_final['critic_score'] = rotten_tomatoes_reddit_final['critic_score'].astype(int) #change to integer and convert to whole numbers\n",
    "rotten_tomatoes_reddit_final['audience_score'] = rotten_tomatoes_reddit_final['audience_score'].astype(int) #change to integer and convert to whole numbers\n",
    "rotten_tomatoes_reddit_final['release_date'] = rotten_tomatoes_reddit_final['release_date'].astype(str) #change type to string in order to edit string \n",
    "rotten_tomatoes_reddit_final['release_date_clean'] = rotten_tomatoes_reddit_final['release_date'].str.replace('Released', '') #removed 'Released' from column\n",
    "rotten_tomatoes_reddit_final = rotten_tomatoes_reddit_final.drop(['release_date'], axis=1) #dropped old release_date column\n",
    "rotten_tomatoes_reddit_final"
   ]
  },
  {
   "cell_type": "markdown",
   "id": "8f1f818a-87be-4cfb-a0d3-4c2ec7dcff61",
   "metadata": {
    "jp-MarkdownHeadingCollapsed": true
   },
   "source": [
    "# Webscrape dataset, streaming in 2025"
   ]
  },
  {
   "cell_type": "code",
   "execution_count": 16,
   "id": "6531b5e3-a7aa-461b-a5cd-54d883cc8bb0",
   "metadata": {},
   "outputs": [],
   "source": [
    "rotten_tomatoes_webscrape_critic_splat = pd.read_excel('../data/critic_splat.xlsx')\n",
    "rotten_tomatoes_webscrape_audience_splat = pd.read_excel('../data/audience_splat.xlsx')"
   ]
  },
  {
   "cell_type": "code",
   "execution_count": 17,
   "id": "52c009b2-46ba-414e-a079-614058b334c2",
   "metadata": {},
   "outputs": [],
   "source": [
    "movie_links_critic_splat_list = ['/m/a_working_man', '/m/where_the_crawdads_sing', '/m/it_ends_with_us', '/m/aladdin', '/m/i_still_believe', '/m/the_super_mario_bros_movie', '/m/uncharted_2022', '/m/sound_of_freedom', '/m/godzilla_x_kong_the_new_empire', '/m/midway_2019', '/m/transformers_rise_of_the_beasts', '/m/the_unbreakable_boy', '/m/clifford_the_big_red_dog', '/m/red_one', '/m/harold_and_the_purple_crayon', '/m/nefarious_2023', '/m/maleficent_mistress_of_evil', '/m/redeeming_love', '/m/the_boys_in_the_boat', '/m/the_art_of_racing_in_the_rain', '/m/reagan_2024', '/m/champions_2022', '/m/bob_marley_one_love', '/m/am_i_racist', '/m/angel_has_fallen', '/m/someone_like_you_2024', '/m/the_girl_who_believes_in_miracles', '/m/whitney_houston_i_wanna_dance_with_somebody', '/m/jesus_revolution', '/m/21_bridges', '/m/black_and_blue_2019', '/m/spirit_untamed', '/m/shaft_2019', '/m/overcomer', '/m/here_today_2021', '/m/no_safe_spaces', '/m/todos_caen']"
   ]
  },
  {
   "cell_type": "code",
   "execution_count": 18,
   "id": "31a762c5-2fc8-47a0-b903-605219c7dda3",
   "metadata": {},
   "outputs": [],
   "source": [
    "movie_links_audience_splat_list = ['/m/the_new_boy', '/m/babygirl_2024', '/m/presence_2024', '/m/the_damned_2024_2', '/m/the_monkey', '/m/star_wars_the_last_jedi', '/m/carry_on', '/m/cuckoo_2024', '/m/arcadian', '/m/leave_the_world_behind_2023', '/m/captain_marvel', '/m/bring_them_down', '/m/emilia_perez', '/m/in_a_violent_nature', '/m/get_away', '/m/things_will_be_different', '/m/war_of_the_worlds', '/m/caveat_2021', '/m/uncut_gems', '/m/mulan_2020', '/m/the_lodge', '/m/ad_astra', '/m/1922_2017', '/m/the_lost_daughter', '/m/no_one_will_save_you', '/m/v_h_s_beyond', '/m/coming_home_in_the_dark', '/m/it_comes_at_night', '/m/high_life_2019', '/m/the_green_knight', '/m/rumours', '/m/the_lost_city_of_z', '/m/infinity_pool_2023', '/m/under_the_skin_2013', '/m/tuesday_2023', '/m/sausage_party', '/m/fair_play_2023', '/m/no_sudden_move', '/m/the_night_eats_the_world', '/m/shadow_in_the_cloud', '/m/cam', '/m/indiana_jones_and_the_kingdom_of_the_crystal_skull', '/m/alone_2020_2', '/m/i_care_a_lot', '/m/blair_witch_project', '/m/disappearance_at_clifton_hill', '/m/king_kong', '/m/1208173-splice', '/m/spy_kids', '/m/stopmotion', '/m/orion_and_the_dark', '/m/apostle_2018', '/m/im_thinking_of_ending_things', '/m/charlie_and_the_chocolate_factory', '/m/eileen', '/m/maestro_2023', '/m/between_the_temples', '/m/we_are_what_we_are_2013', '/m/the_little_hours', '/m/da_5_bloods', '/m/tale_of_tales', '/m/porno_2020', '/m/the_perfection', '/m/beowulf', '/m/backcountry', '/m/colossal', '/m/don_jon', '/m/relic', '/m/the_two_faces_of_january', '/m/piranha_3d', '/m/space_cowboys', '/m/personal_shopper', '/m/the_bfg_2016', '/m/everything_must_go', '/m/land_of_the_dead', '/m/spencer_2021', '/m/1057637-jungle_book', '/m/something_in_the_dirt', '/m/while_were_young', '/m/true_things']"
   ]
  },
  {
   "cell_type": "code",
   "execution_count": 19,
   "id": "b00e992b-073a-4f74-96ff-e1622b0b68b6",
   "metadata": {},
   "outputs": [],
   "source": [
    "#make id column - audience_splat\n",
    "id_audience_splat_list = [link.replace('/m/','') for link in movie_links_audience_splat_list]\n",
    "rotten_tomatoes_webscrape_audience_splat['id'] = id_audience_splat_list"
   ]
  },
  {
   "cell_type": "code",
   "execution_count": 20,
   "id": "41ec1ee5-b1ad-4683-bff2-b74b82192e4c",
   "metadata": {},
   "outputs": [],
   "source": [
    "#make id column - critic_splat\n",
    "id_critic_splat_list = [link.replace('/m/','') for link in movie_links_critic_splat_list]\n",
    "rotten_tomatoes_webscrape_critic_splat['id'] = id_critic_splat_list"
   ]
  },
  {
   "cell_type": "code",
   "execution_count": 21,
   "id": "21e17fdf-2f08-4a6b-9908-4fad3786e294",
   "metadata": {},
   "outputs": [],
   "source": [
    "rt_critic_splat = rotten_tomatoes_webscrape_critic_splat.drop(['Unnamed: 0', 'No. Critic Reviews', 'No. Audience Reviews'], axis=1) #drop url column\n",
    "rt_critic_splat['Release Date'] = rt_critic_splat['Release Date'].astype(str) #change type to string in order to edit string \n",
    "rt_critic_splat['Release Date'] = rt_critic_splat['Release Date'].str.replace('Released', '')\n",
    "rt_critic_splat['Critic Score'] = rt_critic_splat['Critic Score'].str.replace('%', '')\n",
    "rt_critic_splat['Critic Score'] = pd.to_numeric(rt_critic_splat['Critic Score'], errors='coerce')\n",
    "rt_critic_splat['Critic Score'] = rt_critic_splat['Critic Score'].astype(int)\n",
    "rt_critic_splat['Audience Score'] = rt_critic_splat['Audience Score'].str.replace('%', '')\n",
    "rt_critic_splat['Audience Score'] = pd.to_numeric(rt_critic_splat['Audience Score'], errors='coerce')\n",
    "rt_critic_splat['Audience Score'] = rt_critic_splat['Audience Score'].astype(int)"
   ]
  },
  {
   "cell_type": "code",
   "execution_count": 22,
   "id": "2231ce3a-f7a3-4d02-bac8-27cd8a39032d",
   "metadata": {},
   "outputs": [],
   "source": [
    "def time_to_minutes(time_str):\n",
    "    parts = time_str.split('h')\n",
    "    hours = int(parts[0]) if parts[0] else 0\n",
    "    minutes = int(parts[1].replace('m', '')) if len(parts) > 1 and parts[1].replace('m', '') else 0\n",
    "    total_minutes = hours * 60 + minutes\n",
    "    return total_minutes"
   ]
  },
  {
   "cell_type": "code",
   "execution_count": 23,
   "id": "bb4e448c-b285-4df6-9ad5-b862bbe3d8d1",
   "metadata": {},
   "outputs": [],
   "source": [
    "rt_critic_splat['Move Length'] = rt_critic_splat['Move Length'].apply(time_to_minutes)"
   ]
  },
  {
   "cell_type": "code",
   "execution_count": 24,
   "id": "f9f1f91c-e294-4c74-bb54-a29fbcbcd043",
   "metadata": {},
   "outputs": [],
   "source": [
    "rt_critic_splat = rt_critic_splat.rename(columns={'Movie': 'Title', 'Critic Score': 'critic_score_2025', 'Audience Score': 'audience_score_2025', 'Move Length': 'runtime_minutes'})\n",
    "rt_critic_splat = rt_critic_splat[['id', 'Title', 'critic_score_2025', 'audience_score_2025', 'Genre', 'Rating', 'Release Date', 'runtime_minutes']]"
   ]
  },
  {
   "cell_type": "code",
   "execution_count": 25,
   "id": "2fb5caa8-5476-48f3-8250-a250374d1957",
   "metadata": {},
   "outputs": [],
   "source": [
    "rt_audience_splat = rotten_tomatoes_webscrape_audience_splat.drop(['Unnamed: 0', 'No. Critic Reviews', 'No. Audience Reviews'], axis=1) #drop url column\n",
    "rt_audience_splat['Release Date'] = rt_audience_splat['Release Date'].astype(str) #change type to string in order to edit string \n",
    "rt_audience_splat['Release Date'] = rt_audience_splat['Release Date'].str.replace('Released', '')\n",
    "rt_audience_splat['Critic Score'] = rt_audience_splat['Critic Score'].str.replace('%', '')\n",
    "rt_audience_splat['Critic Score'] = pd.to_numeric(rt_audience_splat['Critic Score'], errors='coerce')\n",
    "rt_audience_splat['Critic Score'] = rt_audience_splat['Critic Score'].astype(int)\n",
    "rt_audience_splat['Audience Score'] = rt_audience_splat['Audience Score'].str.replace('%', '')\n",
    "rt_audience_splat['Audience Score'] = pd.to_numeric(rt_audience_splat['Audience Score'], errors='coerce')\n",
    "rt_audience_splat['Audience Score'] = rt_audience_splat['Audience Score'].astype(int)"
   ]
  },
  {
   "cell_type": "code",
   "execution_count": 26,
   "id": "0890d72e-1b0b-41ab-b25a-ccdaf870b480",
   "metadata": {},
   "outputs": [],
   "source": [
    "rt_audience_splat['Move Length'] = rt_audience_splat['Move Length'].apply(time_to_minutes)"
   ]
  },
  {
   "cell_type": "code",
   "execution_count": 27,
   "id": "dab2935c-25c8-402f-bb76-9072a5cabd7e",
   "metadata": {},
   "outputs": [],
   "source": [
    "rt_audience_splat = rt_audience_splat.rename(columns={'Movie': 'Title', 'Critic Score': 'critic_score_2025', 'Audience Score': 'audience_score_2025', 'Move Length': 'runtime_minutes'})\n",
    "rt_audience_splat = rt_audience_splat[['id', 'Title', 'critic_score_2025', 'audience_score_2025', 'Genre', 'Rating', 'Release Date', 'runtime_minutes']]"
   ]
  },
  {
   "cell_type": "code",
   "execution_count": 28,
   "id": "ad321156-b214-4165-a488-61c89cbaeea5",
   "metadata": {},
   "outputs": [],
   "source": [
    "rt_splat_master = pd.concat([rt_audience_splat, rt_critic_splat])"
   ]
  },
  {
   "cell_type": "code",
   "execution_count": 29,
   "id": "315130c9-8ccd-4b9a-8df4-007ecf99d77a",
   "metadata": {},
   "outputs": [
    {
     "name": "stdout",
     "output_type": "stream",
     "text": [
      "<class 'pandas.core.frame.DataFrame'>\n",
      "Index: 117 entries, 0 to 36\n",
      "Data columns (total 8 columns):\n",
      " #   Column               Non-Null Count  Dtype \n",
      "---  ------               --------------  ----- \n",
      " 0   id                   117 non-null    object\n",
      " 1   Title                117 non-null    object\n",
      " 2   critic_score_2025    117 non-null    int32 \n",
      " 3   audience_score_2025  117 non-null    int32 \n",
      " 4   Genre                117 non-null    object\n",
      " 5   Rating               117 non-null    object\n",
      " 6   Release Date         117 non-null    object\n",
      " 7   runtime_minutes      117 non-null    int64 \n",
      "dtypes: int32(2), int64(1), object(5)\n",
      "memory usage: 7.3+ KB\n"
     ]
    }
   ],
   "source": [
    "rt_splat_master.info()"
   ]
  },
  {
   "cell_type": "markdown",
   "id": "c8066684-8eaa-4459-b257-b78913ec72ca",
   "metadata": {},
   "source": [
    "# Merge, clean and create Final Rotten Tomatoes dataset"
   ]
  },
  {
   "cell_type": "code",
   "execution_count": 30,
   "id": "501ae423-9ac4-48d5-a003-18afada717fc",
   "metadata": {},
   "outputs": [],
   "source": [
    "#make id columns the same data type\n",
    "rotten_tomatoes_kaggle_final['id'] = rotten_tomatoes_kaggle_final['id'].astype(str)\n",
    "rotten_tomatoes_reddit_final['id']  = rotten_tomatoes_reddit_final['id'].astype(str)\n",
    "rt_splat_master['id'] = rt_splat_master['id'].astype(str)"
   ]
  },
  {
   "cell_type": "code",
   "execution_count": 31,
   "id": "ef2068a2-2dc6-446a-b12e-aa547152d649",
   "metadata": {},
   "outputs": [],
   "source": [
    "#merge two Rotten Tomatoes dataframes\n",
    "rotten_tomatoes_partial = pd.merge(rotten_tomatoes_kaggle_final, rotten_tomatoes_reddit_final, on='id', how='outer')\n",
    "rotten_tomatoes = pd.merge(rotten_tomatoes_partial, rt_splat_master, on='id', how='outer')"
   ]
  },
  {
   "cell_type": "code",
   "execution_count": 32,
   "id": "e073b1c3-1602-43c6-aee8-1b0f56504b95",
   "metadata": {},
   "outputs": [],
   "source": [
    "#combine titles\n",
    "rotten_tomatoes['title_x'] = rotten_tomatoes['title_x'].fillna(rotten_tomatoes['title_y'])\n",
    "rotten_tomatoes = rotten_tomatoes.drop(['title_y'], axis=1)\n",
    "rotten_tomatoes['title_x'] = rotten_tomatoes['title_x'].fillna(rotten_tomatoes['Title'])\n",
    "rotten_tomatoes = rotten_tomatoes.drop(['Title'], axis=1)"
   ]
  },
  {
   "cell_type": "code",
   "execution_count": 33,
   "id": "e6ad22a5-0618-4ca9-8d32-4c7d47b5da7e",
   "metadata": {},
   "outputs": [],
   "source": [
    "#combine genres\n",
    "rotten_tomatoes['genre'] = rotten_tomatoes['genre'].fillna(rotten_tomatoes['Genre'])\n",
    "rotten_tomatoes = rotten_tomatoes.drop(['Genre'], axis=1)"
   ]
  },
  {
   "cell_type": "code",
   "execution_count": 34,
   "id": "7bc58440-b82f-463d-ad03-5669fff4c5f5",
   "metadata": {},
   "outputs": [],
   "source": [
    "#combine runtimes\n",
    "rotten_tomatoes['runtimeMinutes'] = rotten_tomatoes['runtimeMinutes'].fillna(rotten_tomatoes['runtime_minutes'])\n",
    "rotten_tomatoes = rotten_tomatoes.drop(['runtime_minutes'], axis=1)"
   ]
  },
  {
   "cell_type": "code",
   "execution_count": 35,
   "id": "ad88604d-0f56-49da-b3c8-b863f762b0a3",
   "metadata": {},
   "outputs": [],
   "source": [
    "#combine ratings\n",
    "rotten_tomatoes['rating'] = rotten_tomatoes['rating'].fillna(rotten_tomatoes['Rating'])\n",
    "rotten_tomatoes = rotten_tomatoes.drop(['Rating'], axis=1)"
   ]
  },
  {
   "cell_type": "code",
   "execution_count": 36,
   "id": "5060256a-2bcd-4ccf-95e5-6b64a655fa24",
   "metadata": {},
   "outputs": [],
   "source": [
    "rotten_tomatoes = rotten_tomatoes.rename(columns={'title_x': 'title', 'audience_score_kaggle': 'audience_score_2023', 'critic_score_kaggle': 'critic_score_2023', 'critic_score': 'critic_score_2024', 'audience_score': 'audience_score_2024'})\n",
    "rotten_tomatoes = rotten_tomatoes[['id', 'title', 'critic_score_2023', 'critic_score_2024', 'critic_score_2025', 'audience_score_2023', 'audience_score_2024', 'audience_score_2025', 'runtimeMinutes', 'rating', 'genre', 'director', 'boxOffice', 'releaseDateTheaters', 'releaseDateStreaming', 'release_date_clean', 'Release Date']]"
   ]
  },
  {
   "cell_type": "code",
   "execution_count": 37,
   "id": "61f06cfa-da01-47e0-a409-759d6503b3a7",
   "metadata": {},
   "outputs": [],
   "source": [
    "rotten_tomatoes_export = 'rotten_tomatoes_export.xlsx'"
   ]
  },
  {
   "cell_type": "code",
   "execution_count": 38,
   "id": "f66d6832-c7f4-40b8-b56d-1c7ea8ddf80e",
   "metadata": {},
   "outputs": [],
   "source": [
    "rotten_tomatoes.to_excel(rotten_tomatoes_export)"
   ]
  },
  {
   "cell_type": "code",
   "execution_count": 39,
   "id": "5218936f-23a9-4b9a-a0c6-a7336c2c1275",
   "metadata": {},
   "outputs": [],
   "source": [
    "rotten_tomatoes_import = pd.read_excel('../data/rotten_tomatoes_import.xlsx')"
   ]
  },
  {
   "cell_type": "code",
   "execution_count": 41,
   "id": "c70fd8ea-135f-4519-80d1-1afee8192b2c",
   "metadata": {},
   "outputs": [],
   "source": [
    "rotten_tomatoes_final = rotten_tomatoes_import.drop(['Unnamed: 0'], axis=1)\n",
    "rotten_tomatoes_final['critic_score'] = rotten_tomatoes_final['critic_score'].fillna(rotten_tomatoes_final['critic_score_2024'])\n",
    "rotten_tomatoes_final['critic_score'] = rotten_tomatoes_final['critic_score'].fillna(rotten_tomatoes_final['critic_score_2023'])\n",
    "rotten_tomatoes_final['audience_score'] = rotten_tomatoes_final['audience_score'].fillna(rotten_tomatoes_final['audience_score_2024'])\n",
    "rotten_tomatoes_final['audience_score'] = rotten_tomatoes_final['audience_score'].fillna(rotten_tomatoes_final['audience_score_2023'])\n",
    "rotten_tomatoes_final['releaseDateTheaters'] = rotten_tomatoes_final['releaseDateTheaters'].fillna(rotten_tomatoes_final['Release_Date'])\n",
    "rotten_tomatoes_final['releaseDateTheaters'] = rotten_tomatoes_final['releaseDateTheaters'].fillna(rotten_tomatoes_final['release_date_clean'])"
   ]
  },
  {
   "cell_type": "code",
   "execution_count": 42,
   "id": "e695e773-44d8-4ce3-8eb3-81dfd25ba6b9",
   "metadata": {},
   "outputs": [],
   "source": [
    "rotten_tomatoes_final['releaseMonthTheaters'] = rotten_tomatoes_final['releaseDateTheaters'].dt.month\n",
    "rotten_tomatoes_final['releaseYearTheaters'] = rotten_tomatoes_final['releaseDateTheaters'].dt.year\n",
    "rotten_tomatoes_final['releaseMonthStreaming'] = rotten_tomatoes_final['releaseDateStreaming'].dt.month\n",
    "rotten_tomatoes_final['releaseYearStreaming'] = rotten_tomatoes_final['releaseDateStreaming'].dt.year"
   ]
  },
  {
   "cell_type": "code",
   "execution_count": 43,
   "id": "e94aab44-b5e7-4c26-a5ba-f43a9b144599",
   "metadata": {},
   "outputs": [],
   "source": [
    "rotten_tomatoes_final = rotten_tomatoes_final.drop(['Release_Date', 'release_date_clean'], axis=1)"
   ]
  },
  {
   "cell_type": "code",
   "execution_count": 44,
   "id": "2bbfc4e7-395f-4ca3-bc63-c13d0c420abf",
   "metadata": {},
   "outputs": [],
   "source": [
    "rotten_tomatoes_final_file = 'rotten_tomatoes_final.xlsx'\n",
    "rotten_tomatoes_final.to_excel(rotten_tomatoes_final_file)"
   ]
  },
  {
   "cell_type": "markdown",
   "id": "1ec62cda-f82d-4efc-9c03-d88bd2118f08",
   "metadata": {
    "jp-MarkdownHeadingCollapsed": true
   },
   "source": [
    "# Create directors dataset"
   ]
  },
  {
   "cell_type": "code",
   "execution_count": 45,
   "id": "040e57d6-34a2-470a-a19c-83db48a7ae01",
   "metadata": {},
   "outputs": [
    {
     "data": {
      "text/plain": [
       "'Angela Bettis,HÃ©lÃ¨ne Cattet,Ernesto DÃ\\xadaz Espinoza,Jason Eisener,Bruno Forzani,AdriÃ¡n GarcÃ\\xada Bogliano,Xavier Gens,Noboru Iguchi,Thomas Cappelen Malling,Jorge Michel Grau,Yoshihiro Nishimura,Banjong Pisanthanakun,Simon Rumley,Marcel Sarmiento,Jon Schnepp,Srdjan Spasojevic,Timo Tjahjanto,Andrew Traucki,Nacho Vigalondo,Jake West'"
      ]
     },
     "execution_count": 45,
     "metadata": {},
     "output_type": "execute_result"
    }
   ],
   "source": [
    "longest_director_index = rotten_tomatoes_final['director'].str.len().idxmax()\n",
    "longest_director = rotten_tomatoes_final['director'][longest_director_index]\n",
    "longest_director #19 commas"
   ]
  },
  {
   "cell_type": "code",
   "execution_count": 46,
   "id": "147e4a23-b8d7-4276-979d-fc6009df3ea6",
   "metadata": {},
   "outputs": [],
   "source": [
    "rotten_tomatoes_directors = rotten_tomatoes_final[['id', 'title', 'director']]"
   ]
  },
  {
   "cell_type": "code",
   "execution_count": 47,
   "id": "851d81ca-e3cd-41a6-8fa1-71b3c571d119",
   "metadata": {},
   "outputs": [
    {
     "name": "stderr",
     "output_type": "stream",
     "text": [
      "C:\\Users\\amand\\AppData\\Local\\Temp\\ipykernel_13160\\2750927327.py:1: SettingWithCopyWarning: \n",
      "A value is trying to be set on a copy of a slice from a DataFrame.\n",
      "Try using .loc[row_indexer,col_indexer] = value instead\n",
      "\n",
      "See the caveats in the documentation: https://pandas.pydata.org/pandas-docs/stable/user_guide/indexing.html#returning-a-view-versus-a-copy\n",
      "  rotten_tomatoes_directors[['director_1', 'director_2', 'director_3', 'director_4', 'director_5', 'director_6', 'director_7', 'director_8', 'director_9', 'director_10', 'director_11', 'director_12', 'director_13', 'director_14', 'director_15', 'director_16', 'director_17', 'director_18', 'director_19', 'director_20']] = rotten_tomatoes_directors['director'].str.split(',', expand=True)\n",
      "C:\\Users\\amand\\AppData\\Local\\Temp\\ipykernel_13160\\2750927327.py:1: SettingWithCopyWarning: \n",
      "A value is trying to be set on a copy of a slice from a DataFrame.\n",
      "Try using .loc[row_indexer,col_indexer] = value instead\n",
      "\n",
      "See the caveats in the documentation: https://pandas.pydata.org/pandas-docs/stable/user_guide/indexing.html#returning-a-view-versus-a-copy\n",
      "  rotten_tomatoes_directors[['director_1', 'director_2', 'director_3', 'director_4', 'director_5', 'director_6', 'director_7', 'director_8', 'director_9', 'director_10', 'director_11', 'director_12', 'director_13', 'director_14', 'director_15', 'director_16', 'director_17', 'director_18', 'director_19', 'director_20']] = rotten_tomatoes_directors['director'].str.split(',', expand=True)\n",
      "C:\\Users\\amand\\AppData\\Local\\Temp\\ipykernel_13160\\2750927327.py:1: SettingWithCopyWarning: \n",
      "A value is trying to be set on a copy of a slice from a DataFrame.\n",
      "Try using .loc[row_indexer,col_indexer] = value instead\n",
      "\n",
      "See the caveats in the documentation: https://pandas.pydata.org/pandas-docs/stable/user_guide/indexing.html#returning-a-view-versus-a-copy\n",
      "  rotten_tomatoes_directors[['director_1', 'director_2', 'director_3', 'director_4', 'director_5', 'director_6', 'director_7', 'director_8', 'director_9', 'director_10', 'director_11', 'director_12', 'director_13', 'director_14', 'director_15', 'director_16', 'director_17', 'director_18', 'director_19', 'director_20']] = rotten_tomatoes_directors['director'].str.split(',', expand=True)\n",
      "C:\\Users\\amand\\AppData\\Local\\Temp\\ipykernel_13160\\2750927327.py:1: SettingWithCopyWarning: \n",
      "A value is trying to be set on a copy of a slice from a DataFrame.\n",
      "Try using .loc[row_indexer,col_indexer] = value instead\n",
      "\n",
      "See the caveats in the documentation: https://pandas.pydata.org/pandas-docs/stable/user_guide/indexing.html#returning-a-view-versus-a-copy\n",
      "  rotten_tomatoes_directors[['director_1', 'director_2', 'director_3', 'director_4', 'director_5', 'director_6', 'director_7', 'director_8', 'director_9', 'director_10', 'director_11', 'director_12', 'director_13', 'director_14', 'director_15', 'director_16', 'director_17', 'director_18', 'director_19', 'director_20']] = rotten_tomatoes_directors['director'].str.split(',', expand=True)\n",
      "C:\\Users\\amand\\AppData\\Local\\Temp\\ipykernel_13160\\2750927327.py:1: SettingWithCopyWarning: \n",
      "A value is trying to be set on a copy of a slice from a DataFrame.\n",
      "Try using .loc[row_indexer,col_indexer] = value instead\n",
      "\n",
      "See the caveats in the documentation: https://pandas.pydata.org/pandas-docs/stable/user_guide/indexing.html#returning-a-view-versus-a-copy\n",
      "  rotten_tomatoes_directors[['director_1', 'director_2', 'director_3', 'director_4', 'director_5', 'director_6', 'director_7', 'director_8', 'director_9', 'director_10', 'director_11', 'director_12', 'director_13', 'director_14', 'director_15', 'director_16', 'director_17', 'director_18', 'director_19', 'director_20']] = rotten_tomatoes_directors['director'].str.split(',', expand=True)\n",
      "C:\\Users\\amand\\AppData\\Local\\Temp\\ipykernel_13160\\2750927327.py:1: SettingWithCopyWarning: \n",
      "A value is trying to be set on a copy of a slice from a DataFrame.\n",
      "Try using .loc[row_indexer,col_indexer] = value instead\n",
      "\n",
      "See the caveats in the documentation: https://pandas.pydata.org/pandas-docs/stable/user_guide/indexing.html#returning-a-view-versus-a-copy\n",
      "  rotten_tomatoes_directors[['director_1', 'director_2', 'director_3', 'director_4', 'director_5', 'director_6', 'director_7', 'director_8', 'director_9', 'director_10', 'director_11', 'director_12', 'director_13', 'director_14', 'director_15', 'director_16', 'director_17', 'director_18', 'director_19', 'director_20']] = rotten_tomatoes_directors['director'].str.split(',', expand=True)\n",
      "C:\\Users\\amand\\AppData\\Local\\Temp\\ipykernel_13160\\2750927327.py:1: SettingWithCopyWarning: \n",
      "A value is trying to be set on a copy of a slice from a DataFrame.\n",
      "Try using .loc[row_indexer,col_indexer] = value instead\n",
      "\n",
      "See the caveats in the documentation: https://pandas.pydata.org/pandas-docs/stable/user_guide/indexing.html#returning-a-view-versus-a-copy\n",
      "  rotten_tomatoes_directors[['director_1', 'director_2', 'director_3', 'director_4', 'director_5', 'director_6', 'director_7', 'director_8', 'director_9', 'director_10', 'director_11', 'director_12', 'director_13', 'director_14', 'director_15', 'director_16', 'director_17', 'director_18', 'director_19', 'director_20']] = rotten_tomatoes_directors['director'].str.split(',', expand=True)\n",
      "C:\\Users\\amand\\AppData\\Local\\Temp\\ipykernel_13160\\2750927327.py:1: SettingWithCopyWarning: \n",
      "A value is trying to be set on a copy of a slice from a DataFrame.\n",
      "Try using .loc[row_indexer,col_indexer] = value instead\n",
      "\n",
      "See the caveats in the documentation: https://pandas.pydata.org/pandas-docs/stable/user_guide/indexing.html#returning-a-view-versus-a-copy\n",
      "  rotten_tomatoes_directors[['director_1', 'director_2', 'director_3', 'director_4', 'director_5', 'director_6', 'director_7', 'director_8', 'director_9', 'director_10', 'director_11', 'director_12', 'director_13', 'director_14', 'director_15', 'director_16', 'director_17', 'director_18', 'director_19', 'director_20']] = rotten_tomatoes_directors['director'].str.split(',', expand=True)\n",
      "C:\\Users\\amand\\AppData\\Local\\Temp\\ipykernel_13160\\2750927327.py:1: SettingWithCopyWarning: \n",
      "A value is trying to be set on a copy of a slice from a DataFrame.\n",
      "Try using .loc[row_indexer,col_indexer] = value instead\n",
      "\n",
      "See the caveats in the documentation: https://pandas.pydata.org/pandas-docs/stable/user_guide/indexing.html#returning-a-view-versus-a-copy\n",
      "  rotten_tomatoes_directors[['director_1', 'director_2', 'director_3', 'director_4', 'director_5', 'director_6', 'director_7', 'director_8', 'director_9', 'director_10', 'director_11', 'director_12', 'director_13', 'director_14', 'director_15', 'director_16', 'director_17', 'director_18', 'director_19', 'director_20']] = rotten_tomatoes_directors['director'].str.split(',', expand=True)\n",
      "C:\\Users\\amand\\AppData\\Local\\Temp\\ipykernel_13160\\2750927327.py:1: SettingWithCopyWarning: \n",
      "A value is trying to be set on a copy of a slice from a DataFrame.\n",
      "Try using .loc[row_indexer,col_indexer] = value instead\n",
      "\n",
      "See the caveats in the documentation: https://pandas.pydata.org/pandas-docs/stable/user_guide/indexing.html#returning-a-view-versus-a-copy\n",
      "  rotten_tomatoes_directors[['director_1', 'director_2', 'director_3', 'director_4', 'director_5', 'director_6', 'director_7', 'director_8', 'director_9', 'director_10', 'director_11', 'director_12', 'director_13', 'director_14', 'director_15', 'director_16', 'director_17', 'director_18', 'director_19', 'director_20']] = rotten_tomatoes_directors['director'].str.split(',', expand=True)\n",
      "C:\\Users\\amand\\AppData\\Local\\Temp\\ipykernel_13160\\2750927327.py:1: SettingWithCopyWarning: \n",
      "A value is trying to be set on a copy of a slice from a DataFrame.\n",
      "Try using .loc[row_indexer,col_indexer] = value instead\n",
      "\n",
      "See the caveats in the documentation: https://pandas.pydata.org/pandas-docs/stable/user_guide/indexing.html#returning-a-view-versus-a-copy\n",
      "  rotten_tomatoes_directors[['director_1', 'director_2', 'director_3', 'director_4', 'director_5', 'director_6', 'director_7', 'director_8', 'director_9', 'director_10', 'director_11', 'director_12', 'director_13', 'director_14', 'director_15', 'director_16', 'director_17', 'director_18', 'director_19', 'director_20']] = rotten_tomatoes_directors['director'].str.split(',', expand=True)\n",
      "C:\\Users\\amand\\AppData\\Local\\Temp\\ipykernel_13160\\2750927327.py:1: SettingWithCopyWarning: \n",
      "A value is trying to be set on a copy of a slice from a DataFrame.\n",
      "Try using .loc[row_indexer,col_indexer] = value instead\n",
      "\n",
      "See the caveats in the documentation: https://pandas.pydata.org/pandas-docs/stable/user_guide/indexing.html#returning-a-view-versus-a-copy\n",
      "  rotten_tomatoes_directors[['director_1', 'director_2', 'director_3', 'director_4', 'director_5', 'director_6', 'director_7', 'director_8', 'director_9', 'director_10', 'director_11', 'director_12', 'director_13', 'director_14', 'director_15', 'director_16', 'director_17', 'director_18', 'director_19', 'director_20']] = rotten_tomatoes_directors['director'].str.split(',', expand=True)\n",
      "C:\\Users\\amand\\AppData\\Local\\Temp\\ipykernel_13160\\2750927327.py:1: SettingWithCopyWarning: \n",
      "A value is trying to be set on a copy of a slice from a DataFrame.\n",
      "Try using .loc[row_indexer,col_indexer] = value instead\n",
      "\n",
      "See the caveats in the documentation: https://pandas.pydata.org/pandas-docs/stable/user_guide/indexing.html#returning-a-view-versus-a-copy\n",
      "  rotten_tomatoes_directors[['director_1', 'director_2', 'director_3', 'director_4', 'director_5', 'director_6', 'director_7', 'director_8', 'director_9', 'director_10', 'director_11', 'director_12', 'director_13', 'director_14', 'director_15', 'director_16', 'director_17', 'director_18', 'director_19', 'director_20']] = rotten_tomatoes_directors['director'].str.split(',', expand=True)\n",
      "C:\\Users\\amand\\AppData\\Local\\Temp\\ipykernel_13160\\2750927327.py:1: SettingWithCopyWarning: \n",
      "A value is trying to be set on a copy of a slice from a DataFrame.\n",
      "Try using .loc[row_indexer,col_indexer] = value instead\n",
      "\n",
      "See the caveats in the documentation: https://pandas.pydata.org/pandas-docs/stable/user_guide/indexing.html#returning-a-view-versus-a-copy\n",
      "  rotten_tomatoes_directors[['director_1', 'director_2', 'director_3', 'director_4', 'director_5', 'director_6', 'director_7', 'director_8', 'director_9', 'director_10', 'director_11', 'director_12', 'director_13', 'director_14', 'director_15', 'director_16', 'director_17', 'director_18', 'director_19', 'director_20']] = rotten_tomatoes_directors['director'].str.split(',', expand=True)\n",
      "C:\\Users\\amand\\AppData\\Local\\Temp\\ipykernel_13160\\2750927327.py:1: SettingWithCopyWarning: \n",
      "A value is trying to be set on a copy of a slice from a DataFrame.\n",
      "Try using .loc[row_indexer,col_indexer] = value instead\n",
      "\n",
      "See the caveats in the documentation: https://pandas.pydata.org/pandas-docs/stable/user_guide/indexing.html#returning-a-view-versus-a-copy\n",
      "  rotten_tomatoes_directors[['director_1', 'director_2', 'director_3', 'director_4', 'director_5', 'director_6', 'director_7', 'director_8', 'director_9', 'director_10', 'director_11', 'director_12', 'director_13', 'director_14', 'director_15', 'director_16', 'director_17', 'director_18', 'director_19', 'director_20']] = rotten_tomatoes_directors['director'].str.split(',', expand=True)\n",
      "C:\\Users\\amand\\AppData\\Local\\Temp\\ipykernel_13160\\2750927327.py:1: SettingWithCopyWarning: \n",
      "A value is trying to be set on a copy of a slice from a DataFrame.\n",
      "Try using .loc[row_indexer,col_indexer] = value instead\n",
      "\n",
      "See the caveats in the documentation: https://pandas.pydata.org/pandas-docs/stable/user_guide/indexing.html#returning-a-view-versus-a-copy\n",
      "  rotten_tomatoes_directors[['director_1', 'director_2', 'director_3', 'director_4', 'director_5', 'director_6', 'director_7', 'director_8', 'director_9', 'director_10', 'director_11', 'director_12', 'director_13', 'director_14', 'director_15', 'director_16', 'director_17', 'director_18', 'director_19', 'director_20']] = rotten_tomatoes_directors['director'].str.split(',', expand=True)\n",
      "C:\\Users\\amand\\AppData\\Local\\Temp\\ipykernel_13160\\2750927327.py:1: SettingWithCopyWarning: \n",
      "A value is trying to be set on a copy of a slice from a DataFrame.\n",
      "Try using .loc[row_indexer,col_indexer] = value instead\n",
      "\n",
      "See the caveats in the documentation: https://pandas.pydata.org/pandas-docs/stable/user_guide/indexing.html#returning-a-view-versus-a-copy\n",
      "  rotten_tomatoes_directors[['director_1', 'director_2', 'director_3', 'director_4', 'director_5', 'director_6', 'director_7', 'director_8', 'director_9', 'director_10', 'director_11', 'director_12', 'director_13', 'director_14', 'director_15', 'director_16', 'director_17', 'director_18', 'director_19', 'director_20']] = rotten_tomatoes_directors['director'].str.split(',', expand=True)\n",
      "C:\\Users\\amand\\AppData\\Local\\Temp\\ipykernel_13160\\2750927327.py:1: SettingWithCopyWarning: \n",
      "A value is trying to be set on a copy of a slice from a DataFrame.\n",
      "Try using .loc[row_indexer,col_indexer] = value instead\n",
      "\n",
      "See the caveats in the documentation: https://pandas.pydata.org/pandas-docs/stable/user_guide/indexing.html#returning-a-view-versus-a-copy\n",
      "  rotten_tomatoes_directors[['director_1', 'director_2', 'director_3', 'director_4', 'director_5', 'director_6', 'director_7', 'director_8', 'director_9', 'director_10', 'director_11', 'director_12', 'director_13', 'director_14', 'director_15', 'director_16', 'director_17', 'director_18', 'director_19', 'director_20']] = rotten_tomatoes_directors['director'].str.split(',', expand=True)\n",
      "C:\\Users\\amand\\AppData\\Local\\Temp\\ipykernel_13160\\2750927327.py:1: SettingWithCopyWarning: \n",
      "A value is trying to be set on a copy of a slice from a DataFrame.\n",
      "Try using .loc[row_indexer,col_indexer] = value instead\n",
      "\n",
      "See the caveats in the documentation: https://pandas.pydata.org/pandas-docs/stable/user_guide/indexing.html#returning-a-view-versus-a-copy\n",
      "  rotten_tomatoes_directors[['director_1', 'director_2', 'director_3', 'director_4', 'director_5', 'director_6', 'director_7', 'director_8', 'director_9', 'director_10', 'director_11', 'director_12', 'director_13', 'director_14', 'director_15', 'director_16', 'director_17', 'director_18', 'director_19', 'director_20']] = rotten_tomatoes_directors['director'].str.split(',', expand=True)\n"
     ]
    }
   ],
   "source": [
    "rotten_tomatoes_directors[['director_1', 'director_2', 'director_3', 'director_4', 'director_5', 'director_6', 'director_7', 'director_8', 'director_9', 'director_10', 'director_11', 'director_12', 'director_13', 'director_14', 'director_15', 'director_16', 'director_17', 'director_18', 'director_19', 'director_20']] = rotten_tomatoes_directors['director'].str.split(',', expand=True)"
   ]
  },
  {
   "cell_type": "code",
   "execution_count": 48,
   "id": "0c58cac2-0f44-44d9-8e03-90d1b4ec1cea",
   "metadata": {},
   "outputs": [],
   "source": [
    "rotten_tomatoes_directors_file = 'rotten_tomatoes_directors.xlsx'\n",
    "rotten_tomatoes_directors.to_excel(rotten_tomatoes_directors_file)"
   ]
  },
  {
   "cell_type": "markdown",
   "id": "d7a8d574-ffb9-4167-8e11-7859ef19c8e7",
   "metadata": {
    "jp-MarkdownHeadingCollapsed": true
   },
   "source": [
    "# Create genres dataset"
   ]
  },
  {
   "cell_type": "code",
   "execution_count": 49,
   "id": "b747b6af-6153-4518-a35f-52ca30933f57",
   "metadata": {},
   "outputs": [
    {
     "data": {
      "text/plain": [
       "'Kids & family, Holiday, Adventure, Musical, Comedy, Fantasy, Animation'"
      ]
     },
     "execution_count": 49,
     "metadata": {},
     "output_type": "execute_result"
    }
   ],
   "source": [
    "longest_genre_index = rotten_tomatoes_final['genre'].str.len().idxmax()\n",
    "longest_genre = rotten_tomatoes_final['genre'][longest_genre_index]\n",
    "longest_genre #6 commas"
   ]
  },
  {
   "cell_type": "code",
   "execution_count": 50,
   "id": "54caa619-5b1d-4f54-8483-ecc4830577ef",
   "metadata": {},
   "outputs": [],
   "source": [
    "rotten_tomatoes_genre = rotten_tomatoes_final[['id', 'title', 'genre']]"
   ]
  },
  {
   "cell_type": "code",
   "execution_count": 51,
   "id": "5b68e830-051b-49f9-9cbc-8bc8640f29eb",
   "metadata": {},
   "outputs": [
    {
     "name": "stderr",
     "output_type": "stream",
     "text": [
      "C:\\Users\\amand\\AppData\\Local\\Temp\\ipykernel_13160\\425197104.py:1: SettingWithCopyWarning: \n",
      "A value is trying to be set on a copy of a slice from a DataFrame.\n",
      "Try using .loc[row_indexer,col_indexer] = value instead\n",
      "\n",
      "See the caveats in the documentation: https://pandas.pydata.org/pandas-docs/stable/user_guide/indexing.html#returning-a-view-versus-a-copy\n",
      "  rotten_tomatoes_genre[['genre_1', 'genre_2', 'genre_3', 'genre_4', 'genre_5', 'genre_6', 'genre_7']] = rotten_tomatoes_genre['genre'].str.split(',', expand=True)\n",
      "C:\\Users\\amand\\AppData\\Local\\Temp\\ipykernel_13160\\425197104.py:1: SettingWithCopyWarning: \n",
      "A value is trying to be set on a copy of a slice from a DataFrame.\n",
      "Try using .loc[row_indexer,col_indexer] = value instead\n",
      "\n",
      "See the caveats in the documentation: https://pandas.pydata.org/pandas-docs/stable/user_guide/indexing.html#returning-a-view-versus-a-copy\n",
      "  rotten_tomatoes_genre[['genre_1', 'genre_2', 'genre_3', 'genre_4', 'genre_5', 'genre_6', 'genre_7']] = rotten_tomatoes_genre['genre'].str.split(',', expand=True)\n",
      "C:\\Users\\amand\\AppData\\Local\\Temp\\ipykernel_13160\\425197104.py:1: SettingWithCopyWarning: \n",
      "A value is trying to be set on a copy of a slice from a DataFrame.\n",
      "Try using .loc[row_indexer,col_indexer] = value instead\n",
      "\n",
      "See the caveats in the documentation: https://pandas.pydata.org/pandas-docs/stable/user_guide/indexing.html#returning-a-view-versus-a-copy\n",
      "  rotten_tomatoes_genre[['genre_1', 'genre_2', 'genre_3', 'genre_4', 'genre_5', 'genre_6', 'genre_7']] = rotten_tomatoes_genre['genre'].str.split(',', expand=True)\n",
      "C:\\Users\\amand\\AppData\\Local\\Temp\\ipykernel_13160\\425197104.py:1: SettingWithCopyWarning: \n",
      "A value is trying to be set on a copy of a slice from a DataFrame.\n",
      "Try using .loc[row_indexer,col_indexer] = value instead\n",
      "\n",
      "See the caveats in the documentation: https://pandas.pydata.org/pandas-docs/stable/user_guide/indexing.html#returning-a-view-versus-a-copy\n",
      "  rotten_tomatoes_genre[['genre_1', 'genre_2', 'genre_3', 'genre_4', 'genre_5', 'genre_6', 'genre_7']] = rotten_tomatoes_genre['genre'].str.split(',', expand=True)\n",
      "C:\\Users\\amand\\AppData\\Local\\Temp\\ipykernel_13160\\425197104.py:1: SettingWithCopyWarning: \n",
      "A value is trying to be set on a copy of a slice from a DataFrame.\n",
      "Try using .loc[row_indexer,col_indexer] = value instead\n",
      "\n",
      "See the caveats in the documentation: https://pandas.pydata.org/pandas-docs/stable/user_guide/indexing.html#returning-a-view-versus-a-copy\n",
      "  rotten_tomatoes_genre[['genre_1', 'genre_2', 'genre_3', 'genre_4', 'genre_5', 'genre_6', 'genre_7']] = rotten_tomatoes_genre['genre'].str.split(',', expand=True)\n",
      "C:\\Users\\amand\\AppData\\Local\\Temp\\ipykernel_13160\\425197104.py:1: SettingWithCopyWarning: \n",
      "A value is trying to be set on a copy of a slice from a DataFrame.\n",
      "Try using .loc[row_indexer,col_indexer] = value instead\n",
      "\n",
      "See the caveats in the documentation: https://pandas.pydata.org/pandas-docs/stable/user_guide/indexing.html#returning-a-view-versus-a-copy\n",
      "  rotten_tomatoes_genre[['genre_1', 'genre_2', 'genre_3', 'genre_4', 'genre_5', 'genre_6', 'genre_7']] = rotten_tomatoes_genre['genre'].str.split(',', expand=True)\n",
      "C:\\Users\\amand\\AppData\\Local\\Temp\\ipykernel_13160\\425197104.py:1: SettingWithCopyWarning: \n",
      "A value is trying to be set on a copy of a slice from a DataFrame.\n",
      "Try using .loc[row_indexer,col_indexer] = value instead\n",
      "\n",
      "See the caveats in the documentation: https://pandas.pydata.org/pandas-docs/stable/user_guide/indexing.html#returning-a-view-versus-a-copy\n",
      "  rotten_tomatoes_genre[['genre_1', 'genre_2', 'genre_3', 'genre_4', 'genre_5', 'genre_6', 'genre_7']] = rotten_tomatoes_genre['genre'].str.split(',', expand=True)\n"
     ]
    }
   ],
   "source": [
    "rotten_tomatoes_genre[['genre_1', 'genre_2', 'genre_3', 'genre_4', 'genre_5', 'genre_6', 'genre_7']] = rotten_tomatoes_genre['genre'].str.split(',', expand=True)"
   ]
  },
  {
   "cell_type": "code",
   "execution_count": 52,
   "id": "1b7dfb30-4a57-48fe-ada2-3427f71b5a42",
   "metadata": {},
   "outputs": [
    {
     "name": "stderr",
     "output_type": "stream",
     "text": [
      "C:\\Users\\amand\\AppData\\Local\\Temp\\ipykernel_13160\\3357464343.py:1: SettingWithCopyWarning: \n",
      "A value is trying to be set on a copy of a slice from a DataFrame.\n",
      "Try using .loc[row_indexer,col_indexer] = value instead\n",
      "\n",
      "See the caveats in the documentation: https://pandas.pydata.org/pandas-docs/stable/user_guide/indexing.html#returning-a-view-versus-a-copy\n",
      "  rotten_tomatoes_genre['genre'] = rotten_tomatoes_genre['genre'].str.lstrip()\n",
      "C:\\Users\\amand\\AppData\\Local\\Temp\\ipykernel_13160\\3357464343.py:2: SettingWithCopyWarning: \n",
      "A value is trying to be set on a copy of a slice from a DataFrame.\n",
      "Try using .loc[row_indexer,col_indexer] = value instead\n",
      "\n",
      "See the caveats in the documentation: https://pandas.pydata.org/pandas-docs/stable/user_guide/indexing.html#returning-a-view-versus-a-copy\n",
      "  rotten_tomatoes_genre['genre_1'] = rotten_tomatoes_genre['genre_1'].str.lstrip()\n",
      "C:\\Users\\amand\\AppData\\Local\\Temp\\ipykernel_13160\\3357464343.py:3: SettingWithCopyWarning: \n",
      "A value is trying to be set on a copy of a slice from a DataFrame.\n",
      "Try using .loc[row_indexer,col_indexer] = value instead\n",
      "\n",
      "See the caveats in the documentation: https://pandas.pydata.org/pandas-docs/stable/user_guide/indexing.html#returning-a-view-versus-a-copy\n",
      "  rotten_tomatoes_genre['genre_2'] = rotten_tomatoes_genre['genre_2'].str.lstrip()\n",
      "C:\\Users\\amand\\AppData\\Local\\Temp\\ipykernel_13160\\3357464343.py:4: SettingWithCopyWarning: \n",
      "A value is trying to be set on a copy of a slice from a DataFrame.\n",
      "Try using .loc[row_indexer,col_indexer] = value instead\n",
      "\n",
      "See the caveats in the documentation: https://pandas.pydata.org/pandas-docs/stable/user_guide/indexing.html#returning-a-view-versus-a-copy\n",
      "  rotten_tomatoes_genre['genre_3'] = rotten_tomatoes_genre['genre_3'].str.lstrip()\n",
      "C:\\Users\\amand\\AppData\\Local\\Temp\\ipykernel_13160\\3357464343.py:5: SettingWithCopyWarning: \n",
      "A value is trying to be set on a copy of a slice from a DataFrame.\n",
      "Try using .loc[row_indexer,col_indexer] = value instead\n",
      "\n",
      "See the caveats in the documentation: https://pandas.pydata.org/pandas-docs/stable/user_guide/indexing.html#returning-a-view-versus-a-copy\n",
      "  rotten_tomatoes_genre['genre_4'] = rotten_tomatoes_genre['genre_4'].str.lstrip()\n",
      "C:\\Users\\amand\\AppData\\Local\\Temp\\ipykernel_13160\\3357464343.py:6: SettingWithCopyWarning: \n",
      "A value is trying to be set on a copy of a slice from a DataFrame.\n",
      "Try using .loc[row_indexer,col_indexer] = value instead\n",
      "\n",
      "See the caveats in the documentation: https://pandas.pydata.org/pandas-docs/stable/user_guide/indexing.html#returning-a-view-versus-a-copy\n",
      "  rotten_tomatoes_genre['genre_5'] = rotten_tomatoes_genre['genre_5'].str.lstrip()\n",
      "C:\\Users\\amand\\AppData\\Local\\Temp\\ipykernel_13160\\3357464343.py:7: SettingWithCopyWarning: \n",
      "A value is trying to be set on a copy of a slice from a DataFrame.\n",
      "Try using .loc[row_indexer,col_indexer] = value instead\n",
      "\n",
      "See the caveats in the documentation: https://pandas.pydata.org/pandas-docs/stable/user_guide/indexing.html#returning-a-view-versus-a-copy\n",
      "  rotten_tomatoes_genre['genre_6'] = rotten_tomatoes_genre['genre_6'].str.lstrip()\n",
      "C:\\Users\\amand\\AppData\\Local\\Temp\\ipykernel_13160\\3357464343.py:8: SettingWithCopyWarning: \n",
      "A value is trying to be set on a copy of a slice from a DataFrame.\n",
      "Try using .loc[row_indexer,col_indexer] = value instead\n",
      "\n",
      "See the caveats in the documentation: https://pandas.pydata.org/pandas-docs/stable/user_guide/indexing.html#returning-a-view-versus-a-copy\n",
      "  rotten_tomatoes_genre['genre_7'] = rotten_tomatoes_genre['genre_7'].str.lstrip()\n"
     ]
    }
   ],
   "source": [
    "rotten_tomatoes_genre['genre'] = rotten_tomatoes_genre['genre'].str.lstrip()\n",
    "rotten_tomatoes_genre['genre_1'] = rotten_tomatoes_genre['genre_1'].str.lstrip()\n",
    "rotten_tomatoes_genre['genre_2'] = rotten_tomatoes_genre['genre_2'].str.lstrip()\n",
    "rotten_tomatoes_genre['genre_3'] = rotten_tomatoes_genre['genre_3'].str.lstrip()\n",
    "rotten_tomatoes_genre['genre_4'] = rotten_tomatoes_genre['genre_4'].str.lstrip()\n",
    "rotten_tomatoes_genre['genre_5'] = rotten_tomatoes_genre['genre_5'].str.lstrip()\n",
    "rotten_tomatoes_genre['genre_6'] = rotten_tomatoes_genre['genre_6'].str.lstrip()\n",
    "rotten_tomatoes_genre['genre_7'] = rotten_tomatoes_genre['genre_7'].str.lstrip()"
   ]
  },
  {
   "cell_type": "code",
   "execution_count": 53,
   "id": "c6225bab-ca94-48a9-a617-07451751eae0",
   "metadata": {},
   "outputs": [],
   "source": [
    "rotten_tomatoes_genre_file = 'rotten_tomatoes_genre.xlsx'\n",
    "rotten_tomatoes_genre.to_excel(rotten_tomatoes_genre_file)"
   ]
  },
  {
   "cell_type": "code",
   "execution_count": 54,
   "id": "c77a59e7-ac93-4f0a-9441-5f52ec9cb461",
   "metadata": {},
   "outputs": [
    {
     "name": "stdout",
     "output_type": "stream",
     "text": [
      "<class 'pandas.core.frame.DataFrame'>\n",
      "RangeIndex: 23897 entries, 0 to 23896\n",
      "Data columns (total 10 columns):\n",
      " #   Column   Non-Null Count  Dtype \n",
      "---  ------   --------------  ----- \n",
      " 0   id       23897 non-null  object\n",
      " 1   title    23897 non-null  object\n",
      " 2   genre    22381 non-null  object\n",
      " 3   genre_1  22381 non-null  object\n",
      " 4   genre_2  10994 non-null  object\n",
      " 5   genre_3  3638 non-null   object\n",
      " 6   genre_4  973 non-null    object\n",
      " 7   genre_5  195 non-null    object\n",
      " 8   genre_6  38 non-null     object\n",
      " 9   genre_7  3 non-null      object\n",
      "dtypes: object(10)\n",
      "memory usage: 1.8+ MB\n"
     ]
    }
   ],
   "source": [
    "rotten_tomatoes_genre.info()"
   ]
  },
  {
   "cell_type": "markdown",
   "id": "4a238a72-65e0-4ea4-9a6f-20634dde7f52",
   "metadata": {},
   "source": [
    "# Splat datasets"
   ]
  },
  {
   "cell_type": "code",
   "execution_count": 55,
   "id": "ed08ea5a-5f74-427c-8d0c-e973d90cd7a8",
   "metadata": {},
   "outputs": [],
   "source": [
    "rotten_tomatoes_high_critic = rotten_tomatoes_final[(rotten_tomatoes_final['critic_score'] >= 60) & (rotten_tomatoes_final['audience_score'] < 60)]"
   ]
  },
  {
   "cell_type": "code",
   "execution_count": 56,
   "id": "837a16f3-fc79-433f-937f-6f44cf84fa9e",
   "metadata": {},
   "outputs": [],
   "source": [
    "rotten_tomatoes_high_audience = rotten_tomatoes_final[(rotten_tomatoes_final['critic_score'] < 60) & (rotten_tomatoes_final['audience_score'] >= 60)]"
   ]
  },
  {
   "cell_type": "code",
   "execution_count": 57,
   "id": "63bc8112-6efc-4cf7-8c7a-676238ae37ea",
   "metadata": {},
   "outputs": [],
   "source": [
    "rotten_tomatoes_high_high = rotten_tomatoes_final[(rotten_tomatoes_final['critic_score'] >= 60) & (rotten_tomatoes_final['audience_score'] >= 60)]"
   ]
  },
  {
   "cell_type": "code",
   "execution_count": 58,
   "id": "7ea7e269-28d2-4294-a444-0d61aef0a6d6",
   "metadata": {},
   "outputs": [],
   "source": [
    "rotten_tomatoes_high_critic_extreme = rotten_tomatoes_final[(rotten_tomatoes_final['critic_score'] >= 80) & (rotten_tomatoes_final['audience_score'] < 40)]"
   ]
  },
  {
   "cell_type": "code",
   "execution_count": 59,
   "id": "00287191-4fc4-4fc0-8195-4f0afdfea50e",
   "metadata": {},
   "outputs": [],
   "source": [
    "rotten_tomatoes_high_audience_extreme = rotten_tomatoes_final[(rotten_tomatoes_final['critic_score'] < 40) & (rotten_tomatoes_final['audience_score'] >= 80)]"
   ]
  },
  {
   "cell_type": "code",
   "execution_count": 60,
   "id": "a56f32df-9434-4acf-ac98-e702400b81c2",
   "metadata": {},
   "outputs": [],
   "source": [
    "rotten_tomatoes_high_high_extreme = rotten_tomatoes_final[(rotten_tomatoes_final['critic_score'] >= 80) & (rotten_tomatoes_final['audience_score'] >= 80)]"
   ]
  },
  {
   "cell_type": "code",
   "execution_count": 61,
   "id": "71688c73-7b45-4e7c-95e3-7482f9fd5326",
   "metadata": {},
   "outputs": [],
   "source": [
    "rotten_tomatoes_high_audience_file = 'rotten_tomatoes_high_audience.xlsx'\n",
    "rotten_tomatoes_high_audience.to_excel(rotten_tomatoes_high_audience_file)"
   ]
  },
  {
   "cell_type": "code",
   "execution_count": 62,
   "id": "157824d9-213b-493c-9715-aa66288530c0",
   "metadata": {},
   "outputs": [],
   "source": [
    "rotten_tomatoes_high_critic_file = 'rotten_tomatoes_high_critic.xlsx'\n",
    "rotten_tomatoes_high_critic.to_excel(rotten_tomatoes_high_critic_file)"
   ]
  },
  {
   "cell_type": "markdown",
   "id": "9829e10d-1745-4916-b497-9a6653a66a28",
   "metadata": {},
   "source": [
    "## Duplicate titles list"
   ]
  },
  {
   "cell_type": "code",
   "execution_count": 63,
   "id": "44270880-5a4f-42f8-9e4b-05fde5bf6f03",
   "metadata": {},
   "outputs": [],
   "source": [
    "duplicate_high_critic = rotten_tomatoes_high_critic['title'].duplicated()\n",
    "duplicate_high_critic_titles = rotten_tomatoes_high_critic[duplicate_high_critic]"
   ]
  },
  {
   "cell_type": "code",
   "execution_count": 64,
   "id": "f93a6463-2e30-47c4-8458-ba9445ec424e",
   "metadata": {},
   "outputs": [
    {
     "data": {
      "text/plain": [
       "['Romeo and Juliet',\n",
       " 'Arcadia',\n",
       " 'Beach Rats',\n",
       " 'Beyond Skyline',\n",
       " 'Beyond the Black Rainbow',\n",
       " 'A Bigger Splash',\n",
       " 'Black Friday',\n",
       " 'Blue Sky',\n",
       " 'Byzantium',\n",
       " 'CafÃ© Society',\n",
       " 'Cedar Rapids',\n",
       " 'Cloak and Dagger',\n",
       " 'Concussion',\n",
       " 'The Crazies',\n",
       " 'Crimes of the Future',\n",
       " 'Dementia',\n",
       " \"Don't Be Afraid of the Dark\",\n",
       " 'Drinking Buddies',\n",
       " 'Echo Park',\n",
       " 'Elvis & Nixon',\n",
       " 'Far North',\n",
       " \"Andy Warhol's Frankenstein\",\n",
       " 'Freaky Friday',\n",
       " 'Freaky Friday',\n",
       " 'Godzilla vs. Hedorah',\n",
       " 'Great Directors',\n",
       " 'Greta',\n",
       " 'Guy and Madeline on a Park Bench',\n",
       " 'High Life',\n",
       " 'Howl',\n",
       " 'I Am Greta',\n",
       " 'In Country',\n",
       " 'Invaders From Mars',\n",
       " 'Journey to the Center of the Earth',\n",
       " 'Juggernaut',\n",
       " 'Keanu',\n",
       " 'Keyhole',\n",
       " 'Kiss of the Damned',\n",
       " 'Kites',\n",
       " 'Death Watch',\n",
       " 'Love',\n",
       " 'Lucky',\n",
       " 'Margaret',\n",
       " 'Memoria',\n",
       " 'Morning Glory',\n",
       " 'My Blue Heaven',\n",
       " 'Nanny McPhee Returns',\n",
       " 'Night People',\n",
       " 'Nighthawks',\n",
       " 'Noah',\n",
       " 'Nurse',\n",
       " 'On the Rocks',\n",
       " 'Paterno',\n",
       " 'Peter Rabbit',\n",
       " 'Piranha',\n",
       " 'Possessor: Uncut',\n",
       " 'The Private Lives of Pippa Lee',\n",
       " 'Risk',\n",
       " 'Rogue',\n",
       " 'Room for Rent',\n",
       " 'Scream 4',\n",
       " 'Spring Breakers',\n",
       " 'Tamara Drewe',\n",
       " 'The Cake Eaters',\n",
       " 'The American',\n",
       " 'The American Soldier',\n",
       " 'The Anniversary Party',\n",
       " 'The Ant Bully',\n",
       " 'The Ballad of Genesis and Lady Jaye',\n",
       " 'The Bay',\n",
       " 'The Beaver',\n",
       " 'The Big Brawl',\n",
       " 'The Blair Witch Project',\n",
       " 'The Blob',\n",
       " 'The Blob',\n",
       " \"The Blood on Satan's Claw\",\n",
       " 'The Border',\n",
       " 'The Brady Bunch Movie',\n",
       " \"The Brink's Job\",\n",
       " 'The Cake Eaters',\n",
       " 'The Cat From Outer Space',\n",
       " 'The Dogs of War',\n",
       " 'The Don Is Dead',\n",
       " 'The Driller Killer',\n",
       " \"The Driver's Seat\",\n",
       " 'The Dry Land',\n",
       " 'The Eiger Sanction',\n",
       " 'The Enforcer',\n",
       " 'The Europeans',\n",
       " 'The First Nudie Musical',\n",
       " 'The Fourth Protocol',\n",
       " 'The Funhouse',\n",
       " 'The Funhouse',\n",
       " 'The Gauntlet',\n",
       " 'The Girl on the Train',\n",
       " 'The Glass Shield',\n",
       " 'The Governess',\n",
       " 'The Independent',\n",
       " 'The Informant!',\n",
       " 'The Invisible Woman',\n",
       " 'The Jazz Singer',\n",
       " 'The King Is Alive',\n",
       " 'The Land Girls',\n",
       " 'The Last American Hero',\n",
       " 'The Last Exorcism',\n",
       " 'The Last Five Years',\n",
       " 'The Last Shot',\n",
       " 'The Lie',\n",
       " 'The Lords of Flatbush',\n",
       " 'The Manor',\n",
       " 'The Merry Gentleman',\n",
       " 'The Midnight Meat Train',\n",
       " 'The Omega Man',\n",
       " 'The Pledge',\n",
       " 'The Retreat',\n",
       " 'The Ring',\n",
       " 'The River Wild',\n",
       " 'The Romantic Englishwoman',\n",
       " 'Scenic Route',\n",
       " 'The Secret Lives of Dentists',\n",
       " 'Shadow',\n",
       " \"Spirit of '76\",\n",
       " 'The SpongeBob Movie: Sponge Out of Water',\n",
       " 'The Stone Boy',\n",
       " 'The Visit',\n",
       " 'The Weekend',\n",
       " 'The Wretched',\n",
       " 'Tiger Eyes',\n",
       " 'Trash Humpers',\n",
       " 'The Trigger Effect',\n",
       " 'The Two Faces of January',\n",
       " 'The Two Jakes',\n",
       " 'Union Square',\n",
       " 'The Visit',\n",
       " 'Viva',\n",
       " 'We Can Be Heroes',\n",
       " 'Wide Awake',\n",
       " 'Zathura']"
      ]
     },
     "execution_count": 64,
     "metadata": {},
     "output_type": "execute_result"
    }
   ],
   "source": [
    "duplicate_high_critic_titles_list = duplicate_high_critic_titles['title'].tolist()\n",
    "duplicate_high_critic_titles_list"
   ]
  },
  {
   "cell_type": "code",
   "execution_count": 65,
   "id": "aa258e34-76fc-45f7-9a38-ca797a7f6e4e",
   "metadata": {},
   "outputs": [],
   "source": [
    "duplicate_high_audience = rotten_tomatoes_high_audience['title'].duplicated()\n",
    "duplicate_high_audience_titles = rotten_tomatoes_high_audience[duplicate_high_audience]"
   ]
  },
  {
   "cell_type": "code",
   "execution_count": 66,
   "id": "593d564c-7c8a-4f46-a74c-4f30c197fee2",
   "metadata": {},
   "outputs": [
    {
     "data": {
      "text/plain": [
       "[]"
      ]
     },
     "execution_count": 66,
     "metadata": {},
     "output_type": "execute_result"
    }
   ],
   "source": [
    "duplicate_high_audience_titles_list = duplicate_high_audience_titles['title'].tolist()\n",
    "duplicate_high_audience_titles_list"
   ]
  },
  {
   "cell_type": "code",
   "execution_count": 67,
   "id": "71bc4417-46e4-4acb-8069-036b41927ffd",
   "metadata": {},
   "outputs": [],
   "source": [
    "duplicate_high_high_extreme = rotten_tomatoes_high_high_extreme['title'].duplicated()\n",
    "duplicate_high_high_extreme_titles = rotten_tomatoes_high_high_extreme[duplicate_high_high_extreme]"
   ]
  },
  {
   "cell_type": "code",
   "execution_count": 68,
   "id": "eb49dede-1f73-4069-af8a-4f00a6bfdff6",
   "metadata": {},
   "outputs": [
    {
     "data": {
      "text/plain": [
       "['Invasion of the Body Snatchers',\n",
       " 'The Letter',\n",
       " 'Hamlet',\n",
       " 'Imitation of Life',\n",
       " 'Of Mice and Men',\n",
       " 'The General',\n",
       " 'Spellbound',\n",
       " 'A Quiet Place',\n",
       " 'A Star Is Born',\n",
       " 'A Star Is Born',\n",
       " 'Ai Weiwei: Never Sorry',\n",
       " 'Apollo 10 1/2: A Space Age Childhood',\n",
       " 'Avatar',\n",
       " 'Bad Education',\n",
       " 'Beauty and the Beast',\n",
       " 'Boy',\n",
       " 'Brigsby Bear',\n",
       " 'Bros',\n",
       " \"Brother's Keeper\",\n",
       " 'Captain America: The Winter Soldier',\n",
       " 'Chasing Ice',\n",
       " 'Coming Home',\n",
       " 'Creed',\n",
       " 'Disclosure',\n",
       " 'Django Unchained',\n",
       " 'Dogfight',\n",
       " 'Ever After: A Cinderella Story',\n",
       " 'Finding Nemo',\n",
       " 'Freaks',\n",
       " 'Fresh',\n",
       " 'Get Carter',\n",
       " 'Good Night, and Good Luck.',\n",
       " 'Goodfellas',\n",
       " 'Hairspray',\n",
       " 'Hamilton',\n",
       " 'Hamlet',\n",
       " 'Head Over Heels',\n",
       " 'Imagine: John Lennon',\n",
       " 'Inside Job',\n",
       " 'Joan Rivers: A Piece of Work',\n",
       " 'Jurassic Park',\n",
       " 'Kubo and the Two Strings',\n",
       " 'Life of Pi',\n",
       " 'Little Women',\n",
       " 'Edge of Tomorrow',\n",
       " \"Marvel's the Avengers\",\n",
       " 'Matewan',\n",
       " \"Michael Jackson's This Is It\",\n",
       " 'Missing',\n",
       " 'Monsters, Inc.',\n",
       " 'Mosul',\n",
       " 'A Nightmare on Elm Street',\n",
       " 'Penguins',\n",
       " 'Queen of Katwe',\n",
       " 'Racing Dreams',\n",
       " 'Rise',\n",
       " 'Scott Pilgrim vs. the World',\n",
       " 'Short Term 12',\n",
       " \"A Soldier's Story\",\n",
       " 'Star Trek',\n",
       " 'Steve Jobs: The Lost Interview',\n",
       " 'Submarine',\n",
       " \"That's Entertainment! III\",\n",
       " 'The Evil Dead',\n",
       " 'The Passenger',\n",
       " 'The Secret of Roan Inish',\n",
       " 'The Believer',\n",
       " 'The Best Intentions',\n",
       " 'The Big Lebowski',\n",
       " 'The Conformist',\n",
       " 'The Conversation',\n",
       " 'The Cook, the Thief, His Wife and Her Lover',\n",
       " 'The Crow',\n",
       " 'The Deer Hunter',\n",
       " 'The Departed',\n",
       " 'The Discreet Charm of the Bourgeoisie',\n",
       " 'The Emigrants',\n",
       " 'Star Wars: Episode V - The Empire Strikes Back',\n",
       " 'The Evil Dead',\n",
       " 'The Fighter',\n",
       " 'The French Connection',\n",
       " 'The Girl With the Dragon Tattoo',\n",
       " 'The Gleaners and I',\n",
       " 'The Godfather',\n",
       " 'The Gods Must Be Crazy',\n",
       " 'The Good Lie',\n",
       " 'The Harder They Fall',\n",
       " 'The Hunger Games',\n",
       " 'The Hurt Locker',\n",
       " 'The Impossible',\n",
       " 'The In-Laws',\n",
       " 'The Invisible Man',\n",
       " 'The Iron Giant',\n",
       " 'The Jungle Book',\n",
       " 'The Killing Fields',\n",
       " 'The Laramie Project',\n",
       " 'The Last King of Scotland',\n",
       " 'The Last of Sheila',\n",
       " 'The Last Waltz',\n",
       " 'The Lincoln Lawyer',\n",
       " 'The Lion King',\n",
       " 'The Long Good Friday',\n",
       " 'The Long Walk Home',\n",
       " 'The Motorcycle Diaries',\n",
       " 'The Muppet Movie',\n",
       " 'The Music of Chance',\n",
       " 'The Neverending Story',\n",
       " 'The Neverending Story',\n",
       " 'The Orphanage',\n",
       " 'The Outlaw Josey Wales',\n",
       " 'The Perks of Being a Wallflower',\n",
       " 'The Princess Bride',\n",
       " 'The Return of Tanya Tucker: Featuring Brandi Carlile',\n",
       " 'The Right Stuff',\n",
       " 'The Rocky Horror Picture Show',\n",
       " 'The Royal Tenenbaums',\n",
       " 'The Scent of Green Papaya',\n",
       " 'The Secret Garden',\n",
       " 'The Secret of Roan Inish',\n",
       " 'The Shawshank Redemption',\n",
       " 'The Silence of the Lambs',\n",
       " 'The Snapper',\n",
       " 'The Social Network',\n",
       " 'The Story of Adele H',\n",
       " 'The Taking of Pelham One Two Three',\n",
       " 'The Terminator',\n",
       " 'The Wild Bunch',\n",
       " 'Thor: Ragnarok',\n",
       " 'The Times of Harvey Milk',\n",
       " 'The Trip to Bountiful',\n",
       " 'True Grit',\n",
       " 'Truman & Tennessee: An Intimate Conversation',\n",
       " 'Two-Lane Blacktop',\n",
       " 'The Unbearable Lightness of Being',\n",
       " 'Unfaithfully Yours',\n",
       " 'Val',\n",
       " 'Victor/Victoria',\n",
       " 'The Wanderers',\n",
       " 'West Side Story',\n",
       " 'What Maisie Knew',\n",
       " 'The Wind That Shakes the Barley',\n",
       " 'Woodstock',\n",
       " 'X2',\n",
       " \"You Don't Know Jack\"]"
      ]
     },
     "execution_count": 68,
     "metadata": {},
     "output_type": "execute_result"
    }
   ],
   "source": [
    "duplicate_high_high_extreme_titles_list = duplicate_high_high_extreme_titles['title'].tolist()\n",
    "duplicate_high_high_extreme_titles_list"
   ]
  },
  {
   "cell_type": "code",
   "execution_count": 69,
   "id": "c6af7d9c-de4e-45a9-b2a4-d4ab128eed9c",
   "metadata": {},
   "outputs": [
    {
     "data": {
      "text/plain": [
       "0"
      ]
     },
     "execution_count": 69,
     "metadata": {},
     "output_type": "execute_result"
    }
   ],
   "source": [
    "len(duplicate_high_audience_titles_list)"
   ]
  },
  {
   "cell_type": "code",
   "execution_count": 70,
   "id": "dd4c9624-1089-405b-9249-65802c7d82a1",
   "metadata": {},
   "outputs": [
    {
     "data": {
      "text/plain": [
       "138"
      ]
     },
     "execution_count": 70,
     "metadata": {},
     "output_type": "execute_result"
    }
   ],
   "source": [
    "len(duplicate_high_critic_titles_list)"
   ]
  },
  {
   "cell_type": "code",
   "execution_count": 71,
   "id": "17d517ec-7457-4e5c-8a4c-8487206b066e",
   "metadata": {},
   "outputs": [
    {
     "data": {
      "text/plain": [
       "144"
      ]
     },
     "execution_count": 71,
     "metadata": {},
     "output_type": "execute_result"
    }
   ],
   "source": [
    "len(duplicate_high_high_extreme_titles_list)"
   ]
  },
  {
   "cell_type": "markdown",
   "id": "ab05bb2e-8f4f-47e2-8b3b-f6942a4590cf",
   "metadata": {
    "jp-MarkdownHeadingCollapsed": true
   },
   "source": [
    "# Release dates needed link list"
   ]
  },
  {
   "cell_type": "code",
   "execution_count": 72,
   "id": "f8c56a73-089f-421e-b1bb-443305912567",
   "metadata": {
    "scrolled": true
   },
   "outputs": [
    {
     "data": {
      "text/plain": [
       "['1-day',\n",
       " '10',\n",
       " '1000013_12_angry_men',\n",
       " '10000604-porgy_and_bess',\n",
       " '1000079-20000_leagues_under_the_sea',\n",
       " '10000_bc',\n",
       " '10001126-brave',\n",
       " '1000123-310_to_yuma',\n",
       " '10002008-charly',\n",
       " '1000204-abraham_lincoln',\n",
       " '10002076-black_and_white',\n",
       " '1000218-accident',\n",
       " '1000224-accused',\n",
       " '10002478-falls',\n",
       " '10002516-lost_city',\n",
       " '10002519-breaking_point',\n",
       " '1000253-adams_rib',\n",
       " '10002635-bridge_of_san_luis_rey',\n",
       " '10002673-prowler',\n",
       " '10002693-sniper',\n",
       " '10002709-undercover_man',\n",
       " '10002759-crisis',\n",
       " '10003184-turning_point',\n",
       " '10003276-criminal',\n",
       " '10003284-the_zodiac',\n",
       " '1000334-adventures_of_mark_twain',\n",
       " '10003437-deep_blue',\n",
       " '1000355-adventures_of_robin_hood',\n",
       " '10003660-americano',\n",
       " '10003876-man_hunt',\n",
       " '10003925-dead_end',\n",
       " '10004050-bandwagon',\n",
       " '10004069-whore',\n",
       " '10004275-army_of_one',\n",
       " '10004288-running_scared',\n",
       " '10004352-going_the_distance',\n",
       " '10004490-mourning_becomes_electra',\n",
       " '10004504-ultraviolet',\n",
       " '10004617-letter',\n",
       " '10004635-home_of_the_brave',\n",
       " '10004659-arthur',\n",
       " '10004673-christmas_holiday',\n",
       " '10004684-malevolence',\n",
       " '10004689-staircase',\n",
       " '10004697-eternal',\n",
       " '10004835-farewell_to_arms',\n",
       " '10004890-narrow_margin',\n",
       " '10004925-matador',\n",
       " '10005017-death_of_a_salesman',\n",
       " '10005057-smile',\n",
       " '10005061-home',\n",
       " '10005178-saint_ralph',\n",
       " '10005222-red_cockroaches',\n",
       " '10005227-finding_home',\n",
       " '10005402-chaos',\n",
       " '10005403-the_baxter',\n",
       " '10005409-dirty_deeds',\n",
       " '10005499-oliver_twist',\n",
       " '10005538-room',\n",
       " '10005582-fantastic_four',\n",
       " '1000560-alamo',\n",
       " '10005666-business',\n",
       " '10005788-the_sun',\n",
       " '1000580-alexander_the_great',\n",
       " '1000581-alfie',\n",
       " '10005819-10005819-neverwas',\n",
       " '10006007-the_second_chance',\n",
       " '10006057-moonlight',\n",
       " '10006109-magician',\n",
       " '10006110-dont_tell',\n",
       " '1000617-aliens',\n",
       " '10006188-rise',\n",
       " '1000626-all_about_eve',\n",
       " '10006270',\n",
       " '10006281-nana',\n",
       " '10006324',\n",
       " '10006343-dirty',\n",
       " '10006370-stay_alive',\n",
       " '1000639-all_night_long',\n",
       " '1000640-all_of_me',\n",
       " '10006433-clear_cut',\n",
       " '10006470',\n",
       " '10006485-black_gold',\n",
       " '10006490',\n",
       " '10006491',\n",
       " '10006498',\n",
       " '1000654-all_the_kings_men',\n",
       " '10006569-love',\n",
       " '10006588-street_fight',\n",
       " '10006621-10006621-puzzlehead',\n",
       " '10006630-life_of_reilly',\n",
       " '10006634-rank',\n",
       " '10006731-iowa',\n",
       " '10006742-six_figures',\n",
       " '10006752-feed',\n",
       " '10006780-lost_horizon',\n",
       " '10006828-klimt',\n",
       " '10006848-the_motel',\n",
       " '10006849-once_in_a_lifetime',\n",
       " '10006878-big_brown_eyes',\n",
       " '10006952-suburban_mayhem',\n",
       " '10007139-park',\n",
       " '10007142-the_4th_dimension',\n",
       " '10007169-pied_piper',\n",
       " '10007311-mans_castle',\n",
       " '10007322-little_man_what_now',\n",
       " '10007333-bon_cop_bad_cop',\n",
       " '10007336-macbeth',\n",
       " '10007351-hamilton',\n",
       " '10007415-amazing_grace',\n",
       " '10007538-silence',\n",
       " '10007598-cocaine_cowboys',\n",
       " '10007614-gone',\n",
       " '10007714-situation',\n",
       " '10007729-screamers',\n",
       " '10007784-living_the_dream',\n",
       " '10007856-four_sheets_to_the_wind',\n",
       " '10007886-the_tigers_tail',\n",
       " '10007893-its_a_boy_girl_thing',\n",
       " '10007898-slipstream',\n",
       " '10007902-delirious',\n",
       " '10007916_interview',\n",
       " '1000792-american_anthem',\n",
       " '10007947-ten',\n",
       " '10007985-happening',\n",
       " '10008041-accused',\n",
       " '10008126-straightheads',\n",
       " '10008140-borderland',\n",
       " '10008200-spiral',\n",
       " '10008259-festival',\n",
       " '10008290-salon',\n",
       " '10008354-orange_winter',\n",
       " '10008411-black_moon',\n",
       " '10008423-cool_school',\n",
       " '10008466-deep_end',\n",
       " '10008496-pathology',\n",
       " '10008502-christmas_carol',\n",
       " '10008507-deep_water',\n",
       " '10008562-road_to_victory',\n",
       " '10008587-beverly_hills_chihuahua',\n",
       " '10008601-fireflies_in_the_garden',\n",
       " '10008606-eye',\n",
       " '10008607-day_of_the_dead',\n",
       " '10008611-my_best_friends_girl',\n",
       " '10008613-burrowers',\n",
       " '10008617-midnight_meat_train',\n",
       " '10008618-return',\n",
       " '10008621-run_fat_boy_run',\n",
       " '10008633-if_i_didnt_care',\n",
       " '10008652-closing_escrow',\n",
       " '10008655-whiteout',\n",
       " '10008660-price_of_sugar',\n",
       " '10008661-randy_and_the_mob',\n",
       " '10008667-black_irish',\n",
       " '10008687-powder_blue',\n",
       " '10008698-king_corn',\n",
       " '10008699-terrors_advocate',\n",
       " '10008700-darfur_now',\n",
       " '10008703-rails_and_ties',\n",
       " '10008705-mr_untouchable',\n",
       " '10008706-house',\n",
       " '10008710-hot_blood',\n",
       " '10008742-my_sister_eileen',\n",
       " '10008744-canvas',\n",
       " '10008747-skid_row',\n",
       " '10008754-flawless',\n",
       " '10008760-what_happens_in_vegas',\n",
       " '10008785-appaloosa',\n",
       " '10008786-good',\n",
       " '10008820-visitor',\n",
       " '10008830-bill',\n",
       " '10008849-married_life',\n",
       " '10008856-badland',\n",
       " '10008864-shake_hands_with_the_devil',\n",
       " '10008924-oxford_murders',\n",
       " '10008938-turnabout',\n",
       " '10008954-untraceable',\n",
       " '10008991-informers',\n",
       " '10009001-the_freshman',\n",
       " '10009055-rocker',\n",
       " '10009063-perfect_holiday',\n",
       " '10009083-land_of_the_lost',\n",
       " '10009138-look',\n",
       " '1000915-and_god_created_woman',\n",
       " '10009151-box',\n",
       " '10009169-man_in_the_chair',\n",
       " '10009172-undoing',\n",
       " '10009176-black_water',\n",
       " '10009186-skippy',\n",
       " '10009192-21',\n",
       " '10009225-body_of_lies',\n",
       " '10009239-passengers',\n",
       " '10009244-the_grand',\n",
       " '10009253-the_hammer',\n",
       " '10009254-shutter',\n",
       " '10009274-priest',\n",
       " '10009323-broken',\n",
       " '10009334-the_escapist',\n",
       " '10009355-sugar',\n",
       " '1000940-android',\n",
       " '10009419-mommas_man',\n",
       " '10009420-quid_pro_quo',\n",
       " '10009421-red',\n",
       " '10009426-guitar',\n",
       " '10009430-pilgrimage',\n",
       " '10009445-my_brothers_wedding',\n",
       " '10009462-g_force',\n",
       " '10009469-the_other_man',\n",
       " '10009493-duchess',\n",
       " '10009516-women',\n",
       " '10009523-normal',\n",
       " '10009526-public_enemies',\n",
       " '10009552-julia',\n",
       " '1000957-angel_and_the_badman',\n",
       " '10009583-fade_to_black',\n",
       " '1000959-angel_heart',\n",
       " '10009596-old_dogs',\n",
       " '10009598-surrogates',\n",
       " '10009623-hats_off',\n",
       " '10009624-promotion',\n",
       " '10009632-notorious',\n",
       " '10009634-book_of_blood',\n",
       " '10009635-soul_men',\n",
       " '10009636-igor',\n",
       " '10009640-nights_and_weekends',\n",
       " '10009680-matador',\n",
       " '10009702-in_a_dream',\n",
       " '10009791-auteur',\n",
       " \"10009792-ball_don't_lie\",\n",
       " '10009799-caller',\n",
       " '10009847-cactus',\n",
       " '10009872-eden',\n",
       " '10009886-vice',\n",
       " '10009890-stone_angel',\n",
       " '10009926-alvin_and_the_chipmunks_2',\n",
       " '10009941-garden_of_evil',\n",
       " '10009980-rebound',\n",
       " '1000_times_good_night',\n",
       " '10010011-harold',\n",
       " '10010066-push',\n",
       " '10010077-felon',\n",
       " '10010084-wherever_you_are',\n",
       " '10010090-la_luna',\n",
       " '10010113-forgiveness',\n",
       " '10010131-scar',\n",
       " '10010141-cass',\n",
       " '10010147-last_sunset',\n",
       " '10010150-unborn',\n",
       " '10010153-bitch_slap',\n",
       " '10010155-forever_strong',\n",
       " '10010208-chocolate',\n",
       " '10010214-fireproof',\n",
       " '10010249-the_garden',\n",
       " '10010329-splinter',\n",
       " '10010334-leaves_of_grass',\n",
       " '10010335-rab_ne_bana_di_jodi',\n",
       " '10010458-proposal',\n",
       " '10010518-who_do_you_love',\n",
       " '10010552-gigantic',\n",
       " '1001056-anna',\n",
       " '10010568-fuel',\n",
       " '10010571-hush',\n",
       " '10010610-summer',\n",
       " '10010629-ice',\n",
       " '1001063-anna_karenina',\n",
       " '10010658-orphan',\n",
       " '10010662-my_sisters_keeper',\n",
       " '10010667-hangover',\n",
       " '10010668-stepfather',\n",
       " '10010694-season_of_the_witch',\n",
       " '10010703-shuttle',\n",
       " '10010760-miss_march',\n",
       " '10010782-american_affair',\n",
       " '10010785-grace',\n",
       " '10010787-endgame',\n",
       " '10010789-red_baron',\n",
       " '10010919-objective',\n",
       " '10010932-memorial_day',\n",
       " '10010940-happy_tears',\n",
       " '10010944-missing_person',\n",
       " '10010957-polanski_unauthorized',\n",
       " '10010965-rage',\n",
       " '10010972-mammoth',\n",
       " '10011003-crude',\n",
       " '10011016-messenger',\n",
       " '10011050-lake_mungo',\n",
       " '1001115-apartment',\n",
       " '10011154-golden_boys',\n",
       " '1001117-ape',\n",
       " '10011235-fame',\n",
       " '10011243-tormented',\n",
       " '10011262-outrage',\n",
       " '10011295-samson_and_delilah',\n",
       " '10011303-helen',\n",
       " '10011304-thirst',\n",
       " '1001131-apple',\n",
       " '10011335-vengeance',\n",
       " '10011379-new_world_order',\n",
       " '1001138-april_fools_day',\n",
       " '10011388-blood_the_last_vampire',\n",
       " '10011435-shrink',\n",
       " '10011460-lonesome',\n",
       " '10011489-bananas',\n",
       " '10011494-last_ride',\n",
       " '10011553-surviving_crooked_lake',\n",
       " '10011582-tron_legacy',\n",
       " '10011647-canyon',\n",
       " '10011699-leslie_my_name_is_evil',\n",
       " '10011721-broken_hill',\n",
       " '10011735-beautiful_life',\n",
       " '10011736-suck',\n",
       " '10011774-chloe',\n",
       " '1001180-armed_and_dangerous',\n",
       " '10011846-nobodys_perfect',\n",
       " '10011854-good_soldier',\n",
       " '10011857-high_life',\n",
       " '1001193-around_the_world_in_80_days',\n",
       " '10011944-good_heart',\n",
       " '10011946-wonderful_world',\n",
       " '10011947-love_hurts',\n",
       " '10011949-collapse',\n",
       " '10011950-three_blind_mice',\n",
       " '10011973-strip',\n",
       " '10011984-last_song',\n",
       " '10012014-babies',\n",
       " '10012039-lottery_ticket',\n",
       " '10012042-going_the_distance',\n",
       " '10012044-life_as_we_know_it',\n",
       " '10012050-final',\n",
       " '10012051-frozen',\n",
       " '10012058-prodigal_sons',\n",
       " '10012063-ghost_writer',\n",
       " '10012068-repo_men',\n",
       " '10012136-winters_bone',\n",
       " '10012141-kids_are_all_right',\n",
       " '10012147-lucky',\n",
       " '10012150-high_school',\n",
       " '10012207-stolen',\n",
       " '10012232-killing_jar',\n",
       " '10012254-la_mission',\n",
       " '10012264-stonewall',\n",
       " '10012288-wild_hunt',\n",
       " '1001240-arthur',\n",
       " '10012426-lottery',\n",
       " '1001280-assault_on_precinct_13',\n",
       " '1001294-asylum',\n",
       " '1001323-attack_of_the_50_foot_woman',\n",
       " '1001406-avenging_angel',\n",
       " '1001425-aviator',\n",
       " '1001428-awakening',\n",
       " '1001488-babes_in_toyland',\n",
       " '1001526-bachelor_party',\n",
       " '1001553-bad_company',\n",
       " '1001567-bad_news_bears',\n",
       " '1001572-bad_seed',\n",
       " '1001634-bang_the_drum_slowly',\n",
       " '1001781-batman',\n",
       " '1001811-battle_of_the_sexes',\n",
       " '1001994-belles_of_st_trinians',\n",
       " '1002058-best_boy',\n",
       " '1002072-best_man',\n",
       " '1002142-best_of_the_best',\n",
       " '1002178-best_of_times',\n",
       " '1002203-betrayal',\n",
       " '1002205-betrayed',\n",
       " '1002213-better_off_dead',\n",
       " '1002306-big_brawl',\n",
       " '1002310-big_business',\n",
       " '1002332-big_heat',\n",
       " '1002352-big_sleep',\n",
       " '1002353-big_sleep',\n",
       " '1002361-big_town',\n",
       " '1002407-billy_budd',\n",
       " '1002448-birds',\n",
       " '1002497-black_hole',\n",
       " '1002512-black_rain',\n",
       " '1002526-black_sunday',\n",
       " '1002531-black_widow',\n",
       " '1002540-blackmail',\n",
       " '1002571-blind_date',\n",
       " '1002580-bliss',\n",
       " '1002598-blood_and_sand',\n",
       " '1002611-blood_feast',\n",
       " '1002732-bluebeard',\n",
       " '1002734-bluebeard',\n",
       " '1002830-body_heat',\n",
       " '1002907-border',\n",
       " '1002930-born_yesterday',\n",
       " '1002939-boston_strangler',\n",
       " '1002947-bounty',\n",
       " '1003017-brainstorm',\n",
       " '1003021-branded',\n",
       " '1003033-brazil',\n",
       " '1003060-breakout',\n",
       " '1003066-breathless',\n",
       " '1003075-brewsters_millions',\n",
       " '1003076-brians_song',\n",
       " '1003086-bridge_at_remagen',\n",
       " '1003098-bright_lights_big_city',\n",
       " '1003119-broken_arrow',\n",
       " '1003136-brotherhood',\n",
       " '1003217-bug',\n",
       " '1003276-burglar',\n",
       " '1003296-bus_stop',\n",
       " '1003318-butch_cassidy_and_the_sundance_kid',\n",
       " '1003339-bye_bye_birdie',\n",
       " '1003399-calamity_jane',\n",
       " '1003441-camille',\n",
       " '1003492-cape_fear',\n",
       " '1003499-captain_blood',\n",
       " '1003531-captains_courageous',\n",
       " '1003617-carny',\n",
       " '1003625-carrie',\n",
       " '1003707-casablanca',\n",
       " '1003722-casino_royale',\n",
       " '1003757-cat_people',\n",
       " '1003758-cat_people',\n",
       " '1003780-caught',\n",
       " '1003854-champ',\n",
       " '1003857-champion',\n",
       " '1003883-charade',\n",
       " '1003952-charlottes_web',\n",
       " '1003953-charly',\n",
       " '1003957-chase',\n",
       " '1003972-checking_out',\n",
       " '1004047-children_of_the_corn',\n",
       " '1004110-chosen',\n",
       " '1004125-christmas_carol',\n",
       " '1004141-christmas_in_connecticut',\n",
       " '1004151-christmas_story',\n",
       " '1004177-cimarron',\n",
       " '1004329-cleopatra',\n",
       " '1004330-cleopatra',\n",
       " '1004369-cloak_and_dagger',\n",
       " '1004485-colors',\n",
       " '1004502-coma',\n",
       " '1004552-comfort_and_joy',\n",
       " '1004559-coming_home',\n",
       " '1004567-commando',\n",
       " '1004703-convoy',\n",
       " '1004743-corrupt',\n",
       " '1004785-count_of_monte_cristo',\n",
       " '1004790-countdown',\n",
       " '1004798-country_girl',\n",
       " '1004870-crawlspace',\n",
       " '1004906-creature_from_the_black_lagoon',\n",
       " '1004985-cross_my_heart',\n",
       " '1004995-crossroads',\n",
       " '1005090-cutting_class',\n",
       " '1005107-doa',\n",
       " '1005108-doa',\n",
       " '1005152-damn_yankees',\n",
       " '1005194-dangerous',\n",
       " '1005199-dangerous_liaisons',\n",
       " '1005242-dark_mirror',\n",
       " '1005279-darling',\n",
       " '1005339-dawn_of_the_dead',\n",
       " '1005360-day_of_the_dead',\n",
       " '1005371-day_the_earth_stood_still',\n",
       " '1005381-days_of_wine_and_roses',\n",
       " '1005399-dead_heat',\n",
       " '1005412-dead_reckoning',\n",
       " '1005512-death_in_venice',\n",
       " '1005521-death_of_a_salesman',\n",
       " '1005673-dentist',\n",
       " '1005724-desperate_hours',\n",
       " '1005762-devil_doll',\n",
       " '1005865-dillinger',\n",
       " '1005875-dinner_at_eight',\n",
       " '1005964-disraeli',\n",
       " '1005967-distant_thunder',\n",
       " '1005973-diva',\n",
       " '1006037-doctor_zhivago',\n",
       " '1006042-dodge_city',\n",
       " '1006068-dolls',\n",
       " '1006080-don_giovanni',\n",
       " '1006207-dr_jekyll_and_mr_hyde',\n",
       " '1006208-dr_jekyll_and_mr_hyde',\n",
       " '1006234-dracula',\n",
       " '1006236-dracula',\n",
       " '1006250-dragnet',\n",
       " '1006287-dream_team',\n",
       " '1006299-dressed_to_kill',\n",
       " '1006345-duel',\n",
       " '1006364-dune',\n",
       " '1006416-east_of_eden',\n",
       " '1006425-easy_money',\n",
       " '1006438-eaten_alive',\n",
       " '1006510-electric_dreams',\n",
       " '1006527-elephant_man',\n",
       " '1006646-enforcer',\n",
       " '1006648-enforcer',\n",
       " '1006676-equinox',\n",
       " '1006717-escape_from_new_york',\n",
       " '1006872-exodus',\n",
       " '1006917-eyewitness',\n",
       " '1006975-fade_to_black',\n",
       " '1007003-fahrenheit_451',\n",
       " '1007070-fan',\n",
       " '1007073-fandango',\n",
       " '1007078-fanny',\n",
       " '1007101-far_country',\n",
       " '1007105-far_from_the_madding_crowd',\n",
       " '1007107-far_north',\n",
       " '1007110-farewell_my_lovely',\n",
       " '1007141-fatal_attraction',\n",
       " '1007154-father_of_the_bride',\n",
       " '1007195-feds',\n",
       " '1007230-fever_pitch',\n",
       " '1007350-fire_and_ice',\n",
       " '1007517-flash_gordon',\n",
       " '1007522-flashback',\n",
       " '1007538-flesh_and_blood',\n",
       " '1007555-flight_of_the_phoenix',\n",
       " '1007573-flipper',\n",
       " '1007600-fly',\n",
       " '1007602-fly',\n",
       " '1007615-flying_tigers',\n",
       " '1007657-footloose',\n",
       " '1007691-force_of_evil',\n",
       " '1007739-foul_play',\n",
       " '1007745-four_feathers',\n",
       " '1007754-four_seasons',\n",
       " '1007818-frankenstein',\n",
       " '1007832-frantic',\n",
       " '1007839-freaky_friday',\n",
       " '1007910-fright_night',\n",
       " '1007931-from_here_to_eternity',\n",
       " '1007942-front_page',\n",
       " '1007949-frosty_the_snowman',\n",
       " '1007962-fugitive',\n",
       " '1007977-fun_with_dick_and_jane',\n",
       " '1007990-funny_farm',\n",
       " '1008015-fury',\n",
       " '1008055-galaxy_of_terror',\n",
       " '1008074-gallipoli',\n",
       " '1008080-gambler',\n",
       " '1008166-general',\n",
       " '1008243-getaway',\n",
       " '1008358-girls_girls_girls',\n",
       " '1008391-glass_menagerie',\n",
       " '1008407-gloria',\n",
       " '1008415-glory',\n",
       " '1008437-go_west',\n",
       " '1008457-goddess',\n",
       " '1008513-golden_boy',\n",
       " '1008588-gone_in_60_seconds',\n",
       " '1008623-goodbye_girl',\n",
       " '1008627-goodbye_mr_chips',\n",
       " '1008799-great_gatsby',\n",
       " '1008852-great_race',\n",
       " '1008931-green_berets',\n",
       " '1008942-greetings',\n",
       " '1008968-grizzly',\n",
       " '1008981-group',\n",
       " '1009027-gullivers_travels',\n",
       " '1009055-gunfighter',\n",
       " '1009058-gung_ho',\n",
       " '1009076-gypsy',\n",
       " '1009096-hairspray',\n",
       " '1009113-halloween',\n",
       " '1009123-hamlet',\n",
       " '1009131-hand',\n",
       " '1009211-hard_times',\n",
       " '1009219-hardcore',\n",
       " '1009224-harder_they_fall',\n",
       " '1009277-haunting',\n",
       " '1009293-hawaii',\n",
       " '1009399-heat',\n",
       " '1009425-heaven',\n",
       " '1009427-heaven_can_wait',\n",
       " '1009437-heidi',\n",
       " '1009456-hell_in_the_pacific',\n",
       " '1009470-hells_angels_on_wheels',\n",
       " '1009518-hercules',\n",
       " '1009548-heroes',\n",
       " '1009601-high_hopes',\n",
       " '1009645-hills_have_eyes',\n",
       " '1009649-hindenburg',\n",
       " '1009691-hit',\n",
       " '1009716-hobsons_choice',\n",
       " '1009736-hole_in_the_head',\n",
       " '1009830-home_of_the_brave',\n",
       " '1009972-hot_pursuit',\n",
       " '1009989-hotel',\n",
       " '100_bloody_acres_2013',\n",
       " '100_days_to_live',\n",
       " '100_girls',\n",
       " '100_men_and_a_girl',\n",
       " '100_mile_rule',\n",
       " '100_percent_wolf',\n",
       " '100_streets',\n",
       " '100_voices_a_journey_home',\n",
       " '100_years_of_men_in_love',\n",
       " '1010002-hound_of_the_baskervilles',\n",
       " '1010004-hound_of_the_baskervilles',\n",
       " '1010012-house',\n",
       " '1010030-house_of_wax',\n",
       " '1010034-house_on_haunted_hill',\n",
       " '1010174-hud',\n",
       " '1010215-hunchback_of_notre_dame',\n",
       " '1010230-hunter',\n",
       " '1010240-hurricane',\n",
       " '1010249-hustle',\n",
       " '1010263-i_the_jury',\n",
       " '1010417-imitation_of_life',\n",
       " '1010439-impulse',\n",
       " '1010440-impulse',\n",
       " '1010448-in_cold_blood',\n",
       " '1010510-incredible_hulk',\n",
       " '1010526-incubus',\n",
       " '1010540-indiscreet',\n",
       " '1010553-informer',\n",
       " '1010623-intermezzo',\n",
       " '1010672-invaders_from_mars',\n",
       " '1010678-invasion_of_the_body_snatchers',\n",
       " '1010679-invasion_of_the_body_snatchers',\n",
       " '1010685-invasion_usa',\n",
       " '1010695-invisible_man',\n",
       " '1010752-island_of_dr_moreau',\n",
       " '1010793-its_alive',\n",
       " '1010824-ivanhoe',\n",
       " '1010837-jack_and_the_beanstalk',\n",
       " '1010889-jamaica_inn',\n",
       " '1010939-jason_and_the_argonauts',\n",
       " '1010978-jazz_singer',\n",
       " '1010979-jazz_singer',\n",
       " '1011028-jesus_christ_superstar',\n",
       " '1011102-joan_of_arc',\n",
       " '1011176-johnny_belinda',\n",
       " '1011245-journey_into_fear',\n",
       " '1011319-juggernaut',\n",
       " '1011328-julius_caesar',\n",
       " '1011329-julius_caesar',\n",
       " '1011338-jungle_book',\n",
       " '1011392-kansas',\n",
       " '1011487-kickboxer',\n",
       " '1011495-kid_galahad',\n",
       " '1011558-killer_elite',\n",
       " '1011573-killers',\n",
       " '1011605-king_and_i',\n",
       " '1011615-king_kong',\n",
       " '1011617-king_kong',\n",
       " '1011623-king_of_comedy',\n",
       " '1011626-king_of_kings',\n",
       " '1011638-king_solomons_mines',\n",
       " '1011639-king_solomons_mines',\n",
       " '1011814-lady_vanishes',\n",
       " '1012007-laura',\n",
       " '1012164-legend',\n",
       " '1012225-les_miserables',\n",
       " '1012264-letter',\n",
       " '1012370-lilies_of_the_field',\n",
       " '1012386-lion_in_winter',\n",
       " '1012439-little_lord_fauntleroy',\n",
       " '1012478-little_princess',\n",
       " '1012506-little_romance',\n",
       " '1012514-little_shop_of_horrors',\n",
       " '1012515-little_shop_of_horrors',\n",
       " '1012518-little_thief',\n",
       " '1012524-little_women',\n",
       " '1012525-little_women',\n",
       " '1012605-lock_up',\n",
       " '1012611-lolita',\n",
       " '1012647-long_days_journey_into_night',\n",
       " '1012662-long_hot_summer',\n",
       " '1012665-longest_yard',\n",
       " '1012754-losin_it',\n",
       " '1012772-lost_patrol',\n",
       " '1012813-love_bug',\n",
       " '1012861-loverboy',\n",
       " '1012871-lovesick',\n",
       " '1012920-lust_for_life',\n",
       " '1012993-madame_x',\n",
       " '1013004-made_in_heaven',\n",
       " '1013071-magnificent_ambersons',\n",
       " '1013077-magnificent_seven',\n",
       " '1013089-main_event',\n",
       " '1013139-maltese_falcon',\n",
       " '1013162-man_for_all_seasons',\n",
       " '1013201-man_who_came_to_dinner',\n",
       " '1013227-manchurian_candidate',\n",
       " '1013238-manhattan_project',\n",
       " '1013248-manhunter',\n",
       " '1013259-mannequin',\n",
       " '1013427-marty',\n",
       " '1013481-mask',\n",
       " '1013485-masque_of_the_red_death',\n",
       " '1013488-masquerade',\n",
       " '1013632-mechanic',\n",
       " '1013711-men',\n",
       " '1013772-meteor',\n",
       " '1013867-midsummer_nights_dream',\n",
       " '1013884-mighty_joe_young',\n",
       " '1013919-million_dollar_mystery',\n",
       " '1013973-miracle_worker',\n",
       " '1013976-mirage',\n",
       " '1013984-mischief',\n",
       " '1014007-missing',\n",
       " '1014008-missing_in_action',\n",
       " '1014027-mission',\n",
       " '1014061-mister_roberts',\n",
       " '1014090-moby_dick',\n",
       " '1014096-modern_girls',\n",
       " '1014137-monkey_business',\n",
       " '1014138-monkey_business',\n",
       " '1014167-monte_walsh',\n",
       " '1014215-moonlighting',\n",
       " '1014217-moonraker',\n",
       " '1014246-morning_glory',\n",
       " '1014294-moulin_rouge',\n",
       " '1014316-moving',\n",
       " '1014325-mr_and_mrs_smith',\n",
       " '1014352-mrs_soffel',\n",
       " '1014370-mummy',\n",
       " '1014372-mummy',\n",
       " '1014396-murder',\n",
       " '1014451-music_box',\n",
       " '1014453-music_man',\n",
       " '1014481-mutiny_on_the_bounty',\n",
       " '1014482-mutiny_on_the_bounty',\n",
       " '1014536-my_man_godfrey',\n",
       " '1014592-mysterious_island',\n",
       " '1014759-native_son',\n",
       " '1014793-near_dark',\n",
       " '1014804-neighbors',\n",
       " '1014832-never_on_sunday',\n",
       " '1014945-next_of_kin',\n",
       " '1014946-next_of_kin',\n",
       " '1014986-nicholas_and_alexandra',\n",
       " '1015000-night_and_day',\n",
       " '1015002-night_at_the_opera',\n",
       " '1015079-night_to_remember',\n",
       " '1015095-nighthawks',\n",
       " '1015196-no_mans_land',\n",
       " '1015199-no_mercy',\n",
       " '1015218-no_way_out',\n",
       " '1015224-nobodys_fool',\n",
       " '1015287-notorious',\n",
       " '1015361-obsession',\n",
       " '1015380-odd_couple',\n",
       " '1015383-odd_man_out',\n",
       " '1015393-of_human_bondage',\n",
       " '1015517-omen',\n",
       " '1015530-on_the_beach',\n",
       " '1015542-on_the_town',\n",
       " '1015567-one_two_three',\n",
       " '1015639-only_when_i_laugh',\n",
       " '1015698-orphans',\n",
       " '1015704-oscar',\n",
       " '1015710-other',\n",
       " '1015722-our_daily_bread',\n",
       " '1015737-our_town',\n",
       " '1015753-out_of_the_dark',\n",
       " '1015758-outoftowners',\n",
       " '1015925-paradise',\n",
       " '1015944-parent_trap',\n",
       " '1015967-party',\n",
       " '1016035-patrick',\n",
       " '1016111-pendulum',\n",
       " '1016119-pennies_from_heaven',\n",
       " '1016239-phantom_of_the_opera',\n",
       " '1016302-picture_of_dorian_gray',\n",
       " '1016338-pink_panther',\n",
       " '1016359-piranha',\n",
       " '1016363-pirates',\n",
       " '1016369-pit_and_the_pendulum',\n",
       " '1016397-planet_of_the_apes',\n",
       " '1016437-players',\n",
       " '1016479-point_blank',\n",
       " '1016512-pollyanna',\n",
       " '1016513-poltergeist',\n",
       " '1016534-popeye',\n",
       " '1016561-porkys',\n",
       " '1016584-poseidon_adventure',\n",
       " '1016586-posse',\n",
       " '1016591-postman_always_rings_twice',\n",
       " '1016592-postman_always_rings_twice',\n",
       " '1016609-power',\n",
       " '1016724-prince_and_the_pauper',\n",
       " '1016756-prisoner_of_zenda',\n",
       " '1016760-prisoner',\n",
       " '1016793-private_lessons',\n",
       " '1016819-producers',\n",
       " '1016834-prom_night',\n",
       " '1016842-prophecy',\n",
       " '1016847-protector',\n",
       " '1016854-prowler',\n",
       " '1016885-public_enemy',\n",
       " '1016897-pulse',\n",
       " '1016925-pursued',\n",
       " '1016943-pygmalion',\n",
       " '1017021-quo_vadis',\n",
       " '1017098-railway_children',\n",
       " '1017100-rain',\n",
       " '1017120-rainmaker',\n",
       " '1017123-raisin_in_the_sun',\n",
       " '1017201-rare_breed',\n",
       " '1017222-raven',\n",
       " '1017226-raw_deal',\n",
       " '1017237-razors_edge',\n",
       " '1017238-razors_edge',\n",
       " '1017289-rear_window',\n",
       " '1017293-rebecca',\n",
       " '1017306-reckless',\n",
       " '1017321-red_dawn',\n",
       " '1017328-red_heat',\n",
       " '1017352-red_sonja',\n",
       " '1017382-reincarnation_of_peter_proud',\n",
       " '1017391-rembrandt',\n",
       " '1017405-renegades',\n",
       " '1017422-resurrection',\n",
       " '1017488-return_to_oz',\n",
       " '1017502-revenge',\n",
       " '1017530-rich_and_famous',\n",
       " '1017641-risky_business',\n",
       " '1017649-river',\n",
       " '1017666-road_house',\n",
       " '1017674-robbery',\n",
       " '1017699-robin_hood',\n",
       " '1017712-robocop',\n",
       " '1017745-rock_n_roll_high_school',\n",
       " '1017776-rocky',\n",
       " '1017815-rollercoaster',\n",
       " '1017818-rolling_thunder',\n",
       " '1017823-roman_spring_of_mrs_stone',\n",
       " '1017827-romantic_comedy',\n",
       " '1017887-rose',\n",
       " '1017957-rude_awakening',\n",
       " '1017991-runaway',\n",
       " '1018009-running_scared',\n",
       " '1018044-sabotage',\n",
       " '1018047-sabrina',\n",
       " '1018051-sacco_and_vanzetti',\n",
       " '1018069-sahara',\n",
       " '1018126-samson_and_delilah',\n",
       " '1018283-savages',\n",
       " '1018315-scanners',\n",
       " '1018318-scarecrow',\n",
       " '1018323-scarface',\n",
       " '1018413-scrooge',\n",
       " '1018433-sea_hawk',\n",
       " '1018473-second_sight',\n",
       " '1018483-secret_agent',\n",
       " '1018569-sender',\n",
       " '1018587-separate_tables',\n",
       " '1018688-shadow_of_a_doubt',\n",
       " '1018699-shaft',\n",
       " '1018702-shaggy_dog',\n",
       " '1018704-shakedown',\n",
       " '1018711-shall_we_dance',\n",
       " '1018862-shock_to_the_system',\n",
       " '1018865-shock_waves',\n",
       " '1018880-shoot_to_kill',\n",
       " '1018883-shooting_party',\n",
       " '1018885-shooting',\n",
       " '1018891-short_circuit',\n",
       " '1018909-shot_in_the_dark',\n",
       " '1018915-show_boat',\n",
       " '1018916-show_boat',\n",
       " '1018989-silent_night_deadly_night',\n",
       " '1018994-silent_partner',\n",
       " '1019026-simon',\n",
       " '1019045-sinbad_the_sailor',\n",
       " '1019128-skin_deep',\n",
       " '1019187-sleeping_beauty',\n",
       " '1019196-sleuth',\n",
       " '1019234-smile',\n",
       " '1019378-something_to_sing_about',\n",
       " '1019441-sorcerer',\n",
       " '1019482-southern_comfort',\n",
       " '1019541-sparkle',\n",
       " '1019544-spartacus',\n",
       " '1019609-spellbound',\n",
       " '1019625-spiral_staircase',\n",
       " '1019716-spring_break',\n",
       " '1019743-squeeze',\n",
       " '1019761-1019761-st_valentines_day_massacre',\n",
       " '1019774-stagecoach',\n",
       " '1019777-stage_fright',\n",
       " '1019779-stakeout',\n",
       " '1019828-star_is_born',\n",
       " '1019829-star_is_born',\n",
       " '1019831-star_is_born',\n",
       " '101_dalmatians',\n",
       " '101_dalmatians_ii_patchs_london_adventure',\n",
       " '1020035-starstruck',\n",
       " '1020041-state_fair',\n",
       " '1020086-stella',\n",
       " '1020130-sting',\n",
       " '1020287-stranger',\n",
       " '1020333-streetcar_named_desire',\n",
       " '1020398-suburbia',\n",
       " '1020415-suddenly',\n",
       " '1020451-summer_school',\n",
       " '1020479-sundowners',\n",
       " '1020488-sunshine_boys',\n",
       " '1020639-surrender',\n",
       " '1020659-suspect',\n",
       " '1020660-suspicion',\n",
       " '1020664-svengali',\n",
       " '1020684-sweet_bird_of_youth',\n",
       " '1020729-swing_time',\n",
       " '1020736-swiss_family_robinson',\n",
       " '1020814-tale_of_two_cities',\n",
       " '1020861-taming_of_the_shrew',\n",
       " '1020889-target',\n",
       " '1020896-tarzan_the_ape_man',\n",
       " '1020897-tarzan_the_ape_man',\n",
       " '1020906-tattoo',\n",
       " '1021008-tempest',\n",
       " '1021015-ten_commandments',\n",
       " '1021067-terror',\n",
       " '1021112-texas_chainsaw_massacre',\n",
       " '1021128-that_championship_season',\n",
       " '1021130-that_darn_cat',\n",
       " '1021186-them',\n",
       " '1021211-shivers',\n",
       " '1021214-they_drive_by_night',\n",
       " '1021230-thief',\n",
       " '1021242-thing',\n",
       " '1021244-thing',\n",
       " '1021262-thirst',\n",
       " '1021269-this_gun_for_hire',\n",
       " '1021312-three_amigos',\n",
       " '1021339-three_musketeers',\n",
       " '1021340-three_musketeers',\n",
       " '1021500-time_machine',\n",
       " '1021558-to_be_or_not_to_be',\n",
       " '1021681-toolbox_murders',\n",
       " '1021699-top_secret',\n",
       " '1021711-torment',\n",
       " '1021749-touch_of_evil',\n",
       " '1021765-tough_guys',\n",
       " '1021788-tourist_trap',\n",
       " '1021963-treasure_island',\n",
       " '1022024-trip',\n",
       " '1022079-true_love',\n",
       " '1022131-turning_point',\n",
       " '1022170-twelve_chairs',\n",
       " '1022172-twelve_oclock_high',\n",
       " '1022191-twins',\n",
       " '1022225-two_of_a_kind',\n",
       " '1022300-ulysses',\n",
       " '1022314-uncommon_valor',\n",
       " '1022315-undefeated',\n",
       " '1022317-under_capricorn',\n",
       " '1022369-unfaithfully_yours',\n",
       " '1022370-unfaithfully_yours',\n",
       " '1022373-unforgiven',\n",
       " '1022504-vanishing_point',\n",
       " '1022537-venom',\n",
       " '1022570-vice_versa',\n",
       " '1022576-victory',\n",
       " '1022823-village_of_the_damned',\n",
       " '1022869-virginian',\n",
       " '1023007-walking_tall',\n",
       " '1023166-warlock',\n",
       " '1023205-warriors',\n",
       " '1023286-were_no_angels',\n",
       " '1023299-wedding',\n",
       " '1023316-weird_science',\n",
       " '1023461-when_a_stranger_calls',\n",
       " '1023508-where_the_boys_are',\n",
       " '1023543-white_christmas',\n",
       " '1023635-wicked_lady',\n",
       " '1023717-willard',\n",
       " '1023739-winchester_73',\n",
       " '1023854-witness',\n",
       " '1023900-womans_face',\n",
       " '1023906-women',\n",
       " '1024191-wrong_man',\n",
       " '1024192-wuthering_heights',\n",
       " '1024232-year_of_the_dragon',\n",
       " '1024237-yearling',\n",
       " '1024407-yours_mine_and_ours',\n",
       " '1028554-blue_steel',\n",
       " '1028561-where_the_heart_is',\n",
       " '1028564-guardian',\n",
       " '1028589-johnny_come_lately',\n",
       " '1028711-mystery_train',\n",
       " '1028715-revolution',\n",
       " '1029042-henry_v',\n",
       " '1029072-kiss_of_death',\n",
       " '1029099-conquest',\n",
       " '1029112-alice_in_wonderland',\n",
       " '1029161-my_blue_heaven',\n",
       " '1029261-state_fair',\n",
       " '1029314-dick_tracy',\n",
       " '1029390-born_to_be_bad',\n",
       " '1029408-bombshell',\n",
       " '1029427-navy_seals',\n",
       " '1029524-romeo_and_juliet',\n",
       " '1029895-goodbye_mr_chips',\n",
       " '102_dalmatians',\n",
       " '1030142-champ',\n",
       " '1030146-narrow_margin',\n",
       " '1030149-hot_spot',\n",
       " '1030244-red_dust',\n",
       " '1030709-sibling_rivalry',\n",
       " ...]"
      ]
     },
     "execution_count": 72,
     "metadata": {},
     "output_type": "execute_result"
    }
   ],
   "source": [
    "id_list = rotten_tomatoes['id'].tolist()\n",
    "id_list"
   ]
  },
  {
   "cell_type": "code",
   "execution_count": 73,
   "id": "1264c66f-bd08-41cb-b7c2-8a91ad289861",
   "metadata": {
    "scrolled": true
   },
   "outputs": [
    {
     "data": {
      "text/plain": [
       "['https://rottentomatoes.com/m/1-day',\n",
       " 'https://rottentomatoes.com/m/10',\n",
       " 'https://rottentomatoes.com/m/1000013_12_angry_men',\n",
       " 'https://rottentomatoes.com/m/10000604-porgy_and_bess',\n",
       " 'https://rottentomatoes.com/m/1000079-20000_leagues_under_the_sea',\n",
       " 'https://rottentomatoes.com/m/10000_bc',\n",
       " 'https://rottentomatoes.com/m/10001126-brave',\n",
       " 'https://rottentomatoes.com/m/1000123-310_to_yuma',\n",
       " 'https://rottentomatoes.com/m/10002008-charly',\n",
       " 'https://rottentomatoes.com/m/1000204-abraham_lincoln',\n",
       " 'https://rottentomatoes.com/m/10002076-black_and_white',\n",
       " 'https://rottentomatoes.com/m/1000218-accident',\n",
       " 'https://rottentomatoes.com/m/1000224-accused',\n",
       " 'https://rottentomatoes.com/m/10002478-falls',\n",
       " 'https://rottentomatoes.com/m/10002516-lost_city',\n",
       " 'https://rottentomatoes.com/m/10002519-breaking_point',\n",
       " 'https://rottentomatoes.com/m/1000253-adams_rib',\n",
       " 'https://rottentomatoes.com/m/10002635-bridge_of_san_luis_rey',\n",
       " 'https://rottentomatoes.com/m/10002673-prowler',\n",
       " 'https://rottentomatoes.com/m/10002693-sniper',\n",
       " 'https://rottentomatoes.com/m/10002709-undercover_man',\n",
       " 'https://rottentomatoes.com/m/10002759-crisis',\n",
       " 'https://rottentomatoes.com/m/10003184-turning_point',\n",
       " 'https://rottentomatoes.com/m/10003276-criminal',\n",
       " 'https://rottentomatoes.com/m/10003284-the_zodiac',\n",
       " 'https://rottentomatoes.com/m/1000334-adventures_of_mark_twain',\n",
       " 'https://rottentomatoes.com/m/10003437-deep_blue',\n",
       " 'https://rottentomatoes.com/m/1000355-adventures_of_robin_hood',\n",
       " 'https://rottentomatoes.com/m/10003660-americano',\n",
       " 'https://rottentomatoes.com/m/10003876-man_hunt',\n",
       " 'https://rottentomatoes.com/m/10003925-dead_end',\n",
       " 'https://rottentomatoes.com/m/10004050-bandwagon',\n",
       " 'https://rottentomatoes.com/m/10004069-whore',\n",
       " 'https://rottentomatoes.com/m/10004275-army_of_one',\n",
       " 'https://rottentomatoes.com/m/10004288-running_scared',\n",
       " 'https://rottentomatoes.com/m/10004352-going_the_distance',\n",
       " 'https://rottentomatoes.com/m/10004490-mourning_becomes_electra',\n",
       " 'https://rottentomatoes.com/m/10004504-ultraviolet',\n",
       " 'https://rottentomatoes.com/m/10004617-letter',\n",
       " 'https://rottentomatoes.com/m/10004635-home_of_the_brave',\n",
       " 'https://rottentomatoes.com/m/10004659-arthur',\n",
       " 'https://rottentomatoes.com/m/10004673-christmas_holiday',\n",
       " 'https://rottentomatoes.com/m/10004684-malevolence',\n",
       " 'https://rottentomatoes.com/m/10004689-staircase',\n",
       " 'https://rottentomatoes.com/m/10004697-eternal',\n",
       " 'https://rottentomatoes.com/m/10004835-farewell_to_arms',\n",
       " 'https://rottentomatoes.com/m/10004890-narrow_margin',\n",
       " 'https://rottentomatoes.com/m/10004925-matador',\n",
       " 'https://rottentomatoes.com/m/10005017-death_of_a_salesman',\n",
       " 'https://rottentomatoes.com/m/10005057-smile',\n",
       " 'https://rottentomatoes.com/m/10005061-home',\n",
       " 'https://rottentomatoes.com/m/10005178-saint_ralph',\n",
       " 'https://rottentomatoes.com/m/10005222-red_cockroaches',\n",
       " 'https://rottentomatoes.com/m/10005227-finding_home',\n",
       " 'https://rottentomatoes.com/m/10005402-chaos',\n",
       " 'https://rottentomatoes.com/m/10005403-the_baxter',\n",
       " 'https://rottentomatoes.com/m/10005409-dirty_deeds',\n",
       " 'https://rottentomatoes.com/m/10005499-oliver_twist',\n",
       " 'https://rottentomatoes.com/m/10005538-room',\n",
       " 'https://rottentomatoes.com/m/10005582-fantastic_four',\n",
       " 'https://rottentomatoes.com/m/1000560-alamo',\n",
       " 'https://rottentomatoes.com/m/10005666-business',\n",
       " 'https://rottentomatoes.com/m/10005788-the_sun',\n",
       " 'https://rottentomatoes.com/m/1000580-alexander_the_great',\n",
       " 'https://rottentomatoes.com/m/1000581-alfie',\n",
       " 'https://rottentomatoes.com/m/10005819-10005819-neverwas',\n",
       " 'https://rottentomatoes.com/m/10006007-the_second_chance',\n",
       " 'https://rottentomatoes.com/m/10006057-moonlight',\n",
       " 'https://rottentomatoes.com/m/10006109-magician',\n",
       " 'https://rottentomatoes.com/m/10006110-dont_tell',\n",
       " 'https://rottentomatoes.com/m/1000617-aliens',\n",
       " 'https://rottentomatoes.com/m/10006188-rise',\n",
       " 'https://rottentomatoes.com/m/1000626-all_about_eve',\n",
       " 'https://rottentomatoes.com/m/10006270',\n",
       " 'https://rottentomatoes.com/m/10006281-nana',\n",
       " 'https://rottentomatoes.com/m/10006324',\n",
       " 'https://rottentomatoes.com/m/10006343-dirty',\n",
       " 'https://rottentomatoes.com/m/10006370-stay_alive',\n",
       " 'https://rottentomatoes.com/m/1000639-all_night_long',\n",
       " 'https://rottentomatoes.com/m/1000640-all_of_me',\n",
       " 'https://rottentomatoes.com/m/10006433-clear_cut',\n",
       " 'https://rottentomatoes.com/m/10006470',\n",
       " 'https://rottentomatoes.com/m/10006485-black_gold',\n",
       " 'https://rottentomatoes.com/m/10006490',\n",
       " 'https://rottentomatoes.com/m/10006491',\n",
       " 'https://rottentomatoes.com/m/10006498',\n",
       " 'https://rottentomatoes.com/m/1000654-all_the_kings_men',\n",
       " 'https://rottentomatoes.com/m/10006569-love',\n",
       " 'https://rottentomatoes.com/m/10006588-street_fight',\n",
       " 'https://rottentomatoes.com/m/10006621-10006621-puzzlehead',\n",
       " 'https://rottentomatoes.com/m/10006630-life_of_reilly',\n",
       " 'https://rottentomatoes.com/m/10006634-rank',\n",
       " 'https://rottentomatoes.com/m/10006731-iowa',\n",
       " 'https://rottentomatoes.com/m/10006742-six_figures',\n",
       " 'https://rottentomatoes.com/m/10006752-feed',\n",
       " 'https://rottentomatoes.com/m/10006780-lost_horizon',\n",
       " 'https://rottentomatoes.com/m/10006828-klimt',\n",
       " 'https://rottentomatoes.com/m/10006848-the_motel',\n",
       " 'https://rottentomatoes.com/m/10006849-once_in_a_lifetime',\n",
       " 'https://rottentomatoes.com/m/10006878-big_brown_eyes',\n",
       " 'https://rottentomatoes.com/m/10006952-suburban_mayhem',\n",
       " 'https://rottentomatoes.com/m/10007139-park',\n",
       " 'https://rottentomatoes.com/m/10007142-the_4th_dimension',\n",
       " 'https://rottentomatoes.com/m/10007169-pied_piper',\n",
       " 'https://rottentomatoes.com/m/10007311-mans_castle',\n",
       " 'https://rottentomatoes.com/m/10007322-little_man_what_now',\n",
       " 'https://rottentomatoes.com/m/10007333-bon_cop_bad_cop',\n",
       " 'https://rottentomatoes.com/m/10007336-macbeth',\n",
       " 'https://rottentomatoes.com/m/10007351-hamilton',\n",
       " 'https://rottentomatoes.com/m/10007415-amazing_grace',\n",
       " 'https://rottentomatoes.com/m/10007538-silence',\n",
       " 'https://rottentomatoes.com/m/10007598-cocaine_cowboys',\n",
       " 'https://rottentomatoes.com/m/10007614-gone',\n",
       " 'https://rottentomatoes.com/m/10007714-situation',\n",
       " 'https://rottentomatoes.com/m/10007729-screamers',\n",
       " 'https://rottentomatoes.com/m/10007784-living_the_dream',\n",
       " 'https://rottentomatoes.com/m/10007856-four_sheets_to_the_wind',\n",
       " 'https://rottentomatoes.com/m/10007886-the_tigers_tail',\n",
       " 'https://rottentomatoes.com/m/10007893-its_a_boy_girl_thing',\n",
       " 'https://rottentomatoes.com/m/10007898-slipstream',\n",
       " 'https://rottentomatoes.com/m/10007902-delirious',\n",
       " 'https://rottentomatoes.com/m/10007916_interview',\n",
       " 'https://rottentomatoes.com/m/1000792-american_anthem',\n",
       " 'https://rottentomatoes.com/m/10007947-ten',\n",
       " 'https://rottentomatoes.com/m/10007985-happening',\n",
       " 'https://rottentomatoes.com/m/10008041-accused',\n",
       " 'https://rottentomatoes.com/m/10008126-straightheads',\n",
       " 'https://rottentomatoes.com/m/10008140-borderland',\n",
       " 'https://rottentomatoes.com/m/10008200-spiral',\n",
       " 'https://rottentomatoes.com/m/10008259-festival',\n",
       " 'https://rottentomatoes.com/m/10008290-salon',\n",
       " 'https://rottentomatoes.com/m/10008354-orange_winter',\n",
       " 'https://rottentomatoes.com/m/10008411-black_moon',\n",
       " 'https://rottentomatoes.com/m/10008423-cool_school',\n",
       " 'https://rottentomatoes.com/m/10008466-deep_end',\n",
       " 'https://rottentomatoes.com/m/10008496-pathology',\n",
       " 'https://rottentomatoes.com/m/10008502-christmas_carol',\n",
       " 'https://rottentomatoes.com/m/10008507-deep_water',\n",
       " 'https://rottentomatoes.com/m/10008562-road_to_victory',\n",
       " 'https://rottentomatoes.com/m/10008587-beverly_hills_chihuahua',\n",
       " 'https://rottentomatoes.com/m/10008601-fireflies_in_the_garden',\n",
       " 'https://rottentomatoes.com/m/10008606-eye',\n",
       " 'https://rottentomatoes.com/m/10008607-day_of_the_dead',\n",
       " 'https://rottentomatoes.com/m/10008611-my_best_friends_girl',\n",
       " 'https://rottentomatoes.com/m/10008613-burrowers',\n",
       " 'https://rottentomatoes.com/m/10008617-midnight_meat_train',\n",
       " 'https://rottentomatoes.com/m/10008618-return',\n",
       " 'https://rottentomatoes.com/m/10008621-run_fat_boy_run',\n",
       " 'https://rottentomatoes.com/m/10008633-if_i_didnt_care',\n",
       " 'https://rottentomatoes.com/m/10008652-closing_escrow',\n",
       " 'https://rottentomatoes.com/m/10008655-whiteout',\n",
       " 'https://rottentomatoes.com/m/10008660-price_of_sugar',\n",
       " 'https://rottentomatoes.com/m/10008661-randy_and_the_mob',\n",
       " 'https://rottentomatoes.com/m/10008667-black_irish',\n",
       " 'https://rottentomatoes.com/m/10008687-powder_blue',\n",
       " 'https://rottentomatoes.com/m/10008698-king_corn',\n",
       " 'https://rottentomatoes.com/m/10008699-terrors_advocate',\n",
       " 'https://rottentomatoes.com/m/10008700-darfur_now',\n",
       " 'https://rottentomatoes.com/m/10008703-rails_and_ties',\n",
       " 'https://rottentomatoes.com/m/10008705-mr_untouchable',\n",
       " 'https://rottentomatoes.com/m/10008706-house',\n",
       " 'https://rottentomatoes.com/m/10008710-hot_blood',\n",
       " 'https://rottentomatoes.com/m/10008742-my_sister_eileen',\n",
       " 'https://rottentomatoes.com/m/10008744-canvas',\n",
       " 'https://rottentomatoes.com/m/10008747-skid_row',\n",
       " 'https://rottentomatoes.com/m/10008754-flawless',\n",
       " 'https://rottentomatoes.com/m/10008760-what_happens_in_vegas',\n",
       " 'https://rottentomatoes.com/m/10008785-appaloosa',\n",
       " 'https://rottentomatoes.com/m/10008786-good',\n",
       " 'https://rottentomatoes.com/m/10008820-visitor',\n",
       " 'https://rottentomatoes.com/m/10008830-bill',\n",
       " 'https://rottentomatoes.com/m/10008849-married_life',\n",
       " 'https://rottentomatoes.com/m/10008856-badland',\n",
       " 'https://rottentomatoes.com/m/10008864-shake_hands_with_the_devil',\n",
       " 'https://rottentomatoes.com/m/10008924-oxford_murders',\n",
       " 'https://rottentomatoes.com/m/10008938-turnabout',\n",
       " 'https://rottentomatoes.com/m/10008954-untraceable',\n",
       " 'https://rottentomatoes.com/m/10008991-informers',\n",
       " 'https://rottentomatoes.com/m/10009001-the_freshman',\n",
       " 'https://rottentomatoes.com/m/10009055-rocker',\n",
       " 'https://rottentomatoes.com/m/10009063-perfect_holiday',\n",
       " 'https://rottentomatoes.com/m/10009083-land_of_the_lost',\n",
       " 'https://rottentomatoes.com/m/10009138-look',\n",
       " 'https://rottentomatoes.com/m/1000915-and_god_created_woman',\n",
       " 'https://rottentomatoes.com/m/10009151-box',\n",
       " 'https://rottentomatoes.com/m/10009169-man_in_the_chair',\n",
       " 'https://rottentomatoes.com/m/10009172-undoing',\n",
       " 'https://rottentomatoes.com/m/10009176-black_water',\n",
       " 'https://rottentomatoes.com/m/10009186-skippy',\n",
       " 'https://rottentomatoes.com/m/10009192-21',\n",
       " 'https://rottentomatoes.com/m/10009225-body_of_lies',\n",
       " 'https://rottentomatoes.com/m/10009239-passengers',\n",
       " 'https://rottentomatoes.com/m/10009244-the_grand',\n",
       " 'https://rottentomatoes.com/m/10009253-the_hammer',\n",
       " 'https://rottentomatoes.com/m/10009254-shutter',\n",
       " 'https://rottentomatoes.com/m/10009274-priest',\n",
       " 'https://rottentomatoes.com/m/10009323-broken',\n",
       " 'https://rottentomatoes.com/m/10009334-the_escapist',\n",
       " 'https://rottentomatoes.com/m/10009355-sugar',\n",
       " 'https://rottentomatoes.com/m/1000940-android',\n",
       " 'https://rottentomatoes.com/m/10009419-mommas_man',\n",
       " 'https://rottentomatoes.com/m/10009420-quid_pro_quo',\n",
       " 'https://rottentomatoes.com/m/10009421-red',\n",
       " 'https://rottentomatoes.com/m/10009426-guitar',\n",
       " 'https://rottentomatoes.com/m/10009430-pilgrimage',\n",
       " 'https://rottentomatoes.com/m/10009445-my_brothers_wedding',\n",
       " 'https://rottentomatoes.com/m/10009462-g_force',\n",
       " 'https://rottentomatoes.com/m/10009469-the_other_man',\n",
       " 'https://rottentomatoes.com/m/10009493-duchess',\n",
       " 'https://rottentomatoes.com/m/10009516-women',\n",
       " 'https://rottentomatoes.com/m/10009523-normal',\n",
       " 'https://rottentomatoes.com/m/10009526-public_enemies',\n",
       " 'https://rottentomatoes.com/m/10009552-julia',\n",
       " 'https://rottentomatoes.com/m/1000957-angel_and_the_badman',\n",
       " 'https://rottentomatoes.com/m/10009583-fade_to_black',\n",
       " 'https://rottentomatoes.com/m/1000959-angel_heart',\n",
       " 'https://rottentomatoes.com/m/10009596-old_dogs',\n",
       " 'https://rottentomatoes.com/m/10009598-surrogates',\n",
       " 'https://rottentomatoes.com/m/10009623-hats_off',\n",
       " 'https://rottentomatoes.com/m/10009624-promotion',\n",
       " 'https://rottentomatoes.com/m/10009632-notorious',\n",
       " 'https://rottentomatoes.com/m/10009634-book_of_blood',\n",
       " 'https://rottentomatoes.com/m/10009635-soul_men',\n",
       " 'https://rottentomatoes.com/m/10009636-igor',\n",
       " 'https://rottentomatoes.com/m/10009640-nights_and_weekends',\n",
       " 'https://rottentomatoes.com/m/10009680-matador',\n",
       " 'https://rottentomatoes.com/m/10009702-in_a_dream',\n",
       " 'https://rottentomatoes.com/m/10009791-auteur',\n",
       " \"https://rottentomatoes.com/m/10009792-ball_don't_lie\",\n",
       " 'https://rottentomatoes.com/m/10009799-caller',\n",
       " 'https://rottentomatoes.com/m/10009847-cactus',\n",
       " 'https://rottentomatoes.com/m/10009872-eden',\n",
       " 'https://rottentomatoes.com/m/10009886-vice',\n",
       " 'https://rottentomatoes.com/m/10009890-stone_angel',\n",
       " 'https://rottentomatoes.com/m/10009926-alvin_and_the_chipmunks_2',\n",
       " 'https://rottentomatoes.com/m/10009941-garden_of_evil',\n",
       " 'https://rottentomatoes.com/m/10009980-rebound',\n",
       " 'https://rottentomatoes.com/m/1000_times_good_night',\n",
       " 'https://rottentomatoes.com/m/10010011-harold',\n",
       " 'https://rottentomatoes.com/m/10010066-push',\n",
       " 'https://rottentomatoes.com/m/10010077-felon',\n",
       " 'https://rottentomatoes.com/m/10010084-wherever_you_are',\n",
       " 'https://rottentomatoes.com/m/10010090-la_luna',\n",
       " 'https://rottentomatoes.com/m/10010113-forgiveness',\n",
       " 'https://rottentomatoes.com/m/10010131-scar',\n",
       " 'https://rottentomatoes.com/m/10010141-cass',\n",
       " 'https://rottentomatoes.com/m/10010147-last_sunset',\n",
       " 'https://rottentomatoes.com/m/10010150-unborn',\n",
       " 'https://rottentomatoes.com/m/10010153-bitch_slap',\n",
       " 'https://rottentomatoes.com/m/10010155-forever_strong',\n",
       " 'https://rottentomatoes.com/m/10010208-chocolate',\n",
       " 'https://rottentomatoes.com/m/10010214-fireproof',\n",
       " 'https://rottentomatoes.com/m/10010249-the_garden',\n",
       " 'https://rottentomatoes.com/m/10010329-splinter',\n",
       " 'https://rottentomatoes.com/m/10010334-leaves_of_grass',\n",
       " 'https://rottentomatoes.com/m/10010335-rab_ne_bana_di_jodi',\n",
       " 'https://rottentomatoes.com/m/10010458-proposal',\n",
       " 'https://rottentomatoes.com/m/10010518-who_do_you_love',\n",
       " 'https://rottentomatoes.com/m/10010552-gigantic',\n",
       " 'https://rottentomatoes.com/m/1001056-anna',\n",
       " 'https://rottentomatoes.com/m/10010568-fuel',\n",
       " 'https://rottentomatoes.com/m/10010571-hush',\n",
       " 'https://rottentomatoes.com/m/10010610-summer',\n",
       " 'https://rottentomatoes.com/m/10010629-ice',\n",
       " 'https://rottentomatoes.com/m/1001063-anna_karenina',\n",
       " 'https://rottentomatoes.com/m/10010658-orphan',\n",
       " 'https://rottentomatoes.com/m/10010662-my_sisters_keeper',\n",
       " 'https://rottentomatoes.com/m/10010667-hangover',\n",
       " 'https://rottentomatoes.com/m/10010668-stepfather',\n",
       " 'https://rottentomatoes.com/m/10010694-season_of_the_witch',\n",
       " 'https://rottentomatoes.com/m/10010703-shuttle',\n",
       " 'https://rottentomatoes.com/m/10010760-miss_march',\n",
       " 'https://rottentomatoes.com/m/10010782-american_affair',\n",
       " 'https://rottentomatoes.com/m/10010785-grace',\n",
       " 'https://rottentomatoes.com/m/10010787-endgame',\n",
       " 'https://rottentomatoes.com/m/10010789-red_baron',\n",
       " 'https://rottentomatoes.com/m/10010919-objective',\n",
       " 'https://rottentomatoes.com/m/10010932-memorial_day',\n",
       " 'https://rottentomatoes.com/m/10010940-happy_tears',\n",
       " 'https://rottentomatoes.com/m/10010944-missing_person',\n",
       " 'https://rottentomatoes.com/m/10010957-polanski_unauthorized',\n",
       " 'https://rottentomatoes.com/m/10010965-rage',\n",
       " 'https://rottentomatoes.com/m/10010972-mammoth',\n",
       " 'https://rottentomatoes.com/m/10011003-crude',\n",
       " 'https://rottentomatoes.com/m/10011016-messenger',\n",
       " 'https://rottentomatoes.com/m/10011050-lake_mungo',\n",
       " 'https://rottentomatoes.com/m/1001115-apartment',\n",
       " 'https://rottentomatoes.com/m/10011154-golden_boys',\n",
       " 'https://rottentomatoes.com/m/1001117-ape',\n",
       " 'https://rottentomatoes.com/m/10011235-fame',\n",
       " 'https://rottentomatoes.com/m/10011243-tormented',\n",
       " 'https://rottentomatoes.com/m/10011262-outrage',\n",
       " 'https://rottentomatoes.com/m/10011295-samson_and_delilah',\n",
       " 'https://rottentomatoes.com/m/10011303-helen',\n",
       " 'https://rottentomatoes.com/m/10011304-thirst',\n",
       " 'https://rottentomatoes.com/m/1001131-apple',\n",
       " 'https://rottentomatoes.com/m/10011335-vengeance',\n",
       " 'https://rottentomatoes.com/m/10011379-new_world_order',\n",
       " 'https://rottentomatoes.com/m/1001138-april_fools_day',\n",
       " 'https://rottentomatoes.com/m/10011388-blood_the_last_vampire',\n",
       " 'https://rottentomatoes.com/m/10011435-shrink',\n",
       " 'https://rottentomatoes.com/m/10011460-lonesome',\n",
       " 'https://rottentomatoes.com/m/10011489-bananas',\n",
       " 'https://rottentomatoes.com/m/10011494-last_ride',\n",
       " 'https://rottentomatoes.com/m/10011553-surviving_crooked_lake',\n",
       " 'https://rottentomatoes.com/m/10011582-tron_legacy',\n",
       " 'https://rottentomatoes.com/m/10011647-canyon',\n",
       " 'https://rottentomatoes.com/m/10011699-leslie_my_name_is_evil',\n",
       " 'https://rottentomatoes.com/m/10011721-broken_hill',\n",
       " 'https://rottentomatoes.com/m/10011735-beautiful_life',\n",
       " 'https://rottentomatoes.com/m/10011736-suck',\n",
       " 'https://rottentomatoes.com/m/10011774-chloe',\n",
       " 'https://rottentomatoes.com/m/1001180-armed_and_dangerous',\n",
       " 'https://rottentomatoes.com/m/10011846-nobodys_perfect',\n",
       " 'https://rottentomatoes.com/m/10011854-good_soldier',\n",
       " 'https://rottentomatoes.com/m/10011857-high_life',\n",
       " 'https://rottentomatoes.com/m/1001193-around_the_world_in_80_days',\n",
       " 'https://rottentomatoes.com/m/10011944-good_heart',\n",
       " 'https://rottentomatoes.com/m/10011946-wonderful_world',\n",
       " 'https://rottentomatoes.com/m/10011947-love_hurts',\n",
       " 'https://rottentomatoes.com/m/10011949-collapse',\n",
       " 'https://rottentomatoes.com/m/10011950-three_blind_mice',\n",
       " 'https://rottentomatoes.com/m/10011973-strip',\n",
       " 'https://rottentomatoes.com/m/10011984-last_song',\n",
       " 'https://rottentomatoes.com/m/10012014-babies',\n",
       " 'https://rottentomatoes.com/m/10012039-lottery_ticket',\n",
       " 'https://rottentomatoes.com/m/10012042-going_the_distance',\n",
       " 'https://rottentomatoes.com/m/10012044-life_as_we_know_it',\n",
       " 'https://rottentomatoes.com/m/10012050-final',\n",
       " 'https://rottentomatoes.com/m/10012051-frozen',\n",
       " 'https://rottentomatoes.com/m/10012058-prodigal_sons',\n",
       " 'https://rottentomatoes.com/m/10012063-ghost_writer',\n",
       " 'https://rottentomatoes.com/m/10012068-repo_men',\n",
       " 'https://rottentomatoes.com/m/10012136-winters_bone',\n",
       " 'https://rottentomatoes.com/m/10012141-kids_are_all_right',\n",
       " 'https://rottentomatoes.com/m/10012147-lucky',\n",
       " 'https://rottentomatoes.com/m/10012150-high_school',\n",
       " 'https://rottentomatoes.com/m/10012207-stolen',\n",
       " 'https://rottentomatoes.com/m/10012232-killing_jar',\n",
       " 'https://rottentomatoes.com/m/10012254-la_mission',\n",
       " 'https://rottentomatoes.com/m/10012264-stonewall',\n",
       " 'https://rottentomatoes.com/m/10012288-wild_hunt',\n",
       " 'https://rottentomatoes.com/m/1001240-arthur',\n",
       " 'https://rottentomatoes.com/m/10012426-lottery',\n",
       " 'https://rottentomatoes.com/m/1001280-assault_on_precinct_13',\n",
       " 'https://rottentomatoes.com/m/1001294-asylum',\n",
       " 'https://rottentomatoes.com/m/1001323-attack_of_the_50_foot_woman',\n",
       " 'https://rottentomatoes.com/m/1001406-avenging_angel',\n",
       " 'https://rottentomatoes.com/m/1001425-aviator',\n",
       " 'https://rottentomatoes.com/m/1001428-awakening',\n",
       " 'https://rottentomatoes.com/m/1001488-babes_in_toyland',\n",
       " 'https://rottentomatoes.com/m/1001526-bachelor_party',\n",
       " 'https://rottentomatoes.com/m/1001553-bad_company',\n",
       " 'https://rottentomatoes.com/m/1001567-bad_news_bears',\n",
       " 'https://rottentomatoes.com/m/1001572-bad_seed',\n",
       " 'https://rottentomatoes.com/m/1001634-bang_the_drum_slowly',\n",
       " 'https://rottentomatoes.com/m/1001781-batman',\n",
       " 'https://rottentomatoes.com/m/1001811-battle_of_the_sexes',\n",
       " 'https://rottentomatoes.com/m/1001994-belles_of_st_trinians',\n",
       " 'https://rottentomatoes.com/m/1002058-best_boy',\n",
       " 'https://rottentomatoes.com/m/1002072-best_man',\n",
       " 'https://rottentomatoes.com/m/1002142-best_of_the_best',\n",
       " 'https://rottentomatoes.com/m/1002178-best_of_times',\n",
       " 'https://rottentomatoes.com/m/1002203-betrayal',\n",
       " 'https://rottentomatoes.com/m/1002205-betrayed',\n",
       " 'https://rottentomatoes.com/m/1002213-better_off_dead',\n",
       " 'https://rottentomatoes.com/m/1002306-big_brawl',\n",
       " 'https://rottentomatoes.com/m/1002310-big_business',\n",
       " 'https://rottentomatoes.com/m/1002332-big_heat',\n",
       " 'https://rottentomatoes.com/m/1002352-big_sleep',\n",
       " 'https://rottentomatoes.com/m/1002353-big_sleep',\n",
       " 'https://rottentomatoes.com/m/1002361-big_town',\n",
       " 'https://rottentomatoes.com/m/1002407-billy_budd',\n",
       " 'https://rottentomatoes.com/m/1002448-birds',\n",
       " 'https://rottentomatoes.com/m/1002497-black_hole',\n",
       " 'https://rottentomatoes.com/m/1002512-black_rain',\n",
       " 'https://rottentomatoes.com/m/1002526-black_sunday',\n",
       " 'https://rottentomatoes.com/m/1002531-black_widow',\n",
       " 'https://rottentomatoes.com/m/1002540-blackmail',\n",
       " 'https://rottentomatoes.com/m/1002571-blind_date',\n",
       " 'https://rottentomatoes.com/m/1002580-bliss',\n",
       " 'https://rottentomatoes.com/m/1002598-blood_and_sand',\n",
       " 'https://rottentomatoes.com/m/1002611-blood_feast',\n",
       " 'https://rottentomatoes.com/m/1002732-bluebeard',\n",
       " 'https://rottentomatoes.com/m/1002734-bluebeard',\n",
       " 'https://rottentomatoes.com/m/1002830-body_heat',\n",
       " 'https://rottentomatoes.com/m/1002907-border',\n",
       " 'https://rottentomatoes.com/m/1002930-born_yesterday',\n",
       " 'https://rottentomatoes.com/m/1002939-boston_strangler',\n",
       " 'https://rottentomatoes.com/m/1002947-bounty',\n",
       " 'https://rottentomatoes.com/m/1003017-brainstorm',\n",
       " 'https://rottentomatoes.com/m/1003021-branded',\n",
       " 'https://rottentomatoes.com/m/1003033-brazil',\n",
       " 'https://rottentomatoes.com/m/1003060-breakout',\n",
       " 'https://rottentomatoes.com/m/1003066-breathless',\n",
       " 'https://rottentomatoes.com/m/1003075-brewsters_millions',\n",
       " 'https://rottentomatoes.com/m/1003076-brians_song',\n",
       " 'https://rottentomatoes.com/m/1003086-bridge_at_remagen',\n",
       " 'https://rottentomatoes.com/m/1003098-bright_lights_big_city',\n",
       " 'https://rottentomatoes.com/m/1003119-broken_arrow',\n",
       " 'https://rottentomatoes.com/m/1003136-brotherhood',\n",
       " 'https://rottentomatoes.com/m/1003217-bug',\n",
       " 'https://rottentomatoes.com/m/1003276-burglar',\n",
       " 'https://rottentomatoes.com/m/1003296-bus_stop',\n",
       " 'https://rottentomatoes.com/m/1003318-butch_cassidy_and_the_sundance_kid',\n",
       " 'https://rottentomatoes.com/m/1003339-bye_bye_birdie',\n",
       " 'https://rottentomatoes.com/m/1003399-calamity_jane',\n",
       " 'https://rottentomatoes.com/m/1003441-camille',\n",
       " 'https://rottentomatoes.com/m/1003492-cape_fear',\n",
       " 'https://rottentomatoes.com/m/1003499-captain_blood',\n",
       " 'https://rottentomatoes.com/m/1003531-captains_courageous',\n",
       " 'https://rottentomatoes.com/m/1003617-carny',\n",
       " 'https://rottentomatoes.com/m/1003625-carrie',\n",
       " 'https://rottentomatoes.com/m/1003707-casablanca',\n",
       " 'https://rottentomatoes.com/m/1003722-casino_royale',\n",
       " 'https://rottentomatoes.com/m/1003757-cat_people',\n",
       " 'https://rottentomatoes.com/m/1003758-cat_people',\n",
       " 'https://rottentomatoes.com/m/1003780-caught',\n",
       " 'https://rottentomatoes.com/m/1003854-champ',\n",
       " 'https://rottentomatoes.com/m/1003857-champion',\n",
       " 'https://rottentomatoes.com/m/1003883-charade',\n",
       " 'https://rottentomatoes.com/m/1003952-charlottes_web',\n",
       " 'https://rottentomatoes.com/m/1003953-charly',\n",
       " 'https://rottentomatoes.com/m/1003957-chase',\n",
       " 'https://rottentomatoes.com/m/1003972-checking_out',\n",
       " 'https://rottentomatoes.com/m/1004047-children_of_the_corn',\n",
       " 'https://rottentomatoes.com/m/1004110-chosen',\n",
       " 'https://rottentomatoes.com/m/1004125-christmas_carol',\n",
       " 'https://rottentomatoes.com/m/1004141-christmas_in_connecticut',\n",
       " 'https://rottentomatoes.com/m/1004151-christmas_story',\n",
       " 'https://rottentomatoes.com/m/1004177-cimarron',\n",
       " 'https://rottentomatoes.com/m/1004329-cleopatra',\n",
       " 'https://rottentomatoes.com/m/1004330-cleopatra',\n",
       " 'https://rottentomatoes.com/m/1004369-cloak_and_dagger',\n",
       " 'https://rottentomatoes.com/m/1004485-colors',\n",
       " 'https://rottentomatoes.com/m/1004502-coma',\n",
       " 'https://rottentomatoes.com/m/1004552-comfort_and_joy',\n",
       " 'https://rottentomatoes.com/m/1004559-coming_home',\n",
       " 'https://rottentomatoes.com/m/1004567-commando',\n",
       " 'https://rottentomatoes.com/m/1004703-convoy',\n",
       " 'https://rottentomatoes.com/m/1004743-corrupt',\n",
       " 'https://rottentomatoes.com/m/1004785-count_of_monte_cristo',\n",
       " 'https://rottentomatoes.com/m/1004790-countdown',\n",
       " 'https://rottentomatoes.com/m/1004798-country_girl',\n",
       " 'https://rottentomatoes.com/m/1004870-crawlspace',\n",
       " 'https://rottentomatoes.com/m/1004906-creature_from_the_black_lagoon',\n",
       " 'https://rottentomatoes.com/m/1004985-cross_my_heart',\n",
       " 'https://rottentomatoes.com/m/1004995-crossroads',\n",
       " 'https://rottentomatoes.com/m/1005090-cutting_class',\n",
       " 'https://rottentomatoes.com/m/1005107-doa',\n",
       " 'https://rottentomatoes.com/m/1005108-doa',\n",
       " 'https://rottentomatoes.com/m/1005152-damn_yankees',\n",
       " 'https://rottentomatoes.com/m/1005194-dangerous',\n",
       " 'https://rottentomatoes.com/m/1005199-dangerous_liaisons',\n",
       " 'https://rottentomatoes.com/m/1005242-dark_mirror',\n",
       " 'https://rottentomatoes.com/m/1005279-darling',\n",
       " 'https://rottentomatoes.com/m/1005339-dawn_of_the_dead',\n",
       " 'https://rottentomatoes.com/m/1005360-day_of_the_dead',\n",
       " 'https://rottentomatoes.com/m/1005371-day_the_earth_stood_still',\n",
       " 'https://rottentomatoes.com/m/1005381-days_of_wine_and_roses',\n",
       " 'https://rottentomatoes.com/m/1005399-dead_heat',\n",
       " 'https://rottentomatoes.com/m/1005412-dead_reckoning',\n",
       " 'https://rottentomatoes.com/m/1005512-death_in_venice',\n",
       " 'https://rottentomatoes.com/m/1005521-death_of_a_salesman',\n",
       " 'https://rottentomatoes.com/m/1005673-dentist',\n",
       " 'https://rottentomatoes.com/m/1005724-desperate_hours',\n",
       " 'https://rottentomatoes.com/m/1005762-devil_doll',\n",
       " 'https://rottentomatoes.com/m/1005865-dillinger',\n",
       " 'https://rottentomatoes.com/m/1005875-dinner_at_eight',\n",
       " 'https://rottentomatoes.com/m/1005964-disraeli',\n",
       " 'https://rottentomatoes.com/m/1005967-distant_thunder',\n",
       " 'https://rottentomatoes.com/m/1005973-diva',\n",
       " 'https://rottentomatoes.com/m/1006037-doctor_zhivago',\n",
       " 'https://rottentomatoes.com/m/1006042-dodge_city',\n",
       " 'https://rottentomatoes.com/m/1006068-dolls',\n",
       " 'https://rottentomatoes.com/m/1006080-don_giovanni',\n",
       " 'https://rottentomatoes.com/m/1006207-dr_jekyll_and_mr_hyde',\n",
       " 'https://rottentomatoes.com/m/1006208-dr_jekyll_and_mr_hyde',\n",
       " 'https://rottentomatoes.com/m/1006234-dracula',\n",
       " 'https://rottentomatoes.com/m/1006236-dracula',\n",
       " 'https://rottentomatoes.com/m/1006250-dragnet',\n",
       " 'https://rottentomatoes.com/m/1006287-dream_team',\n",
       " 'https://rottentomatoes.com/m/1006299-dressed_to_kill',\n",
       " 'https://rottentomatoes.com/m/1006345-duel',\n",
       " 'https://rottentomatoes.com/m/1006364-dune',\n",
       " 'https://rottentomatoes.com/m/1006416-east_of_eden',\n",
       " 'https://rottentomatoes.com/m/1006425-easy_money',\n",
       " 'https://rottentomatoes.com/m/1006438-eaten_alive',\n",
       " 'https://rottentomatoes.com/m/1006510-electric_dreams',\n",
       " 'https://rottentomatoes.com/m/1006527-elephant_man',\n",
       " 'https://rottentomatoes.com/m/1006646-enforcer',\n",
       " 'https://rottentomatoes.com/m/1006648-enforcer',\n",
       " 'https://rottentomatoes.com/m/1006676-equinox',\n",
       " 'https://rottentomatoes.com/m/1006717-escape_from_new_york',\n",
       " 'https://rottentomatoes.com/m/1006872-exodus',\n",
       " 'https://rottentomatoes.com/m/1006917-eyewitness',\n",
       " 'https://rottentomatoes.com/m/1006975-fade_to_black',\n",
       " 'https://rottentomatoes.com/m/1007003-fahrenheit_451',\n",
       " 'https://rottentomatoes.com/m/1007070-fan',\n",
       " 'https://rottentomatoes.com/m/1007073-fandango',\n",
       " 'https://rottentomatoes.com/m/1007078-fanny',\n",
       " 'https://rottentomatoes.com/m/1007101-far_country',\n",
       " 'https://rottentomatoes.com/m/1007105-far_from_the_madding_crowd',\n",
       " 'https://rottentomatoes.com/m/1007107-far_north',\n",
       " 'https://rottentomatoes.com/m/1007110-farewell_my_lovely',\n",
       " 'https://rottentomatoes.com/m/1007141-fatal_attraction',\n",
       " 'https://rottentomatoes.com/m/1007154-father_of_the_bride',\n",
       " 'https://rottentomatoes.com/m/1007195-feds',\n",
       " 'https://rottentomatoes.com/m/1007230-fever_pitch',\n",
       " 'https://rottentomatoes.com/m/1007350-fire_and_ice',\n",
       " 'https://rottentomatoes.com/m/1007517-flash_gordon',\n",
       " 'https://rottentomatoes.com/m/1007522-flashback',\n",
       " 'https://rottentomatoes.com/m/1007538-flesh_and_blood',\n",
       " 'https://rottentomatoes.com/m/1007555-flight_of_the_phoenix',\n",
       " 'https://rottentomatoes.com/m/1007573-flipper',\n",
       " 'https://rottentomatoes.com/m/1007600-fly',\n",
       " 'https://rottentomatoes.com/m/1007602-fly',\n",
       " 'https://rottentomatoes.com/m/1007615-flying_tigers',\n",
       " 'https://rottentomatoes.com/m/1007657-footloose',\n",
       " 'https://rottentomatoes.com/m/1007691-force_of_evil',\n",
       " 'https://rottentomatoes.com/m/1007739-foul_play',\n",
       " 'https://rottentomatoes.com/m/1007745-four_feathers',\n",
       " 'https://rottentomatoes.com/m/1007754-four_seasons',\n",
       " 'https://rottentomatoes.com/m/1007818-frankenstein',\n",
       " 'https://rottentomatoes.com/m/1007832-frantic',\n",
       " 'https://rottentomatoes.com/m/1007839-freaky_friday',\n",
       " 'https://rottentomatoes.com/m/1007910-fright_night',\n",
       " 'https://rottentomatoes.com/m/1007931-from_here_to_eternity',\n",
       " 'https://rottentomatoes.com/m/1007942-front_page',\n",
       " 'https://rottentomatoes.com/m/1007949-frosty_the_snowman',\n",
       " 'https://rottentomatoes.com/m/1007962-fugitive',\n",
       " 'https://rottentomatoes.com/m/1007977-fun_with_dick_and_jane',\n",
       " 'https://rottentomatoes.com/m/1007990-funny_farm',\n",
       " 'https://rottentomatoes.com/m/1008015-fury',\n",
       " 'https://rottentomatoes.com/m/1008055-galaxy_of_terror',\n",
       " 'https://rottentomatoes.com/m/1008074-gallipoli',\n",
       " 'https://rottentomatoes.com/m/1008080-gambler',\n",
       " 'https://rottentomatoes.com/m/1008166-general',\n",
       " 'https://rottentomatoes.com/m/1008243-getaway',\n",
       " 'https://rottentomatoes.com/m/1008358-girls_girls_girls',\n",
       " 'https://rottentomatoes.com/m/1008391-glass_menagerie',\n",
       " 'https://rottentomatoes.com/m/1008407-gloria',\n",
       " 'https://rottentomatoes.com/m/1008415-glory',\n",
       " 'https://rottentomatoes.com/m/1008437-go_west',\n",
       " 'https://rottentomatoes.com/m/1008457-goddess',\n",
       " 'https://rottentomatoes.com/m/1008513-golden_boy',\n",
       " 'https://rottentomatoes.com/m/1008588-gone_in_60_seconds',\n",
       " 'https://rottentomatoes.com/m/1008623-goodbye_girl',\n",
       " 'https://rottentomatoes.com/m/1008627-goodbye_mr_chips',\n",
       " 'https://rottentomatoes.com/m/1008799-great_gatsby',\n",
       " 'https://rottentomatoes.com/m/1008852-great_race',\n",
       " 'https://rottentomatoes.com/m/1008931-green_berets',\n",
       " 'https://rottentomatoes.com/m/1008942-greetings',\n",
       " 'https://rottentomatoes.com/m/1008968-grizzly',\n",
       " 'https://rottentomatoes.com/m/1008981-group',\n",
       " 'https://rottentomatoes.com/m/1009027-gullivers_travels',\n",
       " 'https://rottentomatoes.com/m/1009055-gunfighter',\n",
       " 'https://rottentomatoes.com/m/1009058-gung_ho',\n",
       " 'https://rottentomatoes.com/m/1009076-gypsy',\n",
       " 'https://rottentomatoes.com/m/1009096-hairspray',\n",
       " 'https://rottentomatoes.com/m/1009113-halloween',\n",
       " 'https://rottentomatoes.com/m/1009123-hamlet',\n",
       " 'https://rottentomatoes.com/m/1009131-hand',\n",
       " 'https://rottentomatoes.com/m/1009211-hard_times',\n",
       " 'https://rottentomatoes.com/m/1009219-hardcore',\n",
       " 'https://rottentomatoes.com/m/1009224-harder_they_fall',\n",
       " 'https://rottentomatoes.com/m/1009277-haunting',\n",
       " 'https://rottentomatoes.com/m/1009293-hawaii',\n",
       " 'https://rottentomatoes.com/m/1009399-heat',\n",
       " 'https://rottentomatoes.com/m/1009425-heaven',\n",
       " 'https://rottentomatoes.com/m/1009427-heaven_can_wait',\n",
       " 'https://rottentomatoes.com/m/1009437-heidi',\n",
       " 'https://rottentomatoes.com/m/1009456-hell_in_the_pacific',\n",
       " 'https://rottentomatoes.com/m/1009470-hells_angels_on_wheels',\n",
       " 'https://rottentomatoes.com/m/1009518-hercules',\n",
       " 'https://rottentomatoes.com/m/1009548-heroes',\n",
       " 'https://rottentomatoes.com/m/1009601-high_hopes',\n",
       " 'https://rottentomatoes.com/m/1009645-hills_have_eyes',\n",
       " 'https://rottentomatoes.com/m/1009649-hindenburg',\n",
       " 'https://rottentomatoes.com/m/1009691-hit',\n",
       " 'https://rottentomatoes.com/m/1009716-hobsons_choice',\n",
       " 'https://rottentomatoes.com/m/1009736-hole_in_the_head',\n",
       " 'https://rottentomatoes.com/m/1009830-home_of_the_brave',\n",
       " 'https://rottentomatoes.com/m/1009972-hot_pursuit',\n",
       " 'https://rottentomatoes.com/m/1009989-hotel',\n",
       " 'https://rottentomatoes.com/m/100_bloody_acres_2013',\n",
       " 'https://rottentomatoes.com/m/100_days_to_live',\n",
       " 'https://rottentomatoes.com/m/100_girls',\n",
       " 'https://rottentomatoes.com/m/100_men_and_a_girl',\n",
       " 'https://rottentomatoes.com/m/100_mile_rule',\n",
       " 'https://rottentomatoes.com/m/100_percent_wolf',\n",
       " 'https://rottentomatoes.com/m/100_streets',\n",
       " 'https://rottentomatoes.com/m/100_voices_a_journey_home',\n",
       " 'https://rottentomatoes.com/m/100_years_of_men_in_love',\n",
       " 'https://rottentomatoes.com/m/1010002-hound_of_the_baskervilles',\n",
       " 'https://rottentomatoes.com/m/1010004-hound_of_the_baskervilles',\n",
       " 'https://rottentomatoes.com/m/1010012-house',\n",
       " 'https://rottentomatoes.com/m/1010030-house_of_wax',\n",
       " 'https://rottentomatoes.com/m/1010034-house_on_haunted_hill',\n",
       " 'https://rottentomatoes.com/m/1010174-hud',\n",
       " 'https://rottentomatoes.com/m/1010215-hunchback_of_notre_dame',\n",
       " 'https://rottentomatoes.com/m/1010230-hunter',\n",
       " 'https://rottentomatoes.com/m/1010240-hurricane',\n",
       " 'https://rottentomatoes.com/m/1010249-hustle',\n",
       " 'https://rottentomatoes.com/m/1010263-i_the_jury',\n",
       " 'https://rottentomatoes.com/m/1010417-imitation_of_life',\n",
       " 'https://rottentomatoes.com/m/1010439-impulse',\n",
       " 'https://rottentomatoes.com/m/1010440-impulse',\n",
       " 'https://rottentomatoes.com/m/1010448-in_cold_blood',\n",
       " 'https://rottentomatoes.com/m/1010510-incredible_hulk',\n",
       " 'https://rottentomatoes.com/m/1010526-incubus',\n",
       " 'https://rottentomatoes.com/m/1010540-indiscreet',\n",
       " 'https://rottentomatoes.com/m/1010553-informer',\n",
       " 'https://rottentomatoes.com/m/1010623-intermezzo',\n",
       " 'https://rottentomatoes.com/m/1010672-invaders_from_mars',\n",
       " 'https://rottentomatoes.com/m/1010678-invasion_of_the_body_snatchers',\n",
       " 'https://rottentomatoes.com/m/1010679-invasion_of_the_body_snatchers',\n",
       " 'https://rottentomatoes.com/m/1010685-invasion_usa',\n",
       " 'https://rottentomatoes.com/m/1010695-invisible_man',\n",
       " 'https://rottentomatoes.com/m/1010752-island_of_dr_moreau',\n",
       " 'https://rottentomatoes.com/m/1010793-its_alive',\n",
       " 'https://rottentomatoes.com/m/1010824-ivanhoe',\n",
       " 'https://rottentomatoes.com/m/1010837-jack_and_the_beanstalk',\n",
       " 'https://rottentomatoes.com/m/1010889-jamaica_inn',\n",
       " 'https://rottentomatoes.com/m/1010939-jason_and_the_argonauts',\n",
       " 'https://rottentomatoes.com/m/1010978-jazz_singer',\n",
       " 'https://rottentomatoes.com/m/1010979-jazz_singer',\n",
       " 'https://rottentomatoes.com/m/1011028-jesus_christ_superstar',\n",
       " 'https://rottentomatoes.com/m/1011102-joan_of_arc',\n",
       " 'https://rottentomatoes.com/m/1011176-johnny_belinda',\n",
       " 'https://rottentomatoes.com/m/1011245-journey_into_fear',\n",
       " 'https://rottentomatoes.com/m/1011319-juggernaut',\n",
       " 'https://rottentomatoes.com/m/1011328-julius_caesar',\n",
       " 'https://rottentomatoes.com/m/1011329-julius_caesar',\n",
       " 'https://rottentomatoes.com/m/1011338-jungle_book',\n",
       " 'https://rottentomatoes.com/m/1011392-kansas',\n",
       " 'https://rottentomatoes.com/m/1011487-kickboxer',\n",
       " 'https://rottentomatoes.com/m/1011495-kid_galahad',\n",
       " 'https://rottentomatoes.com/m/1011558-killer_elite',\n",
       " 'https://rottentomatoes.com/m/1011573-killers',\n",
       " 'https://rottentomatoes.com/m/1011605-king_and_i',\n",
       " 'https://rottentomatoes.com/m/1011615-king_kong',\n",
       " 'https://rottentomatoes.com/m/1011617-king_kong',\n",
       " 'https://rottentomatoes.com/m/1011623-king_of_comedy',\n",
       " 'https://rottentomatoes.com/m/1011626-king_of_kings',\n",
       " 'https://rottentomatoes.com/m/1011638-king_solomons_mines',\n",
       " 'https://rottentomatoes.com/m/1011639-king_solomons_mines',\n",
       " 'https://rottentomatoes.com/m/1011814-lady_vanishes',\n",
       " 'https://rottentomatoes.com/m/1012007-laura',\n",
       " 'https://rottentomatoes.com/m/1012164-legend',\n",
       " 'https://rottentomatoes.com/m/1012225-les_miserables',\n",
       " 'https://rottentomatoes.com/m/1012264-letter',\n",
       " 'https://rottentomatoes.com/m/1012370-lilies_of_the_field',\n",
       " 'https://rottentomatoes.com/m/1012386-lion_in_winter',\n",
       " 'https://rottentomatoes.com/m/1012439-little_lord_fauntleroy',\n",
       " 'https://rottentomatoes.com/m/1012478-little_princess',\n",
       " 'https://rottentomatoes.com/m/1012506-little_romance',\n",
       " 'https://rottentomatoes.com/m/1012514-little_shop_of_horrors',\n",
       " 'https://rottentomatoes.com/m/1012515-little_shop_of_horrors',\n",
       " 'https://rottentomatoes.com/m/1012518-little_thief',\n",
       " 'https://rottentomatoes.com/m/1012524-little_women',\n",
       " 'https://rottentomatoes.com/m/1012525-little_women',\n",
       " 'https://rottentomatoes.com/m/1012605-lock_up',\n",
       " 'https://rottentomatoes.com/m/1012611-lolita',\n",
       " 'https://rottentomatoes.com/m/1012647-long_days_journey_into_night',\n",
       " 'https://rottentomatoes.com/m/1012662-long_hot_summer',\n",
       " 'https://rottentomatoes.com/m/1012665-longest_yard',\n",
       " 'https://rottentomatoes.com/m/1012754-losin_it',\n",
       " 'https://rottentomatoes.com/m/1012772-lost_patrol',\n",
       " 'https://rottentomatoes.com/m/1012813-love_bug',\n",
       " 'https://rottentomatoes.com/m/1012861-loverboy',\n",
       " 'https://rottentomatoes.com/m/1012871-lovesick',\n",
       " 'https://rottentomatoes.com/m/1012920-lust_for_life',\n",
       " 'https://rottentomatoes.com/m/1012993-madame_x',\n",
       " 'https://rottentomatoes.com/m/1013004-made_in_heaven',\n",
       " 'https://rottentomatoes.com/m/1013071-magnificent_ambersons',\n",
       " 'https://rottentomatoes.com/m/1013077-magnificent_seven',\n",
       " 'https://rottentomatoes.com/m/1013089-main_event',\n",
       " 'https://rottentomatoes.com/m/1013139-maltese_falcon',\n",
       " 'https://rottentomatoes.com/m/1013162-man_for_all_seasons',\n",
       " 'https://rottentomatoes.com/m/1013201-man_who_came_to_dinner',\n",
       " 'https://rottentomatoes.com/m/1013227-manchurian_candidate',\n",
       " 'https://rottentomatoes.com/m/1013238-manhattan_project',\n",
       " 'https://rottentomatoes.com/m/1013248-manhunter',\n",
       " 'https://rottentomatoes.com/m/1013259-mannequin',\n",
       " 'https://rottentomatoes.com/m/1013427-marty',\n",
       " 'https://rottentomatoes.com/m/1013481-mask',\n",
       " 'https://rottentomatoes.com/m/1013485-masque_of_the_red_death',\n",
       " 'https://rottentomatoes.com/m/1013488-masquerade',\n",
       " 'https://rottentomatoes.com/m/1013632-mechanic',\n",
       " 'https://rottentomatoes.com/m/1013711-men',\n",
       " 'https://rottentomatoes.com/m/1013772-meteor',\n",
       " 'https://rottentomatoes.com/m/1013867-midsummer_nights_dream',\n",
       " 'https://rottentomatoes.com/m/1013884-mighty_joe_young',\n",
       " 'https://rottentomatoes.com/m/1013919-million_dollar_mystery',\n",
       " 'https://rottentomatoes.com/m/1013973-miracle_worker',\n",
       " 'https://rottentomatoes.com/m/1013976-mirage',\n",
       " 'https://rottentomatoes.com/m/1013984-mischief',\n",
       " 'https://rottentomatoes.com/m/1014007-missing',\n",
       " 'https://rottentomatoes.com/m/1014008-missing_in_action',\n",
       " 'https://rottentomatoes.com/m/1014027-mission',\n",
       " 'https://rottentomatoes.com/m/1014061-mister_roberts',\n",
       " 'https://rottentomatoes.com/m/1014090-moby_dick',\n",
       " 'https://rottentomatoes.com/m/1014096-modern_girls',\n",
       " 'https://rottentomatoes.com/m/1014137-monkey_business',\n",
       " 'https://rottentomatoes.com/m/1014138-monkey_business',\n",
       " 'https://rottentomatoes.com/m/1014167-monte_walsh',\n",
       " 'https://rottentomatoes.com/m/1014215-moonlighting',\n",
       " 'https://rottentomatoes.com/m/1014217-moonraker',\n",
       " 'https://rottentomatoes.com/m/1014246-morning_glory',\n",
       " 'https://rottentomatoes.com/m/1014294-moulin_rouge',\n",
       " 'https://rottentomatoes.com/m/1014316-moving',\n",
       " 'https://rottentomatoes.com/m/1014325-mr_and_mrs_smith',\n",
       " 'https://rottentomatoes.com/m/1014352-mrs_soffel',\n",
       " 'https://rottentomatoes.com/m/1014370-mummy',\n",
       " 'https://rottentomatoes.com/m/1014372-mummy',\n",
       " 'https://rottentomatoes.com/m/1014396-murder',\n",
       " 'https://rottentomatoes.com/m/1014451-music_box',\n",
       " 'https://rottentomatoes.com/m/1014453-music_man',\n",
       " 'https://rottentomatoes.com/m/1014481-mutiny_on_the_bounty',\n",
       " 'https://rottentomatoes.com/m/1014482-mutiny_on_the_bounty',\n",
       " 'https://rottentomatoes.com/m/1014536-my_man_godfrey',\n",
       " 'https://rottentomatoes.com/m/1014592-mysterious_island',\n",
       " 'https://rottentomatoes.com/m/1014759-native_son',\n",
       " 'https://rottentomatoes.com/m/1014793-near_dark',\n",
       " 'https://rottentomatoes.com/m/1014804-neighbors',\n",
       " 'https://rottentomatoes.com/m/1014832-never_on_sunday',\n",
       " 'https://rottentomatoes.com/m/1014945-next_of_kin',\n",
       " 'https://rottentomatoes.com/m/1014946-next_of_kin',\n",
       " 'https://rottentomatoes.com/m/1014986-nicholas_and_alexandra',\n",
       " 'https://rottentomatoes.com/m/1015000-night_and_day',\n",
       " 'https://rottentomatoes.com/m/1015002-night_at_the_opera',\n",
       " 'https://rottentomatoes.com/m/1015079-night_to_remember',\n",
       " 'https://rottentomatoes.com/m/1015095-nighthawks',\n",
       " 'https://rottentomatoes.com/m/1015196-no_mans_land',\n",
       " 'https://rottentomatoes.com/m/1015199-no_mercy',\n",
       " 'https://rottentomatoes.com/m/1015218-no_way_out',\n",
       " 'https://rottentomatoes.com/m/1015224-nobodys_fool',\n",
       " 'https://rottentomatoes.com/m/1015287-notorious',\n",
       " 'https://rottentomatoes.com/m/1015361-obsession',\n",
       " 'https://rottentomatoes.com/m/1015380-odd_couple',\n",
       " 'https://rottentomatoes.com/m/1015383-odd_man_out',\n",
       " 'https://rottentomatoes.com/m/1015393-of_human_bondage',\n",
       " 'https://rottentomatoes.com/m/1015517-omen',\n",
       " 'https://rottentomatoes.com/m/1015530-on_the_beach',\n",
       " 'https://rottentomatoes.com/m/1015542-on_the_town',\n",
       " 'https://rottentomatoes.com/m/1015567-one_two_three',\n",
       " 'https://rottentomatoes.com/m/1015639-only_when_i_laugh',\n",
       " 'https://rottentomatoes.com/m/1015698-orphans',\n",
       " 'https://rottentomatoes.com/m/1015704-oscar',\n",
       " 'https://rottentomatoes.com/m/1015710-other',\n",
       " 'https://rottentomatoes.com/m/1015722-our_daily_bread',\n",
       " 'https://rottentomatoes.com/m/1015737-our_town',\n",
       " 'https://rottentomatoes.com/m/1015753-out_of_the_dark',\n",
       " 'https://rottentomatoes.com/m/1015758-outoftowners',\n",
       " 'https://rottentomatoes.com/m/1015925-paradise',\n",
       " 'https://rottentomatoes.com/m/1015944-parent_trap',\n",
       " 'https://rottentomatoes.com/m/1015967-party',\n",
       " 'https://rottentomatoes.com/m/1016035-patrick',\n",
       " 'https://rottentomatoes.com/m/1016111-pendulum',\n",
       " 'https://rottentomatoes.com/m/1016119-pennies_from_heaven',\n",
       " 'https://rottentomatoes.com/m/1016239-phantom_of_the_opera',\n",
       " 'https://rottentomatoes.com/m/1016302-picture_of_dorian_gray',\n",
       " 'https://rottentomatoes.com/m/1016338-pink_panther',\n",
       " 'https://rottentomatoes.com/m/1016359-piranha',\n",
       " 'https://rottentomatoes.com/m/1016363-pirates',\n",
       " 'https://rottentomatoes.com/m/1016369-pit_and_the_pendulum',\n",
       " 'https://rottentomatoes.com/m/1016397-planet_of_the_apes',\n",
       " 'https://rottentomatoes.com/m/1016437-players',\n",
       " 'https://rottentomatoes.com/m/1016479-point_blank',\n",
       " 'https://rottentomatoes.com/m/1016512-pollyanna',\n",
       " 'https://rottentomatoes.com/m/1016513-poltergeist',\n",
       " 'https://rottentomatoes.com/m/1016534-popeye',\n",
       " 'https://rottentomatoes.com/m/1016561-porkys',\n",
       " 'https://rottentomatoes.com/m/1016584-poseidon_adventure',\n",
       " 'https://rottentomatoes.com/m/1016586-posse',\n",
       " 'https://rottentomatoes.com/m/1016591-postman_always_rings_twice',\n",
       " 'https://rottentomatoes.com/m/1016592-postman_always_rings_twice',\n",
       " 'https://rottentomatoes.com/m/1016609-power',\n",
       " 'https://rottentomatoes.com/m/1016724-prince_and_the_pauper',\n",
       " 'https://rottentomatoes.com/m/1016756-prisoner_of_zenda',\n",
       " 'https://rottentomatoes.com/m/1016760-prisoner',\n",
       " 'https://rottentomatoes.com/m/1016793-private_lessons',\n",
       " 'https://rottentomatoes.com/m/1016819-producers',\n",
       " 'https://rottentomatoes.com/m/1016834-prom_night',\n",
       " 'https://rottentomatoes.com/m/1016842-prophecy',\n",
       " 'https://rottentomatoes.com/m/1016847-protector',\n",
       " 'https://rottentomatoes.com/m/1016854-prowler',\n",
       " 'https://rottentomatoes.com/m/1016885-public_enemy',\n",
       " 'https://rottentomatoes.com/m/1016897-pulse',\n",
       " 'https://rottentomatoes.com/m/1016925-pursued',\n",
       " 'https://rottentomatoes.com/m/1016943-pygmalion',\n",
       " 'https://rottentomatoes.com/m/1017021-quo_vadis',\n",
       " 'https://rottentomatoes.com/m/1017098-railway_children',\n",
       " 'https://rottentomatoes.com/m/1017100-rain',\n",
       " 'https://rottentomatoes.com/m/1017120-rainmaker',\n",
       " 'https://rottentomatoes.com/m/1017123-raisin_in_the_sun',\n",
       " 'https://rottentomatoes.com/m/1017201-rare_breed',\n",
       " 'https://rottentomatoes.com/m/1017222-raven',\n",
       " 'https://rottentomatoes.com/m/1017226-raw_deal',\n",
       " 'https://rottentomatoes.com/m/1017237-razors_edge',\n",
       " 'https://rottentomatoes.com/m/1017238-razors_edge',\n",
       " 'https://rottentomatoes.com/m/1017289-rear_window',\n",
       " 'https://rottentomatoes.com/m/1017293-rebecca',\n",
       " 'https://rottentomatoes.com/m/1017306-reckless',\n",
       " 'https://rottentomatoes.com/m/1017321-red_dawn',\n",
       " 'https://rottentomatoes.com/m/1017328-red_heat',\n",
       " 'https://rottentomatoes.com/m/1017352-red_sonja',\n",
       " 'https://rottentomatoes.com/m/1017382-reincarnation_of_peter_proud',\n",
       " 'https://rottentomatoes.com/m/1017391-rembrandt',\n",
       " 'https://rottentomatoes.com/m/1017405-renegades',\n",
       " 'https://rottentomatoes.com/m/1017422-resurrection',\n",
       " 'https://rottentomatoes.com/m/1017488-return_to_oz',\n",
       " 'https://rottentomatoes.com/m/1017502-revenge',\n",
       " 'https://rottentomatoes.com/m/1017530-rich_and_famous',\n",
       " 'https://rottentomatoes.com/m/1017641-risky_business',\n",
       " 'https://rottentomatoes.com/m/1017649-river',\n",
       " 'https://rottentomatoes.com/m/1017666-road_house',\n",
       " 'https://rottentomatoes.com/m/1017674-robbery',\n",
       " 'https://rottentomatoes.com/m/1017699-robin_hood',\n",
       " 'https://rottentomatoes.com/m/1017712-robocop',\n",
       " 'https://rottentomatoes.com/m/1017745-rock_n_roll_high_school',\n",
       " 'https://rottentomatoes.com/m/1017776-rocky',\n",
       " 'https://rottentomatoes.com/m/1017815-rollercoaster',\n",
       " 'https://rottentomatoes.com/m/1017818-rolling_thunder',\n",
       " 'https://rottentomatoes.com/m/1017823-roman_spring_of_mrs_stone',\n",
       " 'https://rottentomatoes.com/m/1017827-romantic_comedy',\n",
       " 'https://rottentomatoes.com/m/1017887-rose',\n",
       " 'https://rottentomatoes.com/m/1017957-rude_awakening',\n",
       " 'https://rottentomatoes.com/m/1017991-runaway',\n",
       " 'https://rottentomatoes.com/m/1018009-running_scared',\n",
       " 'https://rottentomatoes.com/m/1018044-sabotage',\n",
       " 'https://rottentomatoes.com/m/1018047-sabrina',\n",
       " 'https://rottentomatoes.com/m/1018051-sacco_and_vanzetti',\n",
       " 'https://rottentomatoes.com/m/1018069-sahara',\n",
       " 'https://rottentomatoes.com/m/1018126-samson_and_delilah',\n",
       " 'https://rottentomatoes.com/m/1018283-savages',\n",
       " 'https://rottentomatoes.com/m/1018315-scanners',\n",
       " 'https://rottentomatoes.com/m/1018318-scarecrow',\n",
       " 'https://rottentomatoes.com/m/1018323-scarface',\n",
       " 'https://rottentomatoes.com/m/1018413-scrooge',\n",
       " 'https://rottentomatoes.com/m/1018433-sea_hawk',\n",
       " 'https://rottentomatoes.com/m/1018473-second_sight',\n",
       " 'https://rottentomatoes.com/m/1018483-secret_agent',\n",
       " 'https://rottentomatoes.com/m/1018569-sender',\n",
       " 'https://rottentomatoes.com/m/1018587-separate_tables',\n",
       " 'https://rottentomatoes.com/m/1018688-shadow_of_a_doubt',\n",
       " 'https://rottentomatoes.com/m/1018699-shaft',\n",
       " 'https://rottentomatoes.com/m/1018702-shaggy_dog',\n",
       " 'https://rottentomatoes.com/m/1018704-shakedown',\n",
       " 'https://rottentomatoes.com/m/1018711-shall_we_dance',\n",
       " 'https://rottentomatoes.com/m/1018862-shock_to_the_system',\n",
       " 'https://rottentomatoes.com/m/1018865-shock_waves',\n",
       " 'https://rottentomatoes.com/m/1018880-shoot_to_kill',\n",
       " 'https://rottentomatoes.com/m/1018883-shooting_party',\n",
       " 'https://rottentomatoes.com/m/1018885-shooting',\n",
       " 'https://rottentomatoes.com/m/1018891-short_circuit',\n",
       " 'https://rottentomatoes.com/m/1018909-shot_in_the_dark',\n",
       " 'https://rottentomatoes.com/m/1018915-show_boat',\n",
       " 'https://rottentomatoes.com/m/1018916-show_boat',\n",
       " 'https://rottentomatoes.com/m/1018989-silent_night_deadly_night',\n",
       " 'https://rottentomatoes.com/m/1018994-silent_partner',\n",
       " 'https://rottentomatoes.com/m/1019026-simon',\n",
       " 'https://rottentomatoes.com/m/1019045-sinbad_the_sailor',\n",
       " 'https://rottentomatoes.com/m/1019128-skin_deep',\n",
       " 'https://rottentomatoes.com/m/1019187-sleeping_beauty',\n",
       " 'https://rottentomatoes.com/m/1019196-sleuth',\n",
       " 'https://rottentomatoes.com/m/1019234-smile',\n",
       " 'https://rottentomatoes.com/m/1019378-something_to_sing_about',\n",
       " 'https://rottentomatoes.com/m/1019441-sorcerer',\n",
       " 'https://rottentomatoes.com/m/1019482-southern_comfort',\n",
       " 'https://rottentomatoes.com/m/1019541-sparkle',\n",
       " 'https://rottentomatoes.com/m/1019544-spartacus',\n",
       " 'https://rottentomatoes.com/m/1019609-spellbound',\n",
       " 'https://rottentomatoes.com/m/1019625-spiral_staircase',\n",
       " 'https://rottentomatoes.com/m/1019716-spring_break',\n",
       " 'https://rottentomatoes.com/m/1019743-squeeze',\n",
       " 'https://rottentomatoes.com/m/1019761-1019761-st_valentines_day_massacre',\n",
       " 'https://rottentomatoes.com/m/1019774-stagecoach',\n",
       " 'https://rottentomatoes.com/m/1019777-stage_fright',\n",
       " 'https://rottentomatoes.com/m/1019779-stakeout',\n",
       " 'https://rottentomatoes.com/m/1019828-star_is_born',\n",
       " 'https://rottentomatoes.com/m/1019829-star_is_born',\n",
       " 'https://rottentomatoes.com/m/1019831-star_is_born',\n",
       " 'https://rottentomatoes.com/m/101_dalmatians',\n",
       " 'https://rottentomatoes.com/m/101_dalmatians_ii_patchs_london_adventure',\n",
       " 'https://rottentomatoes.com/m/1020035-starstruck',\n",
       " 'https://rottentomatoes.com/m/1020041-state_fair',\n",
       " 'https://rottentomatoes.com/m/1020086-stella',\n",
       " 'https://rottentomatoes.com/m/1020130-sting',\n",
       " 'https://rottentomatoes.com/m/1020287-stranger',\n",
       " 'https://rottentomatoes.com/m/1020333-streetcar_named_desire',\n",
       " 'https://rottentomatoes.com/m/1020398-suburbia',\n",
       " 'https://rottentomatoes.com/m/1020415-suddenly',\n",
       " 'https://rottentomatoes.com/m/1020451-summer_school',\n",
       " 'https://rottentomatoes.com/m/1020479-sundowners',\n",
       " 'https://rottentomatoes.com/m/1020488-sunshine_boys',\n",
       " 'https://rottentomatoes.com/m/1020639-surrender',\n",
       " 'https://rottentomatoes.com/m/1020659-suspect',\n",
       " 'https://rottentomatoes.com/m/1020660-suspicion',\n",
       " 'https://rottentomatoes.com/m/1020664-svengali',\n",
       " 'https://rottentomatoes.com/m/1020684-sweet_bird_of_youth',\n",
       " 'https://rottentomatoes.com/m/1020729-swing_time',\n",
       " 'https://rottentomatoes.com/m/1020736-swiss_family_robinson',\n",
       " 'https://rottentomatoes.com/m/1020814-tale_of_two_cities',\n",
       " 'https://rottentomatoes.com/m/1020861-taming_of_the_shrew',\n",
       " 'https://rottentomatoes.com/m/1020889-target',\n",
       " 'https://rottentomatoes.com/m/1020896-tarzan_the_ape_man',\n",
       " 'https://rottentomatoes.com/m/1020897-tarzan_the_ape_man',\n",
       " 'https://rottentomatoes.com/m/1020906-tattoo',\n",
       " 'https://rottentomatoes.com/m/1021008-tempest',\n",
       " 'https://rottentomatoes.com/m/1021015-ten_commandments',\n",
       " 'https://rottentomatoes.com/m/1021067-terror',\n",
       " 'https://rottentomatoes.com/m/1021112-texas_chainsaw_massacre',\n",
       " 'https://rottentomatoes.com/m/1021128-that_championship_season',\n",
       " 'https://rottentomatoes.com/m/1021130-that_darn_cat',\n",
       " 'https://rottentomatoes.com/m/1021186-them',\n",
       " 'https://rottentomatoes.com/m/1021211-shivers',\n",
       " 'https://rottentomatoes.com/m/1021214-they_drive_by_night',\n",
       " 'https://rottentomatoes.com/m/1021230-thief',\n",
       " 'https://rottentomatoes.com/m/1021242-thing',\n",
       " 'https://rottentomatoes.com/m/1021244-thing',\n",
       " 'https://rottentomatoes.com/m/1021262-thirst',\n",
       " 'https://rottentomatoes.com/m/1021269-this_gun_for_hire',\n",
       " 'https://rottentomatoes.com/m/1021312-three_amigos',\n",
       " 'https://rottentomatoes.com/m/1021339-three_musketeers',\n",
       " 'https://rottentomatoes.com/m/1021340-three_musketeers',\n",
       " 'https://rottentomatoes.com/m/1021500-time_machine',\n",
       " 'https://rottentomatoes.com/m/1021558-to_be_or_not_to_be',\n",
       " 'https://rottentomatoes.com/m/1021681-toolbox_murders',\n",
       " 'https://rottentomatoes.com/m/1021699-top_secret',\n",
       " 'https://rottentomatoes.com/m/1021711-torment',\n",
       " 'https://rottentomatoes.com/m/1021749-touch_of_evil',\n",
       " 'https://rottentomatoes.com/m/1021765-tough_guys',\n",
       " 'https://rottentomatoes.com/m/1021788-tourist_trap',\n",
       " 'https://rottentomatoes.com/m/1021963-treasure_island',\n",
       " 'https://rottentomatoes.com/m/1022024-trip',\n",
       " 'https://rottentomatoes.com/m/1022079-true_love',\n",
       " 'https://rottentomatoes.com/m/1022131-turning_point',\n",
       " 'https://rottentomatoes.com/m/1022170-twelve_chairs',\n",
       " 'https://rottentomatoes.com/m/1022172-twelve_oclock_high',\n",
       " 'https://rottentomatoes.com/m/1022191-twins',\n",
       " 'https://rottentomatoes.com/m/1022225-two_of_a_kind',\n",
       " 'https://rottentomatoes.com/m/1022300-ulysses',\n",
       " 'https://rottentomatoes.com/m/1022314-uncommon_valor',\n",
       " 'https://rottentomatoes.com/m/1022315-undefeated',\n",
       " 'https://rottentomatoes.com/m/1022317-under_capricorn',\n",
       " 'https://rottentomatoes.com/m/1022369-unfaithfully_yours',\n",
       " 'https://rottentomatoes.com/m/1022370-unfaithfully_yours',\n",
       " 'https://rottentomatoes.com/m/1022373-unforgiven',\n",
       " 'https://rottentomatoes.com/m/1022504-vanishing_point',\n",
       " 'https://rottentomatoes.com/m/1022537-venom',\n",
       " 'https://rottentomatoes.com/m/1022570-vice_versa',\n",
       " 'https://rottentomatoes.com/m/1022576-victory',\n",
       " 'https://rottentomatoes.com/m/1022823-village_of_the_damned',\n",
       " 'https://rottentomatoes.com/m/1022869-virginian',\n",
       " 'https://rottentomatoes.com/m/1023007-walking_tall',\n",
       " 'https://rottentomatoes.com/m/1023166-warlock',\n",
       " 'https://rottentomatoes.com/m/1023205-warriors',\n",
       " 'https://rottentomatoes.com/m/1023286-were_no_angels',\n",
       " 'https://rottentomatoes.com/m/1023299-wedding',\n",
       " 'https://rottentomatoes.com/m/1023316-weird_science',\n",
       " 'https://rottentomatoes.com/m/1023461-when_a_stranger_calls',\n",
       " 'https://rottentomatoes.com/m/1023508-where_the_boys_are',\n",
       " 'https://rottentomatoes.com/m/1023543-white_christmas',\n",
       " 'https://rottentomatoes.com/m/1023635-wicked_lady',\n",
       " 'https://rottentomatoes.com/m/1023717-willard',\n",
       " 'https://rottentomatoes.com/m/1023739-winchester_73',\n",
       " 'https://rottentomatoes.com/m/1023854-witness',\n",
       " 'https://rottentomatoes.com/m/1023900-womans_face',\n",
       " 'https://rottentomatoes.com/m/1023906-women',\n",
       " 'https://rottentomatoes.com/m/1024191-wrong_man',\n",
       " 'https://rottentomatoes.com/m/1024192-wuthering_heights',\n",
       " 'https://rottentomatoes.com/m/1024232-year_of_the_dragon',\n",
       " 'https://rottentomatoes.com/m/1024237-yearling',\n",
       " 'https://rottentomatoes.com/m/1024407-yours_mine_and_ours',\n",
       " 'https://rottentomatoes.com/m/1028554-blue_steel',\n",
       " 'https://rottentomatoes.com/m/1028561-where_the_heart_is',\n",
       " 'https://rottentomatoes.com/m/1028564-guardian',\n",
       " 'https://rottentomatoes.com/m/1028589-johnny_come_lately',\n",
       " 'https://rottentomatoes.com/m/1028711-mystery_train',\n",
       " 'https://rottentomatoes.com/m/1028715-revolution',\n",
       " 'https://rottentomatoes.com/m/1029042-henry_v',\n",
       " 'https://rottentomatoes.com/m/1029072-kiss_of_death',\n",
       " 'https://rottentomatoes.com/m/1029099-conquest',\n",
       " 'https://rottentomatoes.com/m/1029112-alice_in_wonderland',\n",
       " 'https://rottentomatoes.com/m/1029161-my_blue_heaven',\n",
       " 'https://rottentomatoes.com/m/1029261-state_fair',\n",
       " 'https://rottentomatoes.com/m/1029314-dick_tracy',\n",
       " 'https://rottentomatoes.com/m/1029390-born_to_be_bad',\n",
       " 'https://rottentomatoes.com/m/1029408-bombshell',\n",
       " 'https://rottentomatoes.com/m/1029427-navy_seals',\n",
       " 'https://rottentomatoes.com/m/1029524-romeo_and_juliet',\n",
       " 'https://rottentomatoes.com/m/1029895-goodbye_mr_chips',\n",
       " 'https://rottentomatoes.com/m/102_dalmatians',\n",
       " 'https://rottentomatoes.com/m/1030142-champ',\n",
       " 'https://rottentomatoes.com/m/1030146-narrow_margin',\n",
       " 'https://rottentomatoes.com/m/1030149-hot_spot',\n",
       " 'https://rottentomatoes.com/m/1030244-red_dust',\n",
       " 'https://rottentomatoes.com/m/1030709-sibling_rivalry',\n",
       " ...]"
      ]
     },
     "execution_count": 73,
     "metadata": {},
     "output_type": "execute_result"
    }
   ],
   "source": [
    "full_links = [('https://rottentomatoes.com/m/' + link) for link in id_list]\n",
    "full_links"
   ]
  },
  {
   "cell_type": "code",
   "execution_count": 74,
   "id": "49a5d0b0-8eb1-4511-86c0-41c226f3a0d4",
   "metadata": {},
   "outputs": [
    {
     "data": {
      "text/plain": [
       "24014"
      ]
     },
     "execution_count": 74,
     "metadata": {},
     "output_type": "execute_result"
    }
   ],
   "source": [
    "len(full_links)"
   ]
  },
  {
   "cell_type": "markdown",
   "id": "a4784e43-9124-441e-aa50-e4022c71098c",
   "metadata": {},
   "source": [
    "def rotten_tomatoes_general_info(url):\n",
    "    response_URL_rotten_tomatoes = requests.get(url)\n",
    "    soup_rotten_tomatoes = BeautifulSoup(response_URL_rotten_tomatoes.text)\n",
    "    rotten_tomatoes_info = soup_rotten_tomatoes.find_all(slot='metadataProp') #general info\n",
    "    rotten_tomatoes_info_clean = [info.text.strip() for info in rotten_tomatoes_info]\n",
    "    return rotten_tomatoes_info_clean"
   ]
  },
  {
   "cell_type": "markdown",
   "id": "a620dd40-1990-41e2-a4f0-48146b1fc7dc",
   "metadata": {},
   "source": [
    "rotten_tomatoes_general = [rotten_tomatoes_general_info(url) for url in full_links]\n",
    "rotten_tomatoes_general"
   ]
  },
  {
   "cell_type": "markdown",
   "id": "9033e709-8bb9-4b09-848d-bcf5de1b3c57",
   "metadata": {},
   "source": [
    "# Data Q's"
   ]
  },
  {
   "cell_type": "markdown",
   "id": "a9c46f35-e176-4e38-9282-aa816ca83b25",
   "metadata": {
    "jp-MarkdownHeadingCollapsed": true
   },
   "source": [
    "## 1 - Has there been an increase over the years in the number of movies highly rated by audiences but panned by critics? What about the number of movies highly rated by critics but that bombed with audiences?"
   ]
  },
  {
   "cell_type": "code",
   "execution_count": 75,
   "id": "ad9a48bb-fb92-4634-bf96-d236867a10c5",
   "metadata": {},
   "outputs": [],
   "source": [
    "#groupby year for high critic datasets\n",
    "rt_high_critic_theater_years = rotten_tomatoes_high_critic.groupby('releaseYearTheaters', as_index = False)['releaseYearTheaters'].value_counts()\n",
    "rt_high_critic_streaming_years = rotten_tomatoes_high_critic.groupby('releaseYearStreaming', as_index = False)['releaseYearStreaming'].value_counts()"
   ]
  },
  {
   "cell_type": "code",
   "execution_count": 76,
   "id": "4074636e-ca95-49cc-a981-3963a6a4d28c",
   "metadata": {},
   "outputs": [],
   "source": [
    "#groupby year for high audience datasets\n",
    "rt_high_audience_theater_years = rotten_tomatoes_high_audience.groupby('releaseYearTheaters', as_index = False)['releaseYearTheaters'].value_counts()\n",
    "rt_high_audience_streaming_years = rotten_tomatoes_high_audience.groupby('releaseYearStreaming', as_index = False)['releaseYearStreaming'].value_counts()"
   ]
  },
  {
   "cell_type": "code",
   "execution_count": 77,
   "id": "efa2cd65-faa8-40e6-ac0b-12cdfba11c41",
   "metadata": {},
   "outputs": [],
   "source": [
    "#groupby year for high-high datasets\n",
    "rt_high_high_theater_years = rotten_tomatoes_high_high.groupby('releaseYearTheaters', as_index = False)['releaseYearTheaters'].value_counts()\n",
    "rt_high_high_streaming_years = rotten_tomatoes_high_high.groupby('releaseYearStreaming', as_index = False)['releaseYearStreaming'].value_counts()"
   ]
  },
  {
   "cell_type": "code",
   "execution_count": 78,
   "id": "4a9093cd-5270-444e-b17f-8662f6604498",
   "metadata": {},
   "outputs": [],
   "source": [
    "#groupby year for high critic extreme datasets\n",
    "rt_high_critic_extreme_theater_years = rotten_tomatoes_high_critic_extreme.groupby('releaseYearTheaters', as_index = False)['releaseYearTheaters'].value_counts()\n",
    "rt_high_critic_extreme_streaming_years = rotten_tomatoes_high_critic_extreme.groupby('releaseYearStreaming', as_index = False)['releaseYearStreaming'].value_counts()"
   ]
  },
  {
   "cell_type": "code",
   "execution_count": 79,
   "id": "0e05a1c1-4bec-4998-9357-a3e00e33338e",
   "metadata": {},
   "outputs": [],
   "source": [
    "#groupby year for high audience extreme datasets\n",
    "rt_high_audience_extreme_theater_years = rotten_tomatoes_high_audience_extreme.groupby('releaseYearTheaters', as_index = False)['releaseYearTheaters'].value_counts()\n",
    "rt_high_audience_extreme_streaming_years = rotten_tomatoes_high_audience_extreme.groupby('releaseYearStreaming', as_index = False)['releaseYearStreaming'].value_counts()"
   ]
  },
  {
   "cell_type": "code",
   "execution_count": 80,
   "id": "80c32e5c-06cb-4df7-9984-496939d30c51",
   "metadata": {},
   "outputs": [],
   "source": [
    "#groupby year for high-high extreme datasets\n",
    "rt_high_high_extreme_theater_years = rotten_tomatoes_high_high_extreme.groupby('releaseYearTheaters', as_index = False)['releaseYearTheaters'].value_counts()\n",
    "rt_high_high_extreme_streaming_years = rotten_tomatoes_high_high_extreme.groupby('releaseYearStreaming', as_index = False)['releaseYearStreaming'].value_counts()"
   ]
  },
  {
   "cell_type": "code",
   "execution_count": 81,
   "id": "db7f3f0a-0ad5-4e90-9504-13321b8d1501",
   "metadata": {},
   "outputs": [],
   "source": [
    "#groupby year master totals\n",
    "rt_total_theater_years = rotten_tomatoes_final.groupby('releaseYearTheaters', as_index = False)['releaseYearTheaters'].value_counts()\n",
    "rt_total_streaming_years = rotten_tomatoes_final.groupby('releaseYearStreaming', as_index = False)['releaseYearStreaming'].value_counts()"
   ]
  },
  {
   "cell_type": "code",
   "execution_count": 82,
   "id": "85c5623a-a043-4355-98c3-0cdabf18e435",
   "metadata": {},
   "outputs": [],
   "source": [
    "#merge master totals with each dataset\n",
    "rt_high_critic_theater_years_pct = pd.merge(rt_high_critic_theater_years, rt_total_theater_years, on='releaseYearTheaters', how='left')\n",
    "rt_high_critic_streaming_years_pct = pd.merge(rt_high_critic_streaming_years, rt_total_streaming_years, on='releaseYearStreaming', how='left')\n",
    "rt_high_audience_theater_years_pct = pd.merge(rt_high_audience_theater_years, rt_total_theater_years, on='releaseYearTheaters', how='left')\n",
    "rt_high_audience_streaming_years_pct = pd.merge(rt_high_audience_streaming_years, rt_total_streaming_years, on='releaseYearStreaming', how='left')\n",
    "rt_high_high_theater_years_pct = pd.merge(rt_high_high_theater_years, rt_total_theater_years, on='releaseYearTheaters', how='left')\n",
    "rt_high_high_streaming_years_pct = pd.merge(rt_high_high_streaming_years, rt_total_streaming_years, on='releaseYearStreaming', how='left')\n",
    "rt_high_critic_extreme_theater_years_pct = pd.merge(rt_high_critic_extreme_theater_years, rt_total_theater_years, on='releaseYearTheaters', how='left')\n",
    "rt_high_critic_extreme_streaming_years_pct = pd.merge(rt_high_critic_extreme_streaming_years, rt_total_streaming_years, on='releaseYearStreaming', how='left')\n",
    "rt_high_audience_extreme_theater_years_pct = pd.merge(rt_high_audience_extreme_theater_years, rt_total_theater_years, on='releaseYearTheaters', how='left')\n",
    "rt_high_audience_extreme_streaming_years_pct = pd.merge(rt_high_audience_extreme_streaming_years, rt_total_streaming_years, on='releaseYearStreaming', how='left')\n",
    "rt_high_high_extreme_theater_years_pct = pd.merge(rt_high_high_extreme_theater_years, rt_total_theater_years, on='releaseYearTheaters', how='left')\n",
    "rt_high_high_extreme_streaming_years_pct = pd.merge(rt_high_high_extreme_streaming_years, rt_total_streaming_years, on='releaseYearStreaming', how='left')"
   ]
  },
  {
   "cell_type": "code",
   "execution_count": 83,
   "id": "96efa4d1-e075-4086-a461-1de005dd6116",
   "metadata": {},
   "outputs": [],
   "source": [
    "#rename columns\n",
    "rt_high_critic_theater_years_pct = rt_high_critic_theater_years_pct.rename(columns={'count_x': 'high_critic_total', 'count_y': 'theater_total'})\n",
    "rt_high_critic_streaming_years_pct = rt_high_critic_streaming_years_pct.rename(columns={'count_x': 'high_critic_total', 'count_y': 'streaming_total'})\n",
    "rt_high_audience_theater_years_pct = rt_high_audience_theater_years_pct.rename(columns={'count_x': 'high_audience_total', 'count_y': 'theater_total'})\n",
    "rt_high_audience_streaming_years_pct = rt_high_audience_streaming_years_pct.rename(columns={'count_x': 'high_audience_total', 'count_y': 'streaming_total'})\n",
    "rt_high_high_theater_years_pct = rt_high_high_theater_years_pct.rename(columns={'count_x': 'high_high_total', 'count_y': 'theater_total'})\n",
    "rt_high_high_streaming_years_pct = rt_high_high_streaming_years_pct.rename(columns={'count_x': 'high_high_total', 'count_y': 'streaming_total'})\n",
    "rt_high_critic_extreme_theater_years_pct = rt_high_critic_extreme_theater_years_pct.rename(columns={'count_x': 'high_critic_extreme_total', 'count_y': 'theater_total'})\n",
    "rt_high_critic_extreme_streaming_years_pct = rt_high_critic_extreme_streaming_years_pct.rename(columns={'count_x': 'high_critic_extreme_total', 'count_y': 'streaming_total'})\n",
    "rt_high_audience_extreme_theater_years_pct = rt_high_audience_extreme_theater_years_pct.rename(columns={'count_x': 'high_audience_extreme_total', 'count_y': 'theater_total'})\n",
    "rt_high_audience_extreme_streaming_years_pct = rt_high_audience_extreme_streaming_years_pct.rename(columns={'count_x': 'high_audience_extreme_total', 'count_y': 'streaming_total'})\n",
    "rt_high_high_extreme_theater_years_pct = rt_high_high_extreme_theater_years_pct.rename(columns={'count_x': 'high_high_extreme_total', 'count_y': 'theater_total'})\n",
    "rt_high_high_extreme_streaming_years_pct = rt_high_high_extreme_streaming_years_pct.rename(columns={'count_x': 'high_high_extreme_total', 'count_y': 'streaming_total'})"
   ]
  },
  {
   "cell_type": "code",
   "execution_count": 84,
   "id": "a2a7a8a0-a3f6-4233-99a1-f7bd93f15214",
   "metadata": {},
   "outputs": [],
   "source": [
    "#create percentage column\n",
    "rt_high_critic_theater_years_pct['pct'] = round(rt_high_critic_theater_years_pct['high_critic_total']/rt_high_critic_theater_years_pct['theater_total']*100,2)\n",
    "rt_high_critic_streaming_years_pct['pct'] = round(rt_high_critic_streaming_years_pct['high_critic_total']/rt_high_critic_streaming_years_pct['streaming_total']*100,2)\n",
    "rt_high_audience_theater_years_pct['pct'] = round(rt_high_audience_theater_years_pct['high_audience_total']/rt_high_audience_theater_years_pct['theater_total']*100,2)\n",
    "rt_high_audience_streaming_years_pct['pct'] = round(rt_high_audience_streaming_years_pct['high_audience_total']/rt_high_audience_streaming_years_pct['streaming_total']*100,2)\n",
    "rt_high_high_theater_years_pct['pct'] = round(rt_high_high_theater_years_pct['high_high_total']/rt_high_high_theater_years_pct['theater_total']*100,2)\n",
    "rt_high_high_streaming_years_pct['pct'] = round(rt_high_high_streaming_years_pct['high_high_total']/rt_high_high_streaming_years_pct['streaming_total']*100,2)\n",
    "rt_high_critic_extreme_theater_years_pct['pct'] = round(rt_high_critic_extreme_theater_years_pct['high_critic_extreme_total']/rt_high_critic_theater_years_pct['theater_total']*100,2)\n",
    "rt_high_critic_extreme_streaming_years_pct['pct'] = round(rt_high_critic_extreme_streaming_years_pct['high_critic_extreme_total']/rt_high_critic_streaming_years_pct['streaming_total']*100,2)\n",
    "rt_high_audience_extreme_theater_years_pct['pct'] = round(rt_high_audience_extreme_theater_years_pct['high_audience_extreme_total']/rt_high_audience_theater_years_pct['theater_total']*100,2)\n",
    "rt_high_audience_extreme_streaming_years_pct['pct'] = round(rt_high_audience_extreme_streaming_years_pct['high_audience_extreme_total']/rt_high_audience_streaming_years_pct['streaming_total']*100,2)\n",
    "rt_high_high_extreme_theater_years_pct['pct'] = round(rt_high_high_extreme_theater_years_pct['high_high_extreme_total']/rt_high_high_extreme_theater_years_pct['theater_total']*100,2)\n",
    "rt_high_high_extreme_streaming_years_pct['pct'] = round(rt_high_high_extreme_streaming_years_pct['high_high_extreme_total']/rt_high_high_extreme_streaming_years_pct['streaming_total']*100,2)"
   ]
  },
  {
   "cell_type": "code",
   "execution_count": 87,
   "id": "9405c6de-ebc3-4fd0-a6a5-91d682c9209c",
   "metadata": {},
   "outputs": [
    {
     "data": {
      "text/plain": [
       "Text(0.5, 1.0, 'High Critic/Low Audience Percentage Over Time')"
      ]
     },
     "execution_count": 87,
     "metadata": {},
     "output_type": "execute_result"
    },
    {
     "data": {
      "image/png": "[encoded data removed]",
      "text/plain": [
       "<Figure size 640x480 with 1 Axes>"
      ]
     },
     "metadata": {},
     "output_type": "display_data"
    }
   ],
   "source": [
    "plt.plot('releaseYearTheaters', 'pct', data=rt_high_critic_theater_years_pct)\n",
    "plt.xlabel('Theater Release Year')                            \n",
    "plt.ylabel('Percentage')\n",
    "plt.title('High Critic/Low Audience Percentage Over Time')"
   ]
  },
  {
   "cell_type": "code",
   "execution_count": 88,
   "id": "6c4d2a37-f477-4e26-aee9-9d5e91b9df01",
   "metadata": {},
   "outputs": [
    {
     "data": {
      "text/plain": [
       "Text(0.5, 1.0, 'High Critic/Low Audience Percentage Over Time')"
      ]
     },
     "execution_count": 88,
     "metadata": {},
     "output_type": "execute_result"
    },
    {
     "data": {
      "image/png": "[encoded data removed]",
      "text/plain": [
       "<Figure size 640x480 with 1 Axes>"
      ]
     },
     "metadata": {},
     "output_type": "display_data"
    }
   ],
   "source": [
    "plt.plot('releaseYearStreaming', 'pct', data=rt_high_critic_streaming_years_pct)\n",
    "plt.xlabel('Streaming Release Year')                            \n",
    "plt.ylabel('Percentage')\n",
    "plt.title('High Critic/Low Audience Percentage Over Time')"
   ]
  },
  {
   "cell_type": "code",
   "execution_count": 89,
   "id": "6ba79779-6e93-41c8-92ed-fa4ff73c7b6a",
   "metadata": {},
   "outputs": [
    {
     "data": {
      "text/plain": [
       "Text(0.5, 1.0, 'Low Critic/High Audience Percentage Over Time')"
      ]
     },
     "execution_count": 89,
     "metadata": {},
     "output_type": "execute_result"
    },
    {
     "data": {
      "image/png": "[encoded data removed]",
      "text/plain": [
       "<Figure size 640x480 with 1 Axes>"
      ]
     },
     "metadata": {},
     "output_type": "display_data"
    }
   ],
   "source": [
    "plt.plot('releaseYearTheaters', 'pct', data=rt_high_audience_theater_years_pct)\n",
    "plt.xlabel('Theater Release Year')                            \n",
    "plt.ylabel('Percentage')\n",
    "plt.title('Low Critic/High Audience Percentage Over Time')"
   ]
  },
  {
   "cell_type": "code",
   "execution_count": 90,
   "id": "17f0473b-7737-4eab-8257-027444f17846",
   "metadata": {},
   "outputs": [
    {
     "data": {
      "text/plain": [
       "Text(0.5, 1.0, 'Low Critic/High Audience Percentage Over Time')"
      ]
     },
     "execution_count": 90,
     "metadata": {},
     "output_type": "execute_result"
    },
    {
     "data": {
      "image/png": "[encoded data removed]",
      "text/plain": [
       "<Figure size 640x480 with 1 Axes>"
      ]
     },
     "metadata": {},
     "output_type": "display_data"
    }
   ],
   "source": [
    "plt.plot('releaseYearStreaming', 'pct', data=rt_high_audience_streaming_years_pct)\n",
    "plt.xlabel('Streaming Release Year')                            \n",
    "plt.ylabel('Percentage')\n",
    "plt.title('Low Critic/High Audience Percentage Over Time')"
   ]
  },
  {
   "cell_type": "code",
   "execution_count": 91,
   "id": "866808b9-8e96-447f-916a-b43577f55781",
   "metadata": {},
   "outputs": [
    {
     "data": {
      "text/plain": [
       "Text(0.5, 1.0, 'High Critic/High Audience Percentage Over Time')"
      ]
     },
     "execution_count": 91,
     "metadata": {},
     "output_type": "execute_result"
    },
    {
     "data": {
      "image/png": "[encoded data removed]",
      "text/plain": [
       "<Figure size 640x480 with 1 Axes>"
      ]
     },
     "metadata": {},
     "output_type": "display_data"
    }
   ],
   "source": [
    "plt.plot('releaseYearTheaters', 'pct', data=rt_high_high_theater_years_pct)\n",
    "plt.xlabel('Theater Release Year')                            \n",
    "plt.ylabel('Percentage')\n",
    "plt.title('High Critic/High Audience Percentage Over Time')"
   ]
  },
  {
   "cell_type": "code",
   "execution_count": 92,
   "id": "d031c345-add8-4fcd-b5a1-89d668a8247d",
   "metadata": {},
   "outputs": [
    {
     "data": {
      "text/plain": [
       "Text(0.5, 1.0, 'High Critic/High Audience Percentage Over Time')"
      ]
     },
     "execution_count": 92,
     "metadata": {},
     "output_type": "execute_result"
    },
    {
     "data": {
      "image/png": "[encoded data removed]",
      "text/plain": [
       "<Figure size 640x480 with 1 Axes>"
      ]
     },
     "metadata": {},
     "output_type": "display_data"
    }
   ],
   "source": [
    "plt.plot('releaseYearStreaming', 'pct', data=rt_high_high_streaming_years_pct)\n",
    "plt.xlabel('Streaming Release Year')                            \n",
    "plt.ylabel('Percentage')\n",
    "plt.title('High Critic/High Audience Percentage Over Time')"
   ]
  },
  {
   "cell_type": "code",
   "execution_count": 93,
   "id": "f3674274-c8e4-4295-912b-d3f64e608a56",
   "metadata": {},
   "outputs": [
    {
     "data": {
      "text/plain": [
       "Text(0.5, 1.0, 'High Critic/Low Audience (>40% gap) Percentage Over Time')"
      ]
     },
     "execution_count": 93,
     "metadata": {},
     "output_type": "execute_result"
    },
    {
     "data": {
      "image/png": "[encoded data removed]",
      "text/plain": [
       "<Figure size 640x480 with 1 Axes>"
      ]
     },
     "metadata": {},
     "output_type": "display_data"
    }
   ],
   "source": [
    "plt.plot('releaseYearTheaters', 'pct', data=rt_high_critic_extreme_theater_years_pct)\n",
    "plt.xlabel('Theater Release Year')                            \n",
    "plt.ylabel('Percentage')\n",
    "plt.title('High Critic/Low Audience (>40% gap) Percentage Over Time')"
   ]
  },
  {
   "cell_type": "code",
   "execution_count": 94,
   "id": "b199b22f-16a6-4d8e-b54c-0c76bf2256df",
   "metadata": {},
   "outputs": [
    {
     "data": {
      "text/plain": [
       "Text(0.5, 1.0, 'High Critic/Low Audience (>40% gap) Percentage Over Time')"
      ]
     },
     "execution_count": 94,
     "metadata": {},
     "output_type": "execute_result"
    },
    {
     "data": {
      "image/png": "[encoded data removed]",
      "text/plain": [
       "<Figure size 640x480 with 1 Axes>"
      ]
     },
     "metadata": {},
     "output_type": "display_data"
    }
   ],
   "source": [
    "plt.plot('releaseYearStreaming', 'pct', data=rt_high_critic_extreme_streaming_years_pct)\n",
    "plt.xlabel('Streaming Release Year')                            \n",
    "plt.ylabel('Percentage')\n",
    "plt.title('High Critic/Low Audience (>40% gap) Percentage Over Time')"
   ]
  },
  {
   "cell_type": "code",
   "execution_count": 95,
   "id": "9e737c69-7c8b-403c-9de5-dbe5b375b8b8",
   "metadata": {},
   "outputs": [
    {
     "data": {
      "text/plain": [
       "Text(0.5, 1.0, 'Low Critic/High Audience (>40% gap) Percentage Over Time')"
      ]
     },
     "execution_count": 95,
     "metadata": {},
     "output_type": "execute_result"
    },
    {
     "data": {
      "image/png": "[encoded data removed]",
      "text/plain": [
       "<Figure size 640x480 with 1 Axes>"
      ]
     },
     "metadata": {},
     "output_type": "display_data"
    }
   ],
   "source": [
    "plt.plot('releaseYearTheaters', 'pct', data=rt_high_audience_extreme_theater_years_pct)\n",
    "plt.xlabel('Theater Release Year')                            \n",
    "plt.ylabel('Percentage')\n",
    "plt.title('Low Critic/High Audience (>40% gap) Percentage Over Time')"
   ]
  },
  {
   "cell_type": "code",
   "execution_count": 96,
   "id": "d8c9e182-dccc-4810-9c98-03e14a39b2b3",
   "metadata": {},
   "outputs": [
    {
     "data": {
      "text/plain": [
       "Text(0.5, 1.0, 'Low Critic/High Audience (>40% gap) Percentage Over Time')"
      ]
     },
     "execution_count": 96,
     "metadata": {},
     "output_type": "execute_result"
    },
    {
     "data": {
      "image/png": "[encoded data removed]",
      "text/plain": [
       "<Figure size 640x480 with 1 Axes>"
      ]
     },
     "metadata": {},
     "output_type": "display_data"
    }
   ],
   "source": [
    "plt.plot('releaseYearStreaming', 'pct', data=rt_high_audience_extreme_streaming_years_pct)\n",
    "plt.xlabel('Streaming Release Year')                            \n",
    "plt.ylabel('Percentage')\n",
    "plt.title('Low Critic/High Audience (>40% gap) Percentage Over Time')"
   ]
  },
  {
   "cell_type": "code",
   "execution_count": 97,
   "id": "ebc1f301-d44f-400d-8a31-2f797c16a2b0",
   "metadata": {},
   "outputs": [
    {
     "data": {
      "text/plain": [
       "Text(0.5, 1.0, 'High Critic/High Audience (>40% gap) Percentage Over Time')"
      ]
     },
     "execution_count": 97,
     "metadata": {},
     "output_type": "execute_result"
    },
    {
     "data": {
      "image/png": "[encoded data removed]",
      "text/plain": [
       "<Figure size 640x480 with 1 Axes>"
      ]
     },
     "metadata": {},
     "output_type": "display_data"
    }
   ],
   "source": [
    "plt.plot('releaseYearTheaters', 'pct', data=rt_high_high_extreme_theater_years_pct)\n",
    "plt.xlabel('Theater Release Year')                            \n",
    "plt.ylabel('Percentage')\n",
    "plt.title('High Critic/High Audience (>40% gap) Percentage Over Time')"
   ]
  },
  {
   "cell_type": "code",
   "execution_count": 98,
   "id": "508a6b48-f7c8-4788-b82a-14123ee554c8",
   "metadata": {},
   "outputs": [
    {
     "data": {
      "text/plain": [
       "Text(0.5, 1.0, 'High Critic/High Audience (>40% gap) Percentage Over Time')"
      ]
     },
     "execution_count": 98,
     "metadata": {},
     "output_type": "execute_result"
    },
    {
     "data": {
      "image/png": "[encoded data removed]",
      "text/plain": [
       "<Figure size 640x480 with 1 Axes>"
      ]
     },
     "metadata": {},
     "output_type": "display_data"
    }
   ],
   "source": [
    "plt.plot('releaseYearStreaming', 'pct', data=rt_high_high_extreme_streaming_years_pct)\n",
    "plt.xlabel('Streaming Release Year')                            \n",
    "plt.ylabel('Percentage')\n",
    "plt.title('High Critic/High Audience (>40% gap) Percentage Over Time')"
   ]
  },
  {
   "cell_type": "markdown",
   "id": "f2f86511-4749-4f2e-a291-6b5411a30542",
   "metadata": {
    "jp-MarkdownHeadingCollapsed": true
   },
   "source": [
    "### Streaming dates analysis"
   ]
  },
  {
   "cell_type": "code",
   "execution_count": 99,
   "id": "ad645037-9f03-419e-bede-ab5b60ff9749",
   "metadata": {},
   "outputs": [
    {
     "data": {
      "text/html": [
       "<div>\n",
       "<style scoped>\n",
       "    .dataframe tbody tr th:only-of-type {\n",
       "        vertical-align: middle;\n",
       "    }\n",
       "\n",
       "    .dataframe tbody tr th {\n",
       "        vertical-align: top;\n",
       "    }\n",
       "\n",
       "    .dataframe thead th {\n",
       "        text-align: right;\n",
       "    }\n",
       "</style>\n",
       "<table border=\"1\" class=\"dataframe\">\n",
       "  <thead>\n",
       "    <tr style=\"text-align: right;\">\n",
       "      <th></th>\n",
       "      <th>id</th>\n",
       "      <th>title</th>\n",
       "      <th>critic_score</th>\n",
       "      <th>critic_score_2023</th>\n",
       "      <th>critic_score_2024</th>\n",
       "      <th>critic_score_2025</th>\n",
       "      <th>audience_score</th>\n",
       "      <th>audience_score_2023</th>\n",
       "      <th>audience_score_2024</th>\n",
       "      <th>audience_score_2025</th>\n",
       "      <th>...</th>\n",
       "      <th>director</th>\n",
       "      <th>boxOffice</th>\n",
       "      <th>boxOfficeMM_clean</th>\n",
       "      <th>releaseDateTheaters</th>\n",
       "      <th>releaseDateStreaming</th>\n",
       "      <th>Unnamed: 21</th>\n",
       "      <th>releaseMonthTheaters</th>\n",
       "      <th>releaseYearTheaters</th>\n",
       "      <th>releaseMonthStreaming</th>\n",
       "      <th>releaseYearStreaming</th>\n",
       "    </tr>\n",
       "  </thead>\n",
       "  <tbody>\n",
       "    <tr>\n",
       "      <th>1</th>\n",
       "      <td>10</td>\n",
       "      <td>10</td>\n",
       "      <td>68.0</td>\n",
       "      <td>68.0</td>\n",
       "      <td>68.0</td>\n",
       "      <td>NaN</td>\n",
       "      <td>56.0</td>\n",
       "      <td>53.0</td>\n",
       "      <td>56.0</td>\n",
       "      <td>NaN</td>\n",
       "      <td>...</td>\n",
       "      <td>Blake Edwards</td>\n",
       "      <td>NaN</td>\n",
       "      <td>NaN</td>\n",
       "      <td>1979-10-05</td>\n",
       "      <td>1997-09-03</td>\n",
       "      <td>NaN</td>\n",
       "      <td>10.0</td>\n",
       "      <td>1979.0</td>\n",
       "      <td>9.0</td>\n",
       "      <td>1997.0</td>\n",
       "    </tr>\n",
       "    <tr>\n",
       "      <th>777</th>\n",
       "      <td>1016592-postman_always_rings_twice</td>\n",
       "      <td>The Postman Always Rings Twice</td>\n",
       "      <td>79.0</td>\n",
       "      <td>79.0</td>\n",
       "      <td>NaN</td>\n",
       "      <td>NaN</td>\n",
       "      <td>58.0</td>\n",
       "      <td>58.0</td>\n",
       "      <td>NaN</td>\n",
       "      <td>NaN</td>\n",
       "      <td>...</td>\n",
       "      <td>Bob Rafelson</td>\n",
       "      <td>NaN</td>\n",
       "      <td>NaN</td>\n",
       "      <td>1981-03-20</td>\n",
       "      <td>1998-09-15</td>\n",
       "      <td>NaN</td>\n",
       "      <td>3.0</td>\n",
       "      <td>1981.0</td>\n",
       "      <td>9.0</td>\n",
       "      <td>1998.0</td>\n",
       "    </tr>\n",
       "    <tr>\n",
       "      <th>868</th>\n",
       "      <td>1019378-something_to_sing_about</td>\n",
       "      <td>Something to Sing About</td>\n",
       "      <td>83.0</td>\n",
       "      <td>83.0</td>\n",
       "      <td>NaN</td>\n",
       "      <td>NaN</td>\n",
       "      <td>29.0</td>\n",
       "      <td>29.0</td>\n",
       "      <td>NaN</td>\n",
       "      <td>NaN</td>\n",
       "      <td>...</td>\n",
       "      <td>Victor Schertzinger</td>\n",
       "      <td>NaN</td>\n",
       "      <td>NaN</td>\n",
       "      <td>1937-09-30</td>\n",
       "      <td>1999-08-10</td>\n",
       "      <td>NaN</td>\n",
       "      <td>9.0</td>\n",
       "      <td>1937.0</td>\n",
       "      <td>8.0</td>\n",
       "      <td>1999.0</td>\n",
       "    </tr>\n",
       "    <tr>\n",
       "      <th>1117</th>\n",
       "      <td>1040893-hero</td>\n",
       "      <td>Hero</td>\n",
       "      <td>67.0</td>\n",
       "      <td>67.0</td>\n",
       "      <td>NaN</td>\n",
       "      <td>NaN</td>\n",
       "      <td>50.0</td>\n",
       "      <td>50.0</td>\n",
       "      <td>NaN</td>\n",
       "      <td>NaN</td>\n",
       "      <td>...</td>\n",
       "      <td>Stephen Frears</td>\n",
       "      <td>$18.2M</td>\n",
       "      <td>18.2000</td>\n",
       "      <td>1992-10-02</td>\n",
       "      <td>1999-05-25</td>\n",
       "      <td>NaN</td>\n",
       "      <td>10.0</td>\n",
       "      <td>1992.0</td>\n",
       "      <td>5.0</td>\n",
       "      <td>1999.0</td>\n",
       "    </tr>\n",
       "    <tr>\n",
       "      <th>1197</th>\n",
       "      <td>1050728-sirens</td>\n",
       "      <td>Sirens</td>\n",
       "      <td>74.0</td>\n",
       "      <td>74.0</td>\n",
       "      <td>NaN</td>\n",
       "      <td>NaN</td>\n",
       "      <td>41.0</td>\n",
       "      <td>41.0</td>\n",
       "      <td>NaN</td>\n",
       "      <td>NaN</td>\n",
       "      <td>...</td>\n",
       "      <td>John Duigan</td>\n",
       "      <td>$5.8M</td>\n",
       "      <td>5.8000</td>\n",
       "      <td>1994-03-04</td>\n",
       "      <td>1999-05-18</td>\n",
       "      <td>NaN</td>\n",
       "      <td>3.0</td>\n",
       "      <td>1994.0</td>\n",
       "      <td>5.0</td>\n",
       "      <td>1999.0</td>\n",
       "    </tr>\n",
       "    <tr>\n",
       "      <th>1209</th>\n",
       "      <td>1054344-it_could_happen_to_you</td>\n",
       "      <td>It Could Happen to You</td>\n",
       "      <td>71.0</td>\n",
       "      <td>71.0</td>\n",
       "      <td>NaN</td>\n",
       "      <td>NaN</td>\n",
       "      <td>54.0</td>\n",
       "      <td>54.0</td>\n",
       "      <td>NaN</td>\n",
       "      <td>NaN</td>\n",
       "      <td>...</td>\n",
       "      <td>Andrew Bergman</td>\n",
       "      <td>$37.8M</td>\n",
       "      <td>37.8000</td>\n",
       "      <td>NaT</td>\n",
       "      <td>1998-08-25</td>\n",
       "      <td>NaN</td>\n",
       "      <td>NaN</td>\n",
       "      <td>NaN</td>\n",
       "      <td>8.0</td>\n",
       "      <td>1998.0</td>\n",
       "    </tr>\n",
       "    <tr>\n",
       "      <th>1302</th>\n",
       "      <td>1071167-twister</td>\n",
       "      <td>Twister</td>\n",
       "      <td>63.0</td>\n",
       "      <td>63.0</td>\n",
       "      <td>NaN</td>\n",
       "      <td>NaN</td>\n",
       "      <td>58.0</td>\n",
       "      <td>58.0</td>\n",
       "      <td>NaN</td>\n",
       "      <td>NaN</td>\n",
       "      <td>...</td>\n",
       "      <td>Jan de Bont</td>\n",
       "      <td>$241.7M</td>\n",
       "      <td>241.7000</td>\n",
       "      <td>1996-05-10</td>\n",
       "      <td>1998-11-24</td>\n",
       "      <td>44505.0</td>\n",
       "      <td>5.0</td>\n",
       "      <td>1996.0</td>\n",
       "      <td>11.0</td>\n",
       "      <td>1998.0</td>\n",
       "    </tr>\n",
       "    <tr>\n",
       "      <th>1476</th>\n",
       "      <td>1090805-dick</td>\n",
       "      <td>Dick</td>\n",
       "      <td>72.0</td>\n",
       "      <td>72.0</td>\n",
       "      <td>NaN</td>\n",
       "      <td>NaN</td>\n",
       "      <td>53.0</td>\n",
       "      <td>53.0</td>\n",
       "      <td>NaN</td>\n",
       "      <td>NaN</td>\n",
       "      <td>...</td>\n",
       "      <td>Andrew Fleming</td>\n",
       "      <td>$6.2M</td>\n",
       "      <td>6.2000</td>\n",
       "      <td>1999-08-04</td>\n",
       "      <td>1999-12-14</td>\n",
       "      <td>NaN</td>\n",
       "      <td>8.0</td>\n",
       "      <td>1999.0</td>\n",
       "      <td>12.0</td>\n",
       "      <td>1999.0</td>\n",
       "    </tr>\n",
       "    <tr>\n",
       "      <th>2883</th>\n",
       "      <td>africa_screams</td>\n",
       "      <td>Africa Screams</td>\n",
       "      <td>60.0</td>\n",
       "      <td>60.0</td>\n",
       "      <td>NaN</td>\n",
       "      <td>NaN</td>\n",
       "      <td>38.0</td>\n",
       "      <td>38.0</td>\n",
       "      <td>NaN</td>\n",
       "      <td>NaN</td>\n",
       "      <td>...</td>\n",
       "      <td>Charles Barton</td>\n",
       "      <td>NaN</td>\n",
       "      <td>NaN</td>\n",
       "      <td>1949-05-04</td>\n",
       "      <td>1999-06-01</td>\n",
       "      <td>NaN</td>\n",
       "      <td>5.0</td>\n",
       "      <td>1949.0</td>\n",
       "      <td>6.0</td>\n",
       "      <td>1999.0</td>\n",
       "    </tr>\n",
       "    <tr>\n",
       "      <th>3702</th>\n",
       "      <td>asphyx</td>\n",
       "      <td>The Asphyx</td>\n",
       "      <td>67.0</td>\n",
       "      <td>67.0</td>\n",
       "      <td>NaN</td>\n",
       "      <td>NaN</td>\n",
       "      <td>47.0</td>\n",
       "      <td>47.0</td>\n",
       "      <td>NaN</td>\n",
       "      <td>NaN</td>\n",
       "      <td>...</td>\n",
       "      <td>Peter Newbrook</td>\n",
       "      <td>NaN</td>\n",
       "      <td>NaN</td>\n",
       "      <td>1972-12-05</td>\n",
       "      <td>1998-03-03</td>\n",
       "      <td>NaN</td>\n",
       "      <td>12.0</td>\n",
       "      <td>1972.0</td>\n",
       "      <td>3.0</td>\n",
       "      <td>1998.0</td>\n",
       "    </tr>\n",
       "    <tr>\n",
       "      <th>5481</th>\n",
       "      <td>capricorn_one</td>\n",
       "      <td>Capricorn One</td>\n",
       "      <td>65.0</td>\n",
       "      <td>64.0</td>\n",
       "      <td>65.0</td>\n",
       "      <td>NaN</td>\n",
       "      <td>57.0</td>\n",
       "      <td>58.0</td>\n",
       "      <td>57.0</td>\n",
       "      <td>NaN</td>\n",
       "      <td>...</td>\n",
       "      <td>Peter Hyams</td>\n",
       "      <td>NaN</td>\n",
       "      <td>NaN</td>\n",
       "      <td>NaT</td>\n",
       "      <td>1998-02-17</td>\n",
       "      <td>NaN</td>\n",
       "      <td>NaN</td>\n",
       "      <td>NaN</td>\n",
       "      <td>2.0</td>\n",
       "      <td>1998.0</td>\n",
       "    </tr>\n",
       "    <tr>\n",
       "      <th>5844</th>\n",
       "      <td>chinese_box</td>\n",
       "      <td>Chinese Box</td>\n",
       "      <td>64.0</td>\n",
       "      <td>64.0</td>\n",
       "      <td>64.0</td>\n",
       "      <td>NaN</td>\n",
       "      <td>54.0</td>\n",
       "      <td>54.0</td>\n",
       "      <td>54.0</td>\n",
       "      <td>NaN</td>\n",
       "      <td>...</td>\n",
       "      <td>Wayne Wang</td>\n",
       "      <td>$2.2M</td>\n",
       "      <td>2.2000</td>\n",
       "      <td>NaT</td>\n",
       "      <td>1998-09-29</td>\n",
       "      <td>NaN</td>\n",
       "      <td>NaN</td>\n",
       "      <td>NaN</td>\n",
       "      <td>9.0</td>\n",
       "      <td>1998.0</td>\n",
       "    </tr>\n",
       "    <tr>\n",
       "      <th>5999</th>\n",
       "      <td>class_of_1999</td>\n",
       "      <td>Class of 1999</td>\n",
       "      <td>63.0</td>\n",
       "      <td>63.0</td>\n",
       "      <td>63.0</td>\n",
       "      <td>NaN</td>\n",
       "      <td>50.0</td>\n",
       "      <td>49.0</td>\n",
       "      <td>50.0</td>\n",
       "      <td>NaN</td>\n",
       "      <td>...</td>\n",
       "      <td>Mark L. Lester</td>\n",
       "      <td>$1.4M</td>\n",
       "      <td>1.4000</td>\n",
       "      <td>1990-05-11</td>\n",
       "      <td>1991-11-28</td>\n",
       "      <td>NaN</td>\n",
       "      <td>5.0</td>\n",
       "      <td>1990.0</td>\n",
       "      <td>11.0</td>\n",
       "      <td>1991.0</td>\n",
       "    </tr>\n",
       "    <tr>\n",
       "      <th>6017</th>\n",
       "      <td>cleopatra_jones</td>\n",
       "      <td>Cleopatra Jones</td>\n",
       "      <td>80.0</td>\n",
       "      <td>80.0</td>\n",
       "      <td>80.0</td>\n",
       "      <td>NaN</td>\n",
       "      <td>44.0</td>\n",
       "      <td>45.0</td>\n",
       "      <td>44.0</td>\n",
       "      <td>NaN</td>\n",
       "      <td>...</td>\n",
       "      <td>Jack Starrett</td>\n",
       "      <td>NaN</td>\n",
       "      <td>NaN</td>\n",
       "      <td>NaT</td>\n",
       "      <td>1999-03-30</td>\n",
       "      <td>NaN</td>\n",
       "      <td>NaN</td>\n",
       "      <td>NaN</td>\n",
       "      <td>3.0</td>\n",
       "      <td>1999.0</td>\n",
       "    </tr>\n",
       "    <tr>\n",
       "      <th>6480</th>\n",
       "      <td>crossing_guard</td>\n",
       "      <td>The Crossing Guard</td>\n",
       "      <td>75.0</td>\n",
       "      <td>75.0</td>\n",
       "      <td>75.0</td>\n",
       "      <td>NaN</td>\n",
       "      <td>53.0</td>\n",
       "      <td>53.0</td>\n",
       "      <td>53.0</td>\n",
       "      <td>NaN</td>\n",
       "      <td>...</td>\n",
       "      <td>Sean Penn</td>\n",
       "      <td>$771.7K</td>\n",
       "      <td>0.7717</td>\n",
       "      <td>1995-11-15</td>\n",
       "      <td>1999-11-16</td>\n",
       "      <td>NaN</td>\n",
       "      <td>11.0</td>\n",
       "      <td>1995.0</td>\n",
       "      <td>11.0</td>\n",
       "      <td>1999.0</td>\n",
       "    </tr>\n",
       "    <tr>\n",
       "      <th>7642</th>\n",
       "      <td>earth_girls_are_easy</td>\n",
       "      <td>Earth Girls Are Easy</td>\n",
       "      <td>68.0</td>\n",
       "      <td>68.0</td>\n",
       "      <td>68.0</td>\n",
       "      <td>NaN</td>\n",
       "      <td>43.0</td>\n",
       "      <td>43.0</td>\n",
       "      <td>43.0</td>\n",
       "      <td>NaN</td>\n",
       "      <td>...</td>\n",
       "      <td>Julien Temple</td>\n",
       "      <td>$3.9M</td>\n",
       "      <td>3.9000</td>\n",
       "      <td>1989-05-12</td>\n",
       "      <td>1999-07-20</td>\n",
       "      <td>NaN</td>\n",
       "      <td>5.0</td>\n",
       "      <td>1989.0</td>\n",
       "      <td>7.0</td>\n",
       "      <td>1999.0</td>\n",
       "    </tr>\n",
       "    <tr>\n",
       "      <th>9035</th>\n",
       "      <td>ganja_and_hess</td>\n",
       "      <td>Ganja &amp; Hess</td>\n",
       "      <td>93.0</td>\n",
       "      <td>92.0</td>\n",
       "      <td>93.0</td>\n",
       "      <td>NaN</td>\n",
       "      <td>53.0</td>\n",
       "      <td>52.0</td>\n",
       "      <td>53.0</td>\n",
       "      <td>NaN</td>\n",
       "      <td>...</td>\n",
       "      <td>William Gunn</td>\n",
       "      <td>$18.9K</td>\n",
       "      <td>0.0189</td>\n",
       "      <td>1973-04-20</td>\n",
       "      <td>1998-07-21</td>\n",
       "      <td>NaN</td>\n",
       "      <td>4.0</td>\n",
       "      <td>1973.0</td>\n",
       "      <td>7.0</td>\n",
       "      <td>1998.0</td>\n",
       "    </tr>\n",
       "    <tr>\n",
       "      <th>9478</th>\n",
       "      <td>governess</td>\n",
       "      <td>The Governess</td>\n",
       "      <td>65.0</td>\n",
       "      <td>65.0</td>\n",
       "      <td>65.0</td>\n",
       "      <td>NaN</td>\n",
       "      <td>50.0</td>\n",
       "      <td>49.0</td>\n",
       "      <td>50.0</td>\n",
       "      <td>NaN</td>\n",
       "      <td>...</td>\n",
       "      <td>Sandra Goldbacher</td>\n",
       "      <td>$4.0M</td>\n",
       "      <td>4.0000</td>\n",
       "      <td>1998-06-11</td>\n",
       "      <td>1999-02-16</td>\n",
       "      <td>NaN</td>\n",
       "      <td>6.0</td>\n",
       "      <td>1998.0</td>\n",
       "      <td>2.0</td>\n",
       "      <td>1999.0</td>\n",
       "    </tr>\n",
       "    <tr>\n",
       "      <th>9575</th>\n",
       "      <td>gremlins_2_the_new_batch</td>\n",
       "      <td>Gremlins 2: The New Batch</td>\n",
       "      <td>71.0</td>\n",
       "      <td>71.0</td>\n",
       "      <td>71.0</td>\n",
       "      <td>NaN</td>\n",
       "      <td>59.0</td>\n",
       "      <td>58.0</td>\n",
       "      <td>59.0</td>\n",
       "      <td>NaN</td>\n",
       "      <td>...</td>\n",
       "      <td>Joe Dante</td>\n",
       "      <td>$40.5M</td>\n",
       "      <td>40.5000</td>\n",
       "      <td>1990-06-15</td>\n",
       "      <td>1990-05-12</td>\n",
       "      <td>NaN</td>\n",
       "      <td>6.0</td>\n",
       "      <td>1990.0</td>\n",
       "      <td>5.0</td>\n",
       "      <td>1990.0</td>\n",
       "    </tr>\n",
       "    <tr>\n",
       "      <th>10187</th>\n",
       "      <td>hilife</td>\n",
       "      <td>Hi-Life</td>\n",
       "      <td>83.0</td>\n",
       "      <td>83.0</td>\n",
       "      <td>NaN</td>\n",
       "      <td>NaN</td>\n",
       "      <td>26.0</td>\n",
       "      <td>26.0</td>\n",
       "      <td>NaN</td>\n",
       "      <td>NaN</td>\n",
       "      <td>...</td>\n",
       "      <td>Roger Hedden</td>\n",
       "      <td>$8.0K</td>\n",
       "      <td>0.0080</td>\n",
       "      <td>1998-11-27</td>\n",
       "      <td>1999-01-26</td>\n",
       "      <td>NaN</td>\n",
       "      <td>11.0</td>\n",
       "      <td>1998.0</td>\n",
       "      <td>1.0</td>\n",
       "      <td>1999.0</td>\n",
       "    </tr>\n",
       "    <tr>\n",
       "      <th>10876</th>\n",
       "      <td>in_country</td>\n",
       "      <td>In Country</td>\n",
       "      <td>68.0</td>\n",
       "      <td>68.0</td>\n",
       "      <td>68.0</td>\n",
       "      <td>NaN</td>\n",
       "      <td>35.0</td>\n",
       "      <td>36.0</td>\n",
       "      <td>35.0</td>\n",
       "      <td>NaN</td>\n",
       "      <td>...</td>\n",
       "      <td>Norman Jewison</td>\n",
       "      <td>$3.3M</td>\n",
       "      <td>3.3000</td>\n",
       "      <td>NaT</td>\n",
       "      <td>1999-07-27</td>\n",
       "      <td>NaN</td>\n",
       "      <td>NaN</td>\n",
       "      <td>NaN</td>\n",
       "      <td>7.0</td>\n",
       "      <td>1999.0</td>\n",
       "    </tr>\n",
       "    <tr>\n",
       "      <th>13729</th>\n",
       "      <td>mistress_1991</td>\n",
       "      <td>Mistress</td>\n",
       "      <td>72.0</td>\n",
       "      <td>72.0</td>\n",
       "      <td>NaN</td>\n",
       "      <td>NaN</td>\n",
       "      <td>39.0</td>\n",
       "      <td>39.0</td>\n",
       "      <td>NaN</td>\n",
       "      <td>NaN</td>\n",
       "      <td>...</td>\n",
       "      <td>Barry Primus</td>\n",
       "      <td>$53.6K</td>\n",
       "      <td>0.0536</td>\n",
       "      <td>NaT</td>\n",
       "      <td>1999-03-23</td>\n",
       "      <td>NaN</td>\n",
       "      <td>NaN</td>\n",
       "      <td>NaN</td>\n",
       "      <td>3.0</td>\n",
       "      <td>1999.0</td>\n",
       "    </tr>\n",
       "    <tr>\n",
       "      <th>14441</th>\n",
       "      <td>newton_boys</td>\n",
       "      <td>The Newton Boys</td>\n",
       "      <td>65.0</td>\n",
       "      <td>65.0</td>\n",
       "      <td>65.0</td>\n",
       "      <td>NaN</td>\n",
       "      <td>44.0</td>\n",
       "      <td>44.0</td>\n",
       "      <td>44.0</td>\n",
       "      <td>NaN</td>\n",
       "      <td>...</td>\n",
       "      <td>Richard Linklater</td>\n",
       "      <td>$10.3M</td>\n",
       "      <td>10.3000</td>\n",
       "      <td>1998-03-27</td>\n",
       "      <td>1999-05-25</td>\n",
       "      <td>NaN</td>\n",
       "      <td>3.0</td>\n",
       "      <td>1998.0</td>\n",
       "      <td>5.0</td>\n",
       "      <td>1999.0</td>\n",
       "    </tr>\n",
       "    <tr>\n",
       "      <th>14517</th>\n",
       "      <td>night_tide</td>\n",
       "      <td>Night Tide</td>\n",
       "      <td>86.0</td>\n",
       "      <td>86.0</td>\n",
       "      <td>NaN</td>\n",
       "      <td>NaN</td>\n",
       "      <td>52.0</td>\n",
       "      <td>52.0</td>\n",
       "      <td>NaN</td>\n",
       "      <td>NaN</td>\n",
       "      <td>...</td>\n",
       "      <td>Curtis Harrington</td>\n",
       "      <td>NaN</td>\n",
       "      <td>NaN</td>\n",
       "      <td>NaT</td>\n",
       "      <td>1999-12-28</td>\n",
       "      <td>NaN</td>\n",
       "      <td>NaN</td>\n",
       "      <td>NaN</td>\n",
       "      <td>12.0</td>\n",
       "      <td>1999.0</td>\n",
       "    </tr>\n",
       "    <tr>\n",
       "      <th>15323</th>\n",
       "      <td>paulie</td>\n",
       "      <td>Paulie</td>\n",
       "      <td>62.0</td>\n",
       "      <td>62.0</td>\n",
       "      <td>62.0</td>\n",
       "      <td>NaN</td>\n",
       "      <td>55.0</td>\n",
       "      <td>54.0</td>\n",
       "      <td>55.0</td>\n",
       "      <td>NaN</td>\n",
       "      <td>...</td>\n",
       "      <td>John Roberts</td>\n",
       "      <td>$27.0M</td>\n",
       "      <td>27.0000</td>\n",
       "      <td>1998-04-17</td>\n",
       "      <td>1999-04-20</td>\n",
       "      <td>NaN</td>\n",
       "      <td>4.0</td>\n",
       "      <td>1998.0</td>\n",
       "      <td>4.0</td>\n",
       "      <td>1999.0</td>\n",
       "    </tr>\n",
       "    <tr>\n",
       "      <th>15357</th>\n",
       "      <td>peggy_sue_got_married</td>\n",
       "      <td>Peggy Sue Got Married</td>\n",
       "      <td>87.0</td>\n",
       "      <td>87.0</td>\n",
       "      <td>87.0</td>\n",
       "      <td>NaN</td>\n",
       "      <td>55.0</td>\n",
       "      <td>55.0</td>\n",
       "      <td>55.0</td>\n",
       "      <td>NaN</td>\n",
       "      <td>...</td>\n",
       "      <td>Francis Ford Coppola</td>\n",
       "      <td>$37.7M</td>\n",
       "      <td>37.7000</td>\n",
       "      <td>1986-10-10</td>\n",
       "      <td>1998-08-11</td>\n",
       "      <td>NaN</td>\n",
       "      <td>10.0</td>\n",
       "      <td>1986.0</td>\n",
       "      <td>8.0</td>\n",
       "      <td>1998.0</td>\n",
       "    </tr>\n",
       "    <tr>\n",
       "      <th>17874</th>\n",
       "      <td>sommersby</td>\n",
       "      <td>Sommersby</td>\n",
       "      <td>63.0</td>\n",
       "      <td>63.0</td>\n",
       "      <td>63.0</td>\n",
       "      <td>NaN</td>\n",
       "      <td>59.0</td>\n",
       "      <td>59.0</td>\n",
       "      <td>59.0</td>\n",
       "      <td>NaN</td>\n",
       "      <td>...</td>\n",
       "      <td>Jon Amiel</td>\n",
       "      <td>$46.4M</td>\n",
       "      <td>46.4000</td>\n",
       "      <td>1993-02-05</td>\n",
       "      <td>1999-09-21</td>\n",
       "      <td>NaN</td>\n",
       "      <td>2.0</td>\n",
       "      <td>1993.0</td>\n",
       "      <td>9.0</td>\n",
       "      <td>1999.0</td>\n",
       "    </tr>\n",
       "    <tr>\n",
       "      <th>19022</th>\n",
       "      <td>that_uncertain_feeling</td>\n",
       "      <td>That Uncertain Feeling</td>\n",
       "      <td>71.0</td>\n",
       "      <td>71.0</td>\n",
       "      <td>NaN</td>\n",
       "      <td>NaN</td>\n",
       "      <td>56.0</td>\n",
       "      <td>56.0</td>\n",
       "      <td>NaN</td>\n",
       "      <td>NaN</td>\n",
       "      <td>...</td>\n",
       "      <td>Ernst Lubitsch</td>\n",
       "      <td>NaN</td>\n",
       "      <td>NaN</td>\n",
       "      <td>1941-04-20</td>\n",
       "      <td>1999-06-01</td>\n",
       "      <td>NaN</td>\n",
       "      <td>4.0</td>\n",
       "      <td>1941.0</td>\n",
       "      <td>6.0</td>\n",
       "      <td>1999.0</td>\n",
       "    </tr>\n",
       "    <tr>\n",
       "      <th>19704</th>\n",
       "      <td>the_devil_bat</td>\n",
       "      <td>The Devil Bat</td>\n",
       "      <td>60.0</td>\n",
       "      <td>60.0</td>\n",
       "      <td>NaN</td>\n",
       "      <td>NaN</td>\n",
       "      <td>31.0</td>\n",
       "      <td>31.0</td>\n",
       "      <td>NaN</td>\n",
       "      <td>NaN</td>\n",
       "      <td>...</td>\n",
       "      <td>Jean Yarbrough</td>\n",
       "      <td>NaN</td>\n",
       "      <td>NaN</td>\n",
       "      <td>1940-12-13</td>\n",
       "      <td>1999-10-28</td>\n",
       "      <td>NaN</td>\n",
       "      <td>12.0</td>\n",
       "      <td>1940.0</td>\n",
       "      <td>10.0</td>\n",
       "      <td>1999.0</td>\n",
       "    </tr>\n",
       "    <tr>\n",
       "      <th>19769</th>\n",
       "      <td>the_driller_killer</td>\n",
       "      <td>The Driller Killer</td>\n",
       "      <td>64.0</td>\n",
       "      <td>64.0</td>\n",
       "      <td>64.0</td>\n",
       "      <td>NaN</td>\n",
       "      <td>32.0</td>\n",
       "      <td>32.0</td>\n",
       "      <td>32.0</td>\n",
       "      <td>NaN</td>\n",
       "      <td>...</td>\n",
       "      <td>Abel Ferrara</td>\n",
       "      <td>NaN</td>\n",
       "      <td>NaN</td>\n",
       "      <td>1979-06-15</td>\n",
       "      <td>1999-09-14</td>\n",
       "      <td>NaN</td>\n",
       "      <td>6.0</td>\n",
       "      <td>1979.0</td>\n",
       "      <td>9.0</td>\n",
       "      <td>1999.0</td>\n",
       "    </tr>\n",
       "    <tr>\n",
       "      <th>22726</th>\n",
       "      <td>vengeance_valley</td>\n",
       "      <td>Vengeance Valley</td>\n",
       "      <td>100.0</td>\n",
       "      <td>100.0</td>\n",
       "      <td>NaN</td>\n",
       "      <td>NaN</td>\n",
       "      <td>23.0</td>\n",
       "      <td>23.0</td>\n",
       "      <td>NaN</td>\n",
       "      <td>NaN</td>\n",
       "      <td>...</td>\n",
       "      <td>Richard Thorpe</td>\n",
       "      <td>NaN</td>\n",
       "      <td>NaN</td>\n",
       "      <td>1951-02-16</td>\n",
       "      <td>1999-08-10</td>\n",
       "      <td>NaN</td>\n",
       "      <td>2.0</td>\n",
       "      <td>1951.0</td>\n",
       "      <td>8.0</td>\n",
       "      <td>1999.0</td>\n",
       "    </tr>\n",
       "    <tr>\n",
       "      <th>23331</th>\n",
       "      <td>white_zombie</td>\n",
       "      <td>White Zombie</td>\n",
       "      <td>86.0</td>\n",
       "      <td>86.0</td>\n",
       "      <td>NaN</td>\n",
       "      <td>NaN</td>\n",
       "      <td>58.0</td>\n",
       "      <td>58.0</td>\n",
       "      <td>NaN</td>\n",
       "      <td>NaN</td>\n",
       "      <td>...</td>\n",
       "      <td>Victor Halperin</td>\n",
       "      <td>NaN</td>\n",
       "      <td>NaN</td>\n",
       "      <td>1932-08-04</td>\n",
       "      <td>1999-05-25</td>\n",
       "      <td>NaN</td>\n",
       "      <td>8.0</td>\n",
       "      <td>1932.0</td>\n",
       "      <td>5.0</td>\n",
       "      <td>1999.0</td>\n",
       "    </tr>\n",
       "  </tbody>\n",
       "</table>\n",
       "<p>32 rows × 23 columns</p>\n",
       "</div>"
      ],
      "text/plain": [
       "                                       id                           title  \\\n",
       "1                                      10                              10   \n",
       "777    1016592-postman_always_rings_twice  The Postman Always Rings Twice   \n",
       "868       1019378-something_to_sing_about         Something to Sing About   \n",
       "1117                         1040893-hero                            Hero   \n",
       "1197                       1050728-sirens                          Sirens   \n",
       "1209       1054344-it_could_happen_to_you          It Could Happen to You   \n",
       "1302                      1071167-twister                         Twister   \n",
       "1476                         1090805-dick                            Dick   \n",
       "2883                       africa_screams                  Africa Screams   \n",
       "3702                               asphyx                      The Asphyx   \n",
       "5481                        capricorn_one                   Capricorn One   \n",
       "5844                          chinese_box                     Chinese Box   \n",
       "5999                        class_of_1999                   Class of 1999   \n",
       "6017                      cleopatra_jones                 Cleopatra Jones   \n",
       "6480                       crossing_guard              The Crossing Guard   \n",
       "7642                 earth_girls_are_easy            Earth Girls Are Easy   \n",
       "9035                       ganja_and_hess                    Ganja & Hess   \n",
       "9478                            governess                   The Governess   \n",
       "9575             gremlins_2_the_new_batch       Gremlins 2: The New Batch   \n",
       "10187                              hilife                         Hi-Life   \n",
       "10876                          in_country                      In Country   \n",
       "13729                       mistress_1991                        Mistress   \n",
       "14441                         newton_boys                 The Newton Boys   \n",
       "14517                          night_tide                      Night Tide   \n",
       "15323                              paulie                          Paulie   \n",
       "15357               peggy_sue_got_married           Peggy Sue Got Married   \n",
       "17874                           sommersby                       Sommersby   \n",
       "19022              that_uncertain_feeling          That Uncertain Feeling   \n",
       "19704                       the_devil_bat                   The Devil Bat   \n",
       "19769                  the_driller_killer              The Driller Killer   \n",
       "22726                    vengeance_valley                Vengeance Valley   \n",
       "23331                        white_zombie                    White Zombie   \n",
       "\n",
       "       critic_score  critic_score_2023  critic_score_2024  critic_score_2025  \\\n",
       "1              68.0               68.0               68.0                NaN   \n",
       "777            79.0               79.0                NaN                NaN   \n",
       "868            83.0               83.0                NaN                NaN   \n",
       "1117           67.0               67.0                NaN                NaN   \n",
       "1197           74.0               74.0                NaN                NaN   \n",
       "1209           71.0               71.0                NaN                NaN   \n",
       "1302           63.0               63.0                NaN                NaN   \n",
       "1476           72.0               72.0                NaN                NaN   \n",
       "2883           60.0               60.0                NaN                NaN   \n",
       "3702           67.0               67.0                NaN                NaN   \n",
       "5481           65.0               64.0               65.0                NaN   \n",
       "5844           64.0               64.0               64.0                NaN   \n",
       "5999           63.0               63.0               63.0                NaN   \n",
       "6017           80.0               80.0               80.0                NaN   \n",
       "6480           75.0               75.0               75.0                NaN   \n",
       "7642           68.0               68.0               68.0                NaN   \n",
       "9035           93.0               92.0               93.0                NaN   \n",
       "9478           65.0               65.0               65.0                NaN   \n",
       "9575           71.0               71.0               71.0                NaN   \n",
       "10187          83.0               83.0                NaN                NaN   \n",
       "10876          68.0               68.0               68.0                NaN   \n",
       "13729          72.0               72.0                NaN                NaN   \n",
       "14441          65.0               65.0               65.0                NaN   \n",
       "14517          86.0               86.0                NaN                NaN   \n",
       "15323          62.0               62.0               62.0                NaN   \n",
       "15357          87.0               87.0               87.0                NaN   \n",
       "17874          63.0               63.0               63.0                NaN   \n",
       "19022          71.0               71.0                NaN                NaN   \n",
       "19704          60.0               60.0                NaN                NaN   \n",
       "19769          64.0               64.0               64.0                NaN   \n",
       "22726         100.0              100.0                NaN                NaN   \n",
       "23331          86.0               86.0                NaN                NaN   \n",
       "\n",
       "       audience_score  audience_score_2023  audience_score_2024  \\\n",
       "1                56.0                 53.0                 56.0   \n",
       "777              58.0                 58.0                  NaN   \n",
       "868              29.0                 29.0                  NaN   \n",
       "1117             50.0                 50.0                  NaN   \n",
       "1197             41.0                 41.0                  NaN   \n",
       "1209             54.0                 54.0                  NaN   \n",
       "1302             58.0                 58.0                  NaN   \n",
       "1476             53.0                 53.0                  NaN   \n",
       "2883             38.0                 38.0                  NaN   \n",
       "3702             47.0                 47.0                  NaN   \n",
       "5481             57.0                 58.0                 57.0   \n",
       "5844             54.0                 54.0                 54.0   \n",
       "5999             50.0                 49.0                 50.0   \n",
       "6017             44.0                 45.0                 44.0   \n",
       "6480             53.0                 53.0                 53.0   \n",
       "7642             43.0                 43.0                 43.0   \n",
       "9035             53.0                 52.0                 53.0   \n",
       "9478             50.0                 49.0                 50.0   \n",
       "9575             59.0                 58.0                 59.0   \n",
       "10187            26.0                 26.0                  NaN   \n",
       "10876            35.0                 36.0                 35.0   \n",
       "13729            39.0                 39.0                  NaN   \n",
       "14441            44.0                 44.0                 44.0   \n",
       "14517            52.0                 52.0                  NaN   \n",
       "15323            55.0                 54.0                 55.0   \n",
       "15357            55.0                 55.0                 55.0   \n",
       "17874            59.0                 59.0                 59.0   \n",
       "19022            56.0                 56.0                  NaN   \n",
       "19704            31.0                 31.0                  NaN   \n",
       "19769            32.0                 32.0                 32.0   \n",
       "22726            23.0                 23.0                  NaN   \n",
       "23331            58.0                 58.0                  NaN   \n",
       "\n",
       "       audience_score_2025  ...              director boxOffice  \\\n",
       "1                      NaN  ...         Blake Edwards       NaN   \n",
       "777                    NaN  ...          Bob Rafelson       NaN   \n",
       "868                    NaN  ...   Victor Schertzinger       NaN   \n",
       "1117                   NaN  ...        Stephen Frears    $18.2M   \n",
       "1197                   NaN  ...           John Duigan     $5.8M   \n",
       "1209                   NaN  ...        Andrew Bergman    $37.8M   \n",
       "1302                   NaN  ...           Jan de Bont   $241.7M   \n",
       "1476                   NaN  ...        Andrew Fleming     $6.2M   \n",
       "2883                   NaN  ...        Charles Barton       NaN   \n",
       "3702                   NaN  ...        Peter Newbrook       NaN   \n",
       "5481                   NaN  ...           Peter Hyams       NaN   \n",
       "5844                   NaN  ...            Wayne Wang     $2.2M   \n",
       "5999                   NaN  ...        Mark L. Lester     $1.4M   \n",
       "6017                   NaN  ...         Jack Starrett       NaN   \n",
       "6480                   NaN  ...             Sean Penn   $771.7K   \n",
       "7642                   NaN  ...         Julien Temple     $3.9M   \n",
       "9035                   NaN  ...          William Gunn    $18.9K   \n",
       "9478                   NaN  ...     Sandra Goldbacher     $4.0M   \n",
       "9575                   NaN  ...             Joe Dante    $40.5M   \n",
       "10187                  NaN  ...          Roger Hedden     $8.0K   \n",
       "10876                  NaN  ...        Norman Jewison     $3.3M   \n",
       "13729                  NaN  ...          Barry Primus    $53.6K   \n",
       "14441                  NaN  ...     Richard Linklater    $10.3M   \n",
       "14517                  NaN  ...     Curtis Harrington       NaN   \n",
       "15323                  NaN  ...          John Roberts    $27.0M   \n",
       "15357                  NaN  ...  Francis Ford Coppola    $37.7M   \n",
       "17874                  NaN  ...             Jon Amiel    $46.4M   \n",
       "19022                  NaN  ...        Ernst Lubitsch       NaN   \n",
       "19704                  NaN  ...        Jean Yarbrough       NaN   \n",
       "19769                  NaN  ...          Abel Ferrara       NaN   \n",
       "22726                  NaN  ...        Richard Thorpe       NaN   \n",
       "23331                  NaN  ...       Victor Halperin       NaN   \n",
       "\n",
       "      boxOfficeMM_clean releaseDateTheaters releaseDateStreaming  Unnamed: 21  \\\n",
       "1                   NaN          1979-10-05           1997-09-03          NaN   \n",
       "777                 NaN          1981-03-20           1998-09-15          NaN   \n",
       "868                 NaN          1937-09-30           1999-08-10          NaN   \n",
       "1117            18.2000          1992-10-02           1999-05-25          NaN   \n",
       "1197             5.8000          1994-03-04           1999-05-18          NaN   \n",
       "1209            37.8000                 NaT           1998-08-25          NaN   \n",
       "1302           241.7000          1996-05-10           1998-11-24      44505.0   \n",
       "1476             6.2000          1999-08-04           1999-12-14          NaN   \n",
       "2883                NaN          1949-05-04           1999-06-01          NaN   \n",
       "3702                NaN          1972-12-05           1998-03-03          NaN   \n",
       "5481                NaN                 NaT           1998-02-17          NaN   \n",
       "5844             2.2000                 NaT           1998-09-29          NaN   \n",
       "5999             1.4000          1990-05-11           1991-11-28          NaN   \n",
       "6017                NaN                 NaT           1999-03-30          NaN   \n",
       "6480             0.7717          1995-11-15           1999-11-16          NaN   \n",
       "7642             3.9000          1989-05-12           1999-07-20          NaN   \n",
       "9035             0.0189          1973-04-20           1998-07-21          NaN   \n",
       "9478             4.0000          1998-06-11           1999-02-16          NaN   \n",
       "9575            40.5000          1990-06-15           1990-05-12          NaN   \n",
       "10187            0.0080          1998-11-27           1999-01-26          NaN   \n",
       "10876            3.3000                 NaT           1999-07-27          NaN   \n",
       "13729            0.0536                 NaT           1999-03-23          NaN   \n",
       "14441           10.3000          1998-03-27           1999-05-25          NaN   \n",
       "14517               NaN                 NaT           1999-12-28          NaN   \n",
       "15323           27.0000          1998-04-17           1999-04-20          NaN   \n",
       "15357           37.7000          1986-10-10           1998-08-11          NaN   \n",
       "17874           46.4000          1993-02-05           1999-09-21          NaN   \n",
       "19022               NaN          1941-04-20           1999-06-01          NaN   \n",
       "19704               NaN          1940-12-13           1999-10-28          NaN   \n",
       "19769               NaN          1979-06-15           1999-09-14          NaN   \n",
       "22726               NaN          1951-02-16           1999-08-10          NaN   \n",
       "23331               NaN          1932-08-04           1999-05-25          NaN   \n",
       "\n",
       "      releaseMonthTheaters releaseYearTheaters  releaseMonthStreaming  \\\n",
       "1                     10.0              1979.0                    9.0   \n",
       "777                    3.0              1981.0                    9.0   \n",
       "868                    9.0              1937.0                    8.0   \n",
       "1117                  10.0              1992.0                    5.0   \n",
       "1197                   3.0              1994.0                    5.0   \n",
       "1209                   NaN                 NaN                    8.0   \n",
       "1302                   5.0              1996.0                   11.0   \n",
       "1476                   8.0              1999.0                   12.0   \n",
       "2883                   5.0              1949.0                    6.0   \n",
       "3702                  12.0              1972.0                    3.0   \n",
       "5481                   NaN                 NaN                    2.0   \n",
       "5844                   NaN                 NaN                    9.0   \n",
       "5999                   5.0              1990.0                   11.0   \n",
       "6017                   NaN                 NaN                    3.0   \n",
       "6480                  11.0              1995.0                   11.0   \n",
       "7642                   5.0              1989.0                    7.0   \n",
       "9035                   4.0              1973.0                    7.0   \n",
       "9478                   6.0              1998.0                    2.0   \n",
       "9575                   6.0              1990.0                    5.0   \n",
       "10187                 11.0              1998.0                    1.0   \n",
       "10876                  NaN                 NaN                    7.0   \n",
       "13729                  NaN                 NaN                    3.0   \n",
       "14441                  3.0              1998.0                    5.0   \n",
       "14517                  NaN                 NaN                   12.0   \n",
       "15323                  4.0              1998.0                    4.0   \n",
       "15357                 10.0              1986.0                    8.0   \n",
       "17874                  2.0              1993.0                    9.0   \n",
       "19022                  4.0              1941.0                    6.0   \n",
       "19704                 12.0              1940.0                   10.0   \n",
       "19769                  6.0              1979.0                    9.0   \n",
       "22726                  2.0              1951.0                    8.0   \n",
       "23331                  8.0              1932.0                    5.0   \n",
       "\n",
       "       releaseYearStreaming  \n",
       "1                    1997.0  \n",
       "777                  1998.0  \n",
       "868                  1999.0  \n",
       "1117                 1999.0  \n",
       "1197                 1999.0  \n",
       "1209                 1998.0  \n",
       "1302                 1998.0  \n",
       "1476                 1999.0  \n",
       "2883                 1999.0  \n",
       "3702                 1998.0  \n",
       "5481                 1998.0  \n",
       "5844                 1998.0  \n",
       "5999                 1991.0  \n",
       "6017                 1999.0  \n",
       "6480                 1999.0  \n",
       "7642                 1999.0  \n",
       "9035                 1998.0  \n",
       "9478                 1999.0  \n",
       "9575                 1990.0  \n",
       "10187                1999.0  \n",
       "10876                1999.0  \n",
       "13729                1999.0  \n",
       "14441                1999.0  \n",
       "14517                1999.0  \n",
       "15323                1999.0  \n",
       "15357                1998.0  \n",
       "17874                1999.0  \n",
       "19022                1999.0  \n",
       "19704                1999.0  \n",
       "19769                1999.0  \n",
       "22726                1999.0  \n",
       "23331                1999.0  \n",
       "\n",
       "[32 rows x 23 columns]"
      ]
     },
     "execution_count": 99,
     "metadata": {},
     "output_type": "execute_result"
    }
   ],
   "source": [
    "early_streaming = rotten_tomatoes_high_critic[rotten_tomatoes_high_critic['releaseYearStreaming'] < 2000]\n",
    "early_streaming"
   ]
  },
  {
   "cell_type": "markdown",
   "id": "9a6eab63-032a-4f27-b2d1-cc13a08ba003",
   "metadata": {
    "jp-MarkdownHeadingCollapsed": true
   },
   "source": [
    "## 2 - Are any genres or movie ratings more susceptible to this gap between audience and critic ratings?"
   ]
  },
  {
   "cell_type": "markdown",
   "id": "ffd6985e-6712-41a2-bcd5-804b0008fe00",
   "metadata": {
    "jp-MarkdownHeadingCollapsed": true
   },
   "source": [
    "### Top genres"
   ]
  },
  {
   "cell_type": "code",
   "execution_count": 100,
   "id": "be6fb23e-5214-4af9-b986-4105b249a3e3",
   "metadata": {},
   "outputs": [
    {
     "data": {
      "text/plain": [
       "value\n",
       "Drama                 23.04\n",
       "Comedy                16.96\n",
       "Mystery & thriller     9.55\n",
       "Documentary            8.34\n",
       "Horror                 5.91\n",
       "Action                 4.93\n",
       "Romance                4.53\n",
       "Adventure              4.03\n",
       "Crime                  2.99\n",
       "Sci-fi                 2.78\n",
       "Fantasy                2.71\n",
       "Kids & family          2.63\n",
       "Biography              2.01\n",
       "Animation              1.64\n",
       "History                1.58\n",
       "Musical                1.38\n",
       "Lgbtq+                 1.35\n",
       "Music                  0.99\n",
       "Western                0.91\n",
       "War                    0.84\n",
       "Holiday                0.67\n",
       "Stand-up               0.07\n",
       "Mystery & Thriller     0.04\n",
       "Sports & fitness       0.02\n",
       "Sports                 0.02\n",
       "Sci-Fi                 0.01\n",
       "Anime                  0.01\n",
       "Nature                 0.01\n",
       "Kids & Family          0.01\n",
       "Special interest       0.01\n",
       "Variety                0.01\n",
       "Mystery                0.00\n",
       "Other                  0.00\n",
       "Entertainment          0.00\n",
       "News                   0.00\n",
       "Thriller               0.00\n",
       "Short                  0.00\n",
       "LGBTQ+                 0.00\n",
       "Name: count, dtype: float64"
      ]
     },
     "execution_count": 100,
     "metadata": {},
     "output_type": "execute_result"
    }
   ],
   "source": [
    "rt_master_genre_melt = rotten_tomatoes_genre[['genre_1', 'genre_2', 'genre_3', 'genre_4', 'genre_5', 'genre_6', 'genre_7']].melt()\n",
    "rt_master_genre = round(rt_master_genre_melt['value'].value_counts()/rt_master_genre_melt['value'].count()*100,2)\n",
    "rt_master_genre"
   ]
  },
  {
   "cell_type": "code",
   "execution_count": 101,
   "id": "ed09a9a9-6009-409e-a064-18bed3f3e528",
   "metadata": {},
   "outputs": [
    {
     "data": {
      "text/plain": [
       "value\n",
       "Drama                 23.85\n",
       "Comedy                16.61\n",
       "Mystery & thriller    12.35\n",
       "Horror                10.94\n",
       "Documentary            6.88\n",
       "Romance                3.86\n",
       "Sci-fi                 3.39\n",
       "Action                 3.24\n",
       "Crime                  3.08\n",
       "Adventure              2.88\n",
       "Fantasy                2.14\n",
       "Kids & family          1.81\n",
       "Lgbtq+                 1.54\n",
       "Biography              1.21\n",
       "Musical                1.09\n",
       "History                1.01\n",
       "Western                0.91\n",
       "Animation              0.85\n",
       "Music                  0.65\n",
       "Holiday                0.60\n",
       "War                    0.58\n",
       "Mystery & Thriller     0.25\n",
       "Stand-up               0.16\n",
       "Sci-Fi                 0.05\n",
       "Kids & Family          0.02\n",
       "News                   0.02\n",
       "Sports & fitness       0.02\n",
       "LGBTQ+                 0.02\n",
       "Name: count, dtype: float64"
      ]
     },
     "execution_count": 101,
     "metadata": {},
     "output_type": "execute_result"
    }
   ],
   "source": [
    "#merge dataset to splat dataset, then run melt\n",
    "rt_high_critic_genre_merge = pd.merge(rotten_tomatoes_high_critic, rotten_tomatoes_genre, on='id', how='left')\n",
    "rt_high_critic_genre_melt = rt_high_critic_genre_merge[['genre_1', 'genre_2', 'genre_3', 'genre_4', 'genre_5', 'genre_6', 'genre_7']].melt()\n",
    "rt_high_critic_genre = round(rt_high_critic_genre_melt['value'].value_counts()/rt_high_critic_genre_melt['value'].count()*100,2)\n",
    "rt_high_critic_genre"
   ]
  },
  {
   "cell_type": "code",
   "execution_count": 102,
   "id": "c402f26e-0089-4a53-b012-61df8c038248",
   "metadata": {},
   "outputs": [
    {
     "data": {
      "text/plain": [
       "value\n",
       "Drama                 27.43\n",
       "Comedy                18.23\n",
       "Mystery & thriller     7.41\n",
       "Romance                6.34\n",
       "Action                 6.08\n",
       "Adventure              4.39\n",
       "Documentary            4.15\n",
       "Fantasy                3.17\n",
       "Kids & family          2.95\n",
       "Crime                  2.78\n",
       "Horror                 2.40\n",
       "History                2.19\n",
       "Biography              2.08\n",
       "Musical                1.92\n",
       "Sci-fi                 1.84\n",
       "Animation              1.53\n",
       "Lgbtq+                 1.46\n",
       "Western                0.98\n",
       "War                    0.92\n",
       "Holiday                0.76\n",
       "Music                  0.66\n",
       "Mystery & Thriller     0.07\n",
       "Stand-up               0.07\n",
       "Sci-Fi                 0.04\n",
       "Kids & Family          0.04\n",
       "Sports                 0.04\n",
       "Mystery                0.02\n",
       "Nature                 0.02\n",
       "Thriller               0.02\n",
       "Anime                  0.02\n",
       "Name: count, dtype: float64"
      ]
     },
     "execution_count": 102,
     "metadata": {},
     "output_type": "execute_result"
    }
   ],
   "source": [
    "rt_high_audience_genre_merge = pd.merge(rotten_tomatoes_high_audience, rotten_tomatoes_genre, on='id', how='left')\n",
    "rt_high_audience_genre_melt = rt_high_audience_genre_merge[['genre_1', 'genre_2', 'genre_3', 'genre_4', 'genre_5', 'genre_6', 'genre_7']].melt()\n",
    "rt_high_audience_genre = round(rt_high_audience_genre_melt['value'].value_counts()/rt_high_audience_genre_melt['value'].count()*100,2)\n",
    "rt_high_audience_genre"
   ]
  },
  {
   "cell_type": "code",
   "execution_count": 103,
   "id": "e55f54e3-4878-4feb-9fa0-00ccffbd6286",
   "metadata": {},
   "outputs": [
    {
     "data": {
      "text/plain": [
       "value\n",
       "Drama                 24.82\n",
       "Documentary           15.50\n",
       "Comedy                14.40\n",
       "Mystery & thriller     6.08\n",
       "Adventure              4.05\n",
       "Romance                3.54\n",
       "Action                 3.29\n",
       "Biography              3.16\n",
       "Crime                  2.99\n",
       "Horror                 2.78\n",
       "Fantasy                2.62\n",
       "Kids & family          2.40\n",
       "Animation              2.15\n",
       "History                2.04\n",
       "Sci-fi                 2.03\n",
       "Music                  1.80\n",
       "Musical                1.73\n",
       "Lgbtq+                 1.57\n",
       "War                    1.22\n",
       "Western                1.07\n",
       "Holiday                0.54\n",
       "Stand-up               0.07\n",
       "Sports & fitness       0.04\n",
       "Sports                 0.02\n",
       "Special interest       0.02\n",
       "Nature                 0.02\n",
       "Variety                0.01\n",
       "Anime                  0.01\n",
       "Entertainment          0.01\n",
       "Short                  0.01\n",
       "Name: count, dtype: float64"
      ]
     },
     "execution_count": 103,
     "metadata": {},
     "output_type": "execute_result"
    }
   ],
   "source": [
    "rt_high_high_genre_merge = pd.merge(rotten_tomatoes_high_high, rotten_tomatoes_genre, on='id', how='left')\n",
    "rt_high_high_genre_melt = rt_high_high_genre_merge[['genre_1', 'genre_2', 'genre_3', 'genre_4', 'genre_5', 'genre_6', 'genre_7']].melt()\n",
    "rt_high_high_genre = round(rt_high_high_genre_melt['value'].value_counts()/rt_high_high_genre_melt['value'].count()*100,2)\n",
    "rt_high_high_genre"
   ]
  },
  {
   "cell_type": "code",
   "execution_count": 104,
   "id": "4ec3ccaa-2043-4db0-9fba-f8940c6d4826",
   "metadata": {},
   "outputs": [
    {
     "data": {
      "text/plain": [
       "value\n",
       "Drama                 18.73\n",
       "Horror                17.58\n",
       "Mystery & thriller    14.70\n",
       "Comedy                14.12\n",
       "Documentary            8.36\n",
       "Action                 4.61\n",
       "Romance                4.03\n",
       "Sci-fi                 3.17\n",
       "Adventure              2.59\n",
       "Crime                  2.31\n",
       "Musical                1.73\n",
       "Fantasy                1.73\n",
       "Music                  1.44\n",
       "History                0.86\n",
       "Western                0.86\n",
       "Lgbtq+                 0.86\n",
       "Biography              0.58\n",
       "War                    0.58\n",
       "Animation              0.29\n",
       "Kids & family          0.29\n",
       "Holiday                0.29\n",
       "Stand-up               0.29\n",
       "Name: count, dtype: float64"
      ]
     },
     "execution_count": 104,
     "metadata": {},
     "output_type": "execute_result"
    }
   ],
   "source": [
    "rt_high_critic_extreme_genre_merge = pd.merge(rotten_tomatoes_high_critic_extreme, rotten_tomatoes_genre, on='id', how='left')\n",
    "rt_high_critic_extreme_genre_melt = rt_high_critic_extreme_genre_merge[['genre_1', 'genre_2', 'genre_3', 'genre_4', 'genre_5', 'genre_6', 'genre_7']].melt()\n",
    "rt_high_critic_extreme_genre = round(rt_high_critic_extreme_genre_melt['value'].value_counts()/rt_high_critic_extreme_genre_melt['value'].count()*100,2)\n",
    "rt_high_critic_extreme_genre"
   ]
  },
  {
   "cell_type": "code",
   "execution_count": 105,
   "id": "513f2ca0-8c81-4334-bfe0-3f83efdf40e3",
   "metadata": {},
   "outputs": [
    {
     "data": {
      "text/plain": [
       "value\n",
       "Drama                 29.57\n",
       "Comedy                14.67\n",
       "Mystery & thriller    12.42\n",
       "Documentary            6.09\n",
       "Romance                5.64\n",
       "Action                 5.42\n",
       "Crime                  3.39\n",
       "Horror                 3.39\n",
       "Adventure              3.16\n",
       "Musical                2.26\n",
       "Fantasy                2.26\n",
       "Sci-fi                 1.81\n",
       "History                1.81\n",
       "Kids & family          1.58\n",
       "Biography              1.35\n",
       "Lgbtq+                 1.13\n",
       "Music                  0.90\n",
       "Holiday                0.68\n",
       "Western                0.68\n",
       "War                    0.45\n",
       "Animation              0.45\n",
       "Kids & Family          0.23\n",
       "Mystery & Thriller     0.23\n",
       "Stand-up               0.23\n",
       "Sports                 0.23\n",
       "Name: count, dtype: float64"
      ]
     },
     "execution_count": 105,
     "metadata": {},
     "output_type": "execute_result"
    }
   ],
   "source": [
    "rt_high_audience_extreme_genre_merge = pd.merge(rotten_tomatoes_high_audience_extreme, rotten_tomatoes_genre, on='id', how='left')\n",
    "rt_high_audience_extreme_genre_melt = rt_high_audience_extreme_genre_merge[['genre_1', 'genre_2', 'genre_3', 'genre_4', 'genre_5', 'genre_6', 'genre_7']].melt()\n",
    "rt_high_audience_extreme_genre = round(rt_high_audience_extreme_genre_melt['value'].value_counts()/rt_high_audience_extreme_genre_melt['value'].count()*100,2)\n",
    "rt_high_audience_extreme_genre"
   ]
  },
  {
   "cell_type": "code",
   "execution_count": 106,
   "id": "495f972e-7106-4d27-8c86-b1bc13099b47",
   "metadata": {},
   "outputs": [
    {
     "data": {
      "text/plain": [
       "value\n",
       "Drama                 23.85\n",
       "Comedy                16.61\n",
       "Mystery & thriller    12.35\n",
       "Horror                10.94\n",
       "Documentary            6.88\n",
       "Romance                3.86\n",
       "Sci-fi                 3.39\n",
       "Action                 3.24\n",
       "Crime                  3.08\n",
       "Adventure              2.88\n",
       "Fantasy                2.14\n",
       "Kids & family          1.81\n",
       "Lgbtq+                 1.54\n",
       "Biography              1.21\n",
       "Musical                1.09\n",
       "History                1.01\n",
       "Western                0.91\n",
       "Animation              0.85\n",
       "Music                  0.65\n",
       "Holiday                0.60\n",
       "War                    0.58\n",
       "Mystery & Thriller     0.25\n",
       "Stand-up               0.16\n",
       "Sci-Fi                 0.05\n",
       "Kids & Family          0.02\n",
       "News                   0.02\n",
       "Sports & fitness       0.02\n",
       "LGBTQ+                 0.02\n",
       "Name: count, dtype: float64"
      ]
     },
     "execution_count": 106,
     "metadata": {},
     "output_type": "execute_result"
    }
   ],
   "source": [
    "rt_high_high_extreme_genre_merge = pd.merge(rotten_tomatoes_high_high_extreme, rotten_tomatoes_genre, on='id', how='left')\n",
    "rt_high_high_extreme_genre_melt = rt_high_critic_genre_merge[['genre_1', 'genre_2', 'genre_3', 'genre_4', 'genre_5', 'genre_6', 'genre_7']].melt()\n",
    "rt_high_high_extreme_genre = round(rt_high_critic_genre_melt['value'].value_counts()/rt_high_critic_genre_melt['value'].count()*100,2)\n",
    "rt_high_high_extreme_genre"
   ]
  },
  {
   "cell_type": "markdown",
   "id": "2f70f28d-a0a1-45db-9995-2091ff743c59",
   "metadata": {
    "jp-MarkdownHeadingCollapsed": true
   },
   "source": [
    "### Movie ratings rankings"
   ]
  },
  {
   "cell_type": "code",
   "execution_count": 107,
   "id": "c06a7f9b-e971-4ea4-8270-c5efe3bc2b14",
   "metadata": {},
   "outputs": [],
   "source": [
    "rt_master_ratings = round((rotten_tomatoes_final['rating'].value_counts()/rotten_tomatoes_final['rating'].count())*100,2).sort_values(ascending=False)"
   ]
  },
  {
   "cell_type": "code",
   "execution_count": 108,
   "id": "01e4d0f1-1407-4321-af8f-bcf3595665a1",
   "metadata": {},
   "outputs": [
    {
     "data": {
      "text/plain": [
       "rating\n",
       "R        55.90\n",
       "PG-13    30.62\n",
       "PG       12.56\n",
       "TV14      0.33\n",
       "TVMA      0.17\n",
       "TVPG      0.15\n",
       "NR        0.15\n",
       "NC-17     0.10\n",
       "G         0.02\n",
       "Name: count, dtype: float64"
      ]
     },
     "execution_count": 108,
     "metadata": {},
     "output_type": "execute_result"
    }
   ],
   "source": [
    "rt_master_ratings"
   ]
  },
  {
   "cell_type": "code",
   "execution_count": 109,
   "id": "f99eeb5d-3a67-462b-b736-ff7b76f3c10e",
   "metadata": {},
   "outputs": [],
   "source": [
    "rt_high_critic_ratings = round((rotten_tomatoes_high_critic['rating'].value_counts()/rotten_tomatoes_high_critic['rating'].count())*100,2).sort_values(ascending=False)"
   ]
  },
  {
   "cell_type": "code",
   "execution_count": 110,
   "id": "05529e45-1742-4d94-a2cd-e2e5fc814239",
   "metadata": {},
   "outputs": [
    {
     "data": {
      "text/plain": [
       "rating\n",
       "R        71.58\n",
       "PG-13    18.47\n",
       "PG        7.87\n",
       "NR        1.09\n",
       "TV14      0.44\n",
       "TVMA      0.33\n",
       "TVPG      0.11\n",
       "NC-17     0.11\n",
       "Name: count, dtype: float64"
      ]
     },
     "execution_count": 110,
     "metadata": {},
     "output_type": "execute_result"
    }
   ],
   "source": [
    "rt_high_critic_ratings"
   ]
  },
  {
   "cell_type": "code",
   "execution_count": 111,
   "id": "82cf335f-cb63-461b-b693-54d894ee2196",
   "metadata": {},
   "outputs": [],
   "source": [
    "rt_high_audience_ratings = round((rotten_tomatoes_high_audience['rating'].value_counts()/rotten_tomatoes_high_audience['rating'].count())*100,2).sort_values(ascending=False)"
   ]
  },
  {
   "cell_type": "code",
   "execution_count": 112,
   "id": "56fbcf14-27c4-4a52-81c3-334be39e2a4a",
   "metadata": {},
   "outputs": [
    {
     "data": {
      "text/plain": [
       "rating\n",
       "R        44.82\n",
       "PG-13    38.77\n",
       "PG       15.92\n",
       "G         0.16\n",
       "TV14      0.08\n",
       "TVPG      0.08\n",
       "NR        0.08\n",
       "NC-17     0.08\n",
       "Name: count, dtype: float64"
      ]
     },
     "execution_count": 112,
     "metadata": {},
     "output_type": "execute_result"
    }
   ],
   "source": [
    "rt_high_audience_ratings"
   ]
  },
  {
   "cell_type": "code",
   "execution_count": 113,
   "id": "a0f36dd8-6a5e-437f-84fc-ca0c312facea",
   "metadata": {},
   "outputs": [],
   "source": [
    "rt_high_high_ratings = round((rotten_tomatoes_high_high['rating'].value_counts()/rotten_tomatoes_high_high['rating'].count())*100,2).sort_values(ascending=False)"
   ]
  },
  {
   "cell_type": "code",
   "execution_count": 114,
   "id": "671f851b-cb0f-4422-a1bc-7f1bf087110c",
   "metadata": {},
   "outputs": [
    {
     "data": {
      "text/plain": [
       "rating\n",
       "R        52.68\n",
       "PG-13    31.18\n",
       "PG       15.15\n",
       "TV14      0.33\n",
       "TVMA      0.33\n",
       "TVPG      0.22\n",
       "NC-17     0.07\n",
       "NR        0.04\n",
       "Name: count, dtype: float64"
      ]
     },
     "execution_count": 114,
     "metadata": {},
     "output_type": "execute_result"
    }
   ],
   "source": [
    "rt_high_high_ratings"
   ]
  },
  {
   "cell_type": "code",
   "execution_count": 115,
   "id": "43511b7e-8dff-4357-a9ba-9e0ac9a97add",
   "metadata": {},
   "outputs": [],
   "source": [
    "rotten_tomatoes_high_critic_extreme_ratings = round((rotten_tomatoes_high_critic_extreme['rating'].value_counts()/rotten_tomatoes_high_critic_extreme['rating'].count())*100,2).sort_values(ascending=False)"
   ]
  },
  {
   "cell_type": "code",
   "execution_count": 116,
   "id": "825c87a7-2ed7-4979-8ddc-2e0c7e208ea6",
   "metadata": {},
   "outputs": [
    {
     "data": {
      "text/plain": [
       "rating\n",
       "R        82.14\n",
       "PG-13     7.14\n",
       "PG        7.14\n",
       "TV14      3.57\n",
       "Name: count, dtype: float64"
      ]
     },
     "execution_count": 116,
     "metadata": {},
     "output_type": "execute_result"
    }
   ],
   "source": [
    "rotten_tomatoes_high_critic_extreme_ratings"
   ]
  },
  {
   "cell_type": "code",
   "execution_count": 117,
   "id": "a88506c9-b00e-4cec-bab6-8b3c150057a2",
   "metadata": {},
   "outputs": [],
   "source": [
    "rotten_tomatoes_high_audience_extreme_ratings = round((rotten_tomatoes_high_audience_extreme['rating'].value_counts()/rotten_tomatoes_high_audience_extreme['rating'].count())*100,2).sort_values(ascending=False)"
   ]
  },
  {
   "cell_type": "code",
   "execution_count": 118,
   "id": "726939e4-f7c9-4415-bf4d-ccbd68a68f5c",
   "metadata": {},
   "outputs": [
    {
     "data": {
      "text/plain": [
       "rating\n",
       "R        46.62\n",
       "PG-13    38.35\n",
       "PG       14.29\n",
       "NR        0.75\n",
       "Name: count, dtype: float64"
      ]
     },
     "execution_count": 118,
     "metadata": {},
     "output_type": "execute_result"
    }
   ],
   "source": [
    "rotten_tomatoes_high_audience_extreme_ratings"
   ]
  },
  {
   "cell_type": "code",
   "execution_count": 119,
   "id": "800fc589-4447-43b9-8605-d692481045b4",
   "metadata": {},
   "outputs": [],
   "source": [
    "rotten_tomatoes_high_high_extreme_ratings = round((rotten_tomatoes_high_high_extreme['rating'].value_counts()/rotten_tomatoes_high_high_extreme['rating'].count())*100,2).sort_values(ascending=False)"
   ]
  },
  {
   "cell_type": "code",
   "execution_count": 120,
   "id": "0fcbef12-9ef3-4adf-8127-1ebd04462662",
   "metadata": {},
   "outputs": [
    {
     "data": {
      "text/plain": [
       "rating\n",
       "R        46.47\n",
       "PG-13    34.47\n",
       "PG       18.24\n",
       "TVPG      0.47\n",
       "TVMA      0.24\n",
       "TV14      0.12\n",
       "Name: count, dtype: float64"
      ]
     },
     "execution_count": 120,
     "metadata": {},
     "output_type": "execute_result"
    }
   ],
   "source": [
    "rotten_tomatoes_high_high_extreme_ratings"
   ]
  },
  {
   "cell_type": "markdown",
   "id": "4753b609-4d9f-490b-a195-9b1f5270d6c7",
   "metadata": {
    "jp-MarkdownHeadingCollapsed": true
   },
   "source": [
    "## 3 - Other stats"
   ]
  },
  {
   "cell_type": "markdown",
   "id": "7ea2a891-6317-401f-ac4a-e91ec6702028",
   "metadata": {
    "jp-MarkdownHeadingCollapsed": true
   },
   "source": [
    "### Avg runtime"
   ]
  },
  {
   "cell_type": "code",
   "execution_count": 121,
   "id": "1a40c3ac-d339-4531-ad32-21bdeca968b1",
   "metadata": {},
   "outputs": [
    {
     "data": {
      "text/plain": [
       "99.83249506017604"
      ]
     },
     "execution_count": 121,
     "metadata": {},
     "output_type": "execute_result"
    }
   ],
   "source": [
    "rotten_tomatoes_final['runtimeMinutes'].mean()"
   ]
  },
  {
   "cell_type": "code",
   "execution_count": 122,
   "id": "8771ff8d-cd72-4f6e-bc65-d6ee283e469d",
   "metadata": {},
   "outputs": [
    {
     "data": {
      "text/plain": [
       "rating\n",
       "G         92.000000\n",
       "NC-17    106.000000\n",
       "NR        98.416667\n",
       "PG        98.878431\n",
       "PG-13    106.470233\n",
       "R        102.843405\n",
       "TV14      98.111111\n",
       "TVMA     111.285714\n",
       "TVPG     110.083333\n",
       "Name: runtimeMinutes, dtype: float64"
      ]
     },
     "execution_count": 122,
     "metadata": {},
     "output_type": "execute_result"
    }
   ],
   "source": [
    "rotten_tomatoes_final.groupby('rating')['runtimeMinutes'].mean()"
   ]
  },
  {
   "cell_type": "code",
   "execution_count": 123,
   "id": "9c8bf12c-69f3-4aba-87e4-4f32fc12c991",
   "metadata": {},
   "outputs": [
    {
     "data": {
      "text/plain": [
       "95.00978892627715"
      ]
     },
     "execution_count": 123,
     "metadata": {},
     "output_type": "execute_result"
    }
   ],
   "source": [
    "rotten_tomatoes_high_critic['runtimeMinutes'].mean()"
   ]
  },
  {
   "cell_type": "code",
   "execution_count": 124,
   "id": "b2ef6607-639e-49d8-8598-71347d2798ec",
   "metadata": {},
   "outputs": [
    {
     "data": {
      "text/plain": [
       "rating\n",
       "NC-17     98.000000\n",
       "NR        98.500000\n",
       "PG        97.347222\n",
       "PG-13    102.455621\n",
       "R         99.261468\n",
       "TV14     114.500000\n",
       "TVMA      95.000000\n",
       "TVPG      96.000000\n",
       "Name: runtimeMinutes, dtype: float64"
      ]
     },
     "execution_count": 124,
     "metadata": {},
     "output_type": "execute_result"
    }
   ],
   "source": [
    "rotten_tomatoes_high_critic.groupby('rating')['runtimeMinutes'].mean()"
   ]
  },
  {
   "cell_type": "code",
   "execution_count": 125,
   "id": "adb56458-eb75-4805-ae31-6a52eb880c41",
   "metadata": {},
   "outputs": [
    {
     "data": {
      "text/plain": [
       "103.96385542168674"
      ]
     },
     "execution_count": 125,
     "metadata": {},
     "output_type": "execute_result"
    }
   ],
   "source": [
    "rotten_tomatoes_high_audience['runtimeMinutes'].mean()"
   ]
  },
  {
   "cell_type": "code",
   "execution_count": 126,
   "id": "8607b204-029f-41de-a7d7-709ff7515a7e",
   "metadata": {},
   "outputs": [
    {
     "data": {
      "text/plain": [
       "rating\n",
       "G         92.000000\n",
       "NC-17    112.000000\n",
       "NR       121.000000\n",
       "PG       102.210000\n",
       "PG-13    110.246407\n",
       "R        105.816726\n",
       "TV14      96.000000\n",
       "TVPG      94.000000\n",
       "Name: runtimeMinutes, dtype: float64"
      ]
     },
     "execution_count": 126,
     "metadata": {},
     "output_type": "execute_result"
    }
   ],
   "source": [
    "rotten_tomatoes_high_audience.groupby('rating')['runtimeMinutes'].mean()"
   ]
  },
  {
   "cell_type": "code",
   "execution_count": 127,
   "id": "496a6df2-20b0-4e52-adc4-3547bca11908",
   "metadata": {},
   "outputs": [
    {
     "data": {
      "text/plain": [
       "101.69856661045532"
      ]
     },
     "execution_count": 127,
     "metadata": {},
     "output_type": "execute_result"
    }
   ],
   "source": [
    "rotten_tomatoes_high_high['runtimeMinutes'].mean()"
   ]
  },
  {
   "cell_type": "code",
   "execution_count": 128,
   "id": "c835c46b-54bd-4e9b-84fa-ae2465f920b5",
   "metadata": {},
   "outputs": [
    {
     "data": {
      "text/plain": [
       "rating\n",
       "NC-17     94.500000\n",
       "NR        75.000000\n",
       "PG       100.207317\n",
       "PG-13    110.296209\n",
       "R        108.510877\n",
       "TV14     100.555556\n",
       "TVMA     115.666667\n",
       "TVPG     100.166667\n",
       "Name: runtimeMinutes, dtype: float64"
      ]
     },
     "execution_count": 128,
     "metadata": {},
     "output_type": "execute_result"
    }
   ],
   "source": [
    "rotten_tomatoes_high_high.groupby('rating')['runtimeMinutes'].mean()"
   ]
  },
  {
   "cell_type": "code",
   "execution_count": 129,
   "id": "d804f428-3a28-49e3-84d7-79bc70d03fcb",
   "metadata": {},
   "outputs": [
    {
     "data": {
      "text/plain": [
       "88.97014925373135"
      ]
     },
     "execution_count": 129,
     "metadata": {},
     "output_type": "execute_result"
    }
   ],
   "source": [
    "rotten_tomatoes_high_critic_extreme['runtimeMinutes'].mean()"
   ]
  },
  {
   "cell_type": "code",
   "execution_count": 130,
   "id": "a1f3639c-b0ef-4585-835c-b96f46f14150",
   "metadata": {},
   "outputs": [
    {
     "data": {
      "text/plain": [
       "rating\n",
       "PG        82.000000\n",
       "PG-13    104.000000\n",
       "R         94.391304\n",
       "TV14      90.000000\n",
       "Name: runtimeMinutes, dtype: float64"
      ]
     },
     "execution_count": 130,
     "metadata": {},
     "output_type": "execute_result"
    }
   ],
   "source": [
    "rotten_tomatoes_high_critic_extreme.groupby('rating')['runtimeMinutes'].mean()"
   ]
  },
  {
   "cell_type": "code",
   "execution_count": 131,
   "id": "11d827c0-18ae-4ff6-b812-968cb17993e3",
   "metadata": {},
   "outputs": [
    {
     "data": {
      "text/plain": [
       "103.25098039215686"
      ]
     },
     "execution_count": 131,
     "metadata": {},
     "output_type": "execute_result"
    }
   ],
   "source": [
    "rotten_tomatoes_high_audience_extreme['runtimeMinutes'].mean()"
   ]
  },
  {
   "cell_type": "code",
   "execution_count": 132,
   "id": "a7ecc063-3cd8-4835-ba90-5ea942ec28c3",
   "metadata": {},
   "outputs": [
    {
     "data": {
      "text/plain": [
       "rating\n",
       "NR       121.000000\n",
       "PG        99.263158\n",
       "PG-13    114.058824\n",
       "R        102.483871\n",
       "Name: runtimeMinutes, dtype: float64"
      ]
     },
     "execution_count": 132,
     "metadata": {},
     "output_type": "execute_result"
    }
   ],
   "source": [
    "rotten_tomatoes_high_audience_extreme.groupby('rating')['runtimeMinutes'].mean()"
   ]
  },
  {
   "cell_type": "code",
   "execution_count": 133,
   "id": "cde1c555-2dbd-4bac-98b5-c8f6445f5f73",
   "metadata": {},
   "outputs": [
    {
     "data": {
      "text/plain": [
       "103.5412386263575"
      ]
     },
     "execution_count": 133,
     "metadata": {},
     "output_type": "execute_result"
    }
   ],
   "source": [
    "rotten_tomatoes_high_high_extreme['runtimeMinutes'].mean()"
   ]
  },
  {
   "cell_type": "code",
   "execution_count": 134,
   "id": "e4bdf43d-7dfe-418a-99b8-635ded35de48",
   "metadata": {},
   "outputs": [
    {
     "data": {
      "text/plain": [
       "rating\n",
       "PG       101.993548\n",
       "PG-13    114.464164\n",
       "R        112.870886\n",
       "TV14      94.000000\n",
       "TVMA     123.500000\n",
       "TVPG     101.250000\n",
       "Name: runtimeMinutes, dtype: float64"
      ]
     },
     "execution_count": 134,
     "metadata": {},
     "output_type": "execute_result"
    }
   ],
   "source": [
    "rotten_tomatoes_high_high_extreme.groupby('rating')['runtimeMinutes'].mean()"
   ]
  },
  {
   "cell_type": "markdown",
   "id": "67f155ed-f69e-4f24-9f8b-116624e09723",
   "metadata": {
    "jp-MarkdownHeadingCollapsed": true
   },
   "source": [
    "### Top directors"
   ]
  },
  {
   "cell_type": "code",
   "execution_count": 135,
   "id": "360eef4c-3480-43ca-8d7b-781d514b9283",
   "metadata": {},
   "outputs": [],
   "source": [
    "rt_directors_simple = rotten_tomatoes_directors.drop(['id', 'title', 'director'], axis=1)"
   ]
  },
  {
   "cell_type": "code",
   "execution_count": 136,
   "id": "94d5906b-fbcc-4973-b384-05f418a2d33d",
   "metadata": {},
   "outputs": [
    {
     "data": {
      "text/plain": [
       "value\n",
       "Woody Allen          0.20\n",
       "Alfred Hitchcock     0.17\n",
       "Clint Eastwood       0.16\n",
       "John Ford            0.15\n",
       "Steven Soderbergh    0.15\n",
       "                     ... \n",
       "John Erman           0.00\n",
       "Shawn Linden         0.00\n",
       "Joshua Locy          0.00\n",
       "Greg Swinson         0.00\n",
       "Srdjan Spasojevic    0.00\n",
       "Name: count, Length: 11412, dtype: float64"
      ]
     },
     "execution_count": 136,
     "metadata": {},
     "output_type": "execute_result"
    }
   ],
   "source": [
    "rt_master_directors_melt = rt_directors_simple.melt()\n",
    "rt_master_directors = round(rt_master_directors_melt['value'].value_counts()/rt_master_directors_melt['value'].count()*100,2)\n",
    "rt_master_directors"
   ]
  },
  {
   "cell_type": "code",
   "execution_count": 137,
   "id": "ed0a3106-6f25-494c-82bb-c2fe6a3ab956",
   "metadata": {},
   "outputs": [
    {
     "data": {
      "text/plain": [
       "value\n",
       "Woody Allen          48\n",
       "Alfred Hitchcock     41\n",
       "Clint Eastwood       38\n",
       "John Ford            37\n",
       "Steven Soderbergh    36\n",
       "                     ..\n",
       "John Erman            1\n",
       "Shawn Linden          1\n",
       "Joshua Locy           1\n",
       "Greg Swinson          1\n",
       "Srdjan Spasojevic     1\n",
       "Name: count, Length: 11412, dtype: int64"
      ]
     },
     "execution_count": 137,
     "metadata": {},
     "output_type": "execute_result"
    }
   ],
   "source": [
    "rt_master_directors_melt['value'].value_counts()"
   ]
  },
  {
   "cell_type": "code",
   "execution_count": 138,
   "id": "8810497a-eddf-45f1-83bb-5b061ce2c1d6",
   "metadata": {},
   "outputs": [
    {
     "data": {
      "text/plain": [
       "value\n",
       "Joe Swanberg         0.28\n",
       "Abel Ferrara         0.28\n",
       "David Cronenberg     0.25\n",
       "Steven Soderbergh    0.25\n",
       "George A. Romero     0.22\n",
       "                     ... \n",
       "Leon Ford            0.03\n",
       "Timothy Busfield     0.03\n",
       "Irwin Winkler        0.03\n",
       "Tamra Davis          0.03\n",
       "Andrew Kasch         0.03\n",
       "Name: count, Length: 2766, dtype: float64"
      ]
     },
     "execution_count": 138,
     "metadata": {},
     "output_type": "execute_result"
    }
   ],
   "source": [
    "#merge dataset to splat dataset, then run melt\n",
    "rt_high_critic_director_merge = pd.merge(rotten_tomatoes_high_critic, rotten_tomatoes_directors, on='id', how='left')\n",
    "rt_high_critic_director_melt = rt_high_critic_director_merge[['director_1', 'director_2', 'director_3', 'director_4', 'director_5', 'director_6', 'director_7', 'director_8', 'director_9', 'director_10', 'director_11', 'director_12', 'director_13', 'director_14', 'director_15', 'director_16', 'director_17', 'director_18', 'director_19', 'director_20']].melt()\n",
    "rt_high_critic_director = round(rt_high_critic_director_melt['value'].value_counts()/rt_high_critic_director_melt['value'].count()*100,2)\n",
    "rt_high_critic_director"
   ]
  },
  {
   "cell_type": "code",
   "execution_count": 139,
   "id": "580bd5b7-5102-4183-885b-75cd4ad9044d",
   "metadata": {},
   "outputs": [
    {
     "data": {
      "text/plain": [
       "value\n",
       "Joe Swanberg         10\n",
       "Abel Ferrara         10\n",
       "David Cronenberg      9\n",
       "Steven Soderbergh     9\n",
       "George A. Romero      8\n",
       "                     ..\n",
       "Leon Ford             1\n",
       "Timothy Busfield      1\n",
       "Irwin Winkler         1\n",
       "Tamra Davis           1\n",
       "Andrew Kasch          1\n",
       "Name: count, Length: 2766, dtype: int64"
      ]
     },
     "execution_count": 139,
     "metadata": {},
     "output_type": "execute_result"
    }
   ],
   "source": [
    "rt_high_critic_director_melt['value'].value_counts()"
   ]
  },
  {
   "cell_type": "code",
   "execution_count": 140,
   "id": "7026acb5-6e24-40f6-ba35-fa71f999ea84",
   "metadata": {},
   "outputs": [
    {
     "data": {
      "text/plain": [
       "value\n",
       "Tyler Perry      0.51\n",
       "Michael Bay      0.26\n",
       "Ridley Scott     0.22\n",
       "Tony Scott       0.22\n",
       "Sean McNamara    0.22\n",
       "                 ... \n",
       "Ron Krauss       0.04\n",
       "Paul Wendkos     0.04\n",
       "Don Jurwich      0.04\n",
       "Ivan Reitman     0.04\n",
       "Alex Takacs      0.04\n",
       "Name: count, Length: 2162, dtype: float64"
      ]
     },
     "execution_count": 140,
     "metadata": {},
     "output_type": "execute_result"
    }
   ],
   "source": [
    "rt_high_audience_director_merge = pd.merge(rotten_tomatoes_high_audience, rotten_tomatoes_directors, on='id', how='left')\n",
    "rt_high_audience_director_melt = rt_high_audience_director_merge[['director_1', 'director_2', 'director_3', 'director_4', 'director_5', 'director_6', 'director_7', 'director_8', 'director_9', 'director_10', 'director_11', 'director_12', 'director_13', 'director_14', 'director_15', 'director_16', 'director_17', 'director_18', 'director_19', 'director_20']].melt()\n",
    "rt_high_audience_director = round(rt_high_audience_director_melt['value'].value_counts()/rt_high_audience_director_melt['value'].count()*100,2)\n",
    "rt_high_audience_director"
   ]
  },
  {
   "cell_type": "code",
   "execution_count": 141,
   "id": "237f0a81-9a3f-465e-a6db-f2e2390c1f52",
   "metadata": {},
   "outputs": [
    {
     "data": {
      "text/plain": [
       "value\n",
       "Tyler Perry      14\n",
       "Michael Bay       7\n",
       "Ridley Scott      6\n",
       "Tony Scott        6\n",
       "Sean McNamara     6\n",
       "                 ..\n",
       "Ron Krauss        1\n",
       "Paul Wendkos      1\n",
       "Don Jurwich       1\n",
       "Ivan Reitman      1\n",
       "Alex Takacs       1\n",
       "Name: count, Length: 2162, dtype: int64"
      ]
     },
     "execution_count": 141,
     "metadata": {},
     "output_type": "execute_result"
    }
   ],
   "source": [
    "rt_high_audience_director_melt['value'].value_counts()"
   ]
  },
  {
   "cell_type": "code",
   "execution_count": 142,
   "id": "d89954fa-4a76-43ad-8f50-563f92f316c4",
   "metadata": {},
   "outputs": [
    {
     "data": {
      "text/plain": [
       "value\n",
       "Martin Scorsese         0.30\n",
       "Alfred Hitchcock        0.27\n",
       "Steven Spielberg        0.25\n",
       "John Ford               0.24\n",
       "William Wyler           0.23\n",
       "                        ... \n",
       "Sophia Nahli Allison    0.01\n",
       "Max Walker-Silverman    0.01\n",
       "Matt Hullum             0.01\n",
       "Lee H. Katzin           0.01\n",
       "Jason Ragosta           0.01\n",
       "Name: count, Length: 5933, dtype: float64"
      ]
     },
     "execution_count": 142,
     "metadata": {},
     "output_type": "execute_result"
    }
   ],
   "source": [
    "rt_high_high_director_merge = pd.merge(rotten_tomatoes_high_high, rotten_tomatoes_directors, on='id', how='left')\n",
    "rt_high_high_director_melt = rt_high_high_director_merge[['director_1', 'director_2', 'director_3', 'director_4', 'director_5', 'director_6', 'director_7', 'director_8', 'director_9', 'director_10', 'director_11', 'director_12', 'director_13', 'director_14', 'director_15', 'director_16', 'director_17', 'director_18', 'director_19', 'director_20']].melt()\n",
    "rt_high_high_director = round(rt_high_high_director_melt['value'].value_counts()/rt_high_high_director_melt['value'].count()*100,2)\n",
    "rt_high_high_director"
   ]
  },
  {
   "cell_type": "code",
   "execution_count": 143,
   "id": "433f8f28-bc3e-423f-acd9-eb14047de056",
   "metadata": {},
   "outputs": [
    {
     "data": {
      "text/plain": [
       "value\n",
       "Martin Scorsese         32\n",
       "Alfred Hitchcock        29\n",
       "Steven Spielberg        27\n",
       "John Ford               26\n",
       "William Wyler           25\n",
       "                        ..\n",
       "Sophia Nahli Allison     1\n",
       "Max Walker-Silverman     1\n",
       "Matt Hullum              1\n",
       "Lee H. Katzin            1\n",
       "Jason Ragosta            1\n",
       "Name: count, Length: 5933, dtype: int64"
      ]
     },
     "execution_count": 143,
     "metadata": {},
     "output_type": "execute_result"
    }
   ],
   "source": [
    "rt_high_high_director_melt['value'].value_counts()"
   ]
  },
  {
   "cell_type": "code",
   "execution_count": 144,
   "id": "1eded0ab-3a5f-44f7-bb68-26b3b7a8336f",
   "metadata": {},
   "outputs": [
    {
     "data": {
      "text/plain": [
       "value\n",
       "Edgar G. Ulmer    1.31\n",
       "Archie Mayo       0.87\n",
       "James Ivory       0.87\n",
       "Lucia Small       0.87\n",
       "Amelia Moses      0.87\n",
       "                  ... \n",
       "Russ Meyer        0.44\n",
       "Ben Wheatley      0.44\n",
       "Jared Bentley     0.44\n",
       "Roger Corman      0.44\n",
       "Alberto Mielgo    0.44\n",
       "Name: count, Length: 223, dtype: float64"
      ]
     },
     "execution_count": 144,
     "metadata": {},
     "output_type": "execute_result"
    }
   ],
   "source": [
    "rt_high_critic_extreme_director_merge = pd.merge(rotten_tomatoes_high_critic_extreme, rotten_tomatoes_directors, on='id', how='left')\n",
    "rt_high_critic_extreme_director_melt = rt_high_critic_extreme_director_merge[['director_1', 'director_2', 'director_3', 'director_4', 'director_5', 'director_6', 'director_7', 'director_8', 'director_9', 'director_10', 'director_11', 'director_12', 'director_13', 'director_14', 'director_15', 'director_16', 'director_17', 'director_18', 'director_19', 'director_20']].melt()\n",
    "rt_high_critic_extreme_director = round(rt_high_critic_extreme_director_melt['value'].value_counts()/rt_high_critic_extreme_director_melt['value'].count()*100,2)\n",
    "rt_high_critic_extreme_director"
   ]
  },
  {
   "cell_type": "code",
   "execution_count": 145,
   "id": "334e0d33-e804-4bb0-be54-d84ad025d6c5",
   "metadata": {},
   "outputs": [
    {
     "data": {
      "text/plain": [
       "value\n",
       "Edgar G. Ulmer    3\n",
       "Archie Mayo       2\n",
       "James Ivory       2\n",
       "Lucia Small       2\n",
       "Amelia Moses      2\n",
       "                 ..\n",
       "Russ Meyer        1\n",
       "Ben Wheatley      1\n",
       "Jared Bentley     1\n",
       "Roger Corman      1\n",
       "Alberto Mielgo    1\n",
       "Name: count, Length: 223, dtype: int64"
      ]
     },
     "execution_count": 145,
     "metadata": {},
     "output_type": "execute_result"
    }
   ],
   "source": [
    "rt_high_critic_extreme_director_melt['value'].value_counts()"
   ]
  },
  {
   "cell_type": "code",
   "execution_count": 146,
   "id": "0b8772e3-206a-4b9a-b96b-5811b357451e",
   "metadata": {},
   "outputs": [
    {
     "data": {
      "text/plain": [
       "value\n",
       "Alex Kendrick     1.45\n",
       "Tyler Perry       1.45\n",
       "Dinesh D'Souza    1.09\n",
       "Brian Baugh       0.72\n",
       "Bruce Schooley    0.72\n",
       "                  ... \n",
       "Ron Howard        0.36\n",
       "Tom Shadyac       0.36\n",
       "Paul Feig         0.36\n",
       "Jessie Nelson     0.36\n",
       "Alex Takacs       0.36\n",
       "Name: count, Length: 263, dtype: float64"
      ]
     },
     "execution_count": 146,
     "metadata": {},
     "output_type": "execute_result"
    }
   ],
   "source": [
    "rt_high_audience_extreme_director_merge = pd.merge(rotten_tomatoes_high_audience_extreme, rotten_tomatoes_directors, on='id', how='left')\n",
    "rt_high_audience_extreme_director_melt = rt_high_audience_extreme_director_merge[['director_1', 'director_2', 'director_3', 'director_4', 'director_5', 'director_6', 'director_7', 'director_8', 'director_9', 'director_10', 'director_11', 'director_12', 'director_13', 'director_14', 'director_15', 'director_16', 'director_17', 'director_18', 'director_19', 'director_20']].melt()\n",
    "rt_high_audience_extreme_director = round(rt_high_audience_extreme_director_melt['value'].value_counts()/rt_high_audience_extreme_director_melt['value'].count()*100,2)\n",
    "rt_high_audience_extreme_director"
   ]
  },
  {
   "cell_type": "code",
   "execution_count": 147,
   "id": "2831baf0-462c-46a2-ba64-c17c4fd386d8",
   "metadata": {},
   "outputs": [
    {
     "data": {
      "text/plain": [
       "value\n",
       "Alex Kendrick     4\n",
       "Tyler Perry       4\n",
       "Dinesh D'Souza    3\n",
       "Brian Baugh       2\n",
       "Bruce Schooley    2\n",
       "                 ..\n",
       "Ron Howard        1\n",
       "Tom Shadyac       1\n",
       "Paul Feig         1\n",
       "Jessie Nelson     1\n",
       "Alex Takacs       1\n",
       "Name: count, Length: 263, dtype: int64"
      ]
     },
     "execution_count": 147,
     "metadata": {},
     "output_type": "execute_result"
    }
   ],
   "source": [
    "rt_high_audience_extreme_director_melt['value'].value_counts()"
   ]
  },
  {
   "cell_type": "code",
   "execution_count": 148,
   "id": "c13c6495-d314-46d2-b46a-fe1d516533dd",
   "metadata": {},
   "outputs": [
    {
     "data": {
      "text/plain": [
       "value\n",
       "Martin Scorsese     0.43\n",
       "William Wyler       0.43\n",
       "Alfred Hitchcock    0.41\n",
       "Steven Spielberg    0.36\n",
       "Woody Allen         0.36\n",
       "                    ... \n",
       "Eric McEver         0.03\n",
       "Mary McCartney      0.03\n",
       "Maia Wechsler       0.03\n",
       "Michael Govier      0.03\n",
       "Nobuhiro Suwa       0.03\n",
       "Name: count, Length: 2652, dtype: float64"
      ]
     },
     "execution_count": 148,
     "metadata": {},
     "output_type": "execute_result"
    }
   ],
   "source": [
    "rt_high_high_extreme_director_merge = pd.merge(rotten_tomatoes_high_high_extreme, rotten_tomatoes_directors, on='id', how='left')\n",
    "rt_high_high_extreme_director_melt = rt_high_high_extreme_director_merge[['director_1', 'director_2', 'director_3', 'director_4', 'director_5', 'director_6', 'director_7', 'director_8', 'director_9', 'director_10', 'director_11', 'director_12', 'director_13', 'director_14', 'director_15', 'director_16', 'director_17', 'director_18', 'director_19', 'director_20']].melt()\n",
    "rt_high_high_extreme_director = round(rt_high_high_extreme_director_melt['value'].value_counts()/rt_high_high_extreme_director_melt['value'].count()*100,2)\n",
    "rt_high_high_extreme_director"
   ]
  },
  {
   "cell_type": "code",
   "execution_count": 149,
   "id": "2affb961-33a3-4b36-9258-036f6e54e358",
   "metadata": {},
   "outputs": [
    {
     "data": {
      "text/plain": [
       "value\n",
       "Martin Scorsese     17\n",
       "William Wyler       17\n",
       "Alfred Hitchcock    16\n",
       "Steven Spielberg    14\n",
       "Woody Allen         14\n",
       "                    ..\n",
       "Eric McEver          1\n",
       "Mary McCartney       1\n",
       "Maia Wechsler        1\n",
       "Michael Govier       1\n",
       "Nobuhiro Suwa        1\n",
       "Name: count, Length: 2652, dtype: int64"
      ]
     },
     "execution_count": 149,
     "metadata": {},
     "output_type": "execute_result"
    }
   ],
   "source": [
    "rt_high_high_extreme_director_melt['value'].value_counts()"
   ]
  },
  {
   "cell_type": "markdown",
   "id": "71919191-95f0-40ce-9cbe-18838ce119bd",
   "metadata": {
    "jp-MarkdownHeadingCollapsed": true
   },
   "source": [
    "## 4 - What is the relationship between ratings and box office numbers?"
   ]
  },
  {
   "cell_type": "code",
   "execution_count": 150,
   "id": "aced1070-9ee9-4b2d-8c61-c8d46971f91e",
   "metadata": {},
   "outputs": [],
   "source": [
    "box_office = pd.read_excel('../data/box_office_domestic.xlsx')"
   ]
  },
  {
   "cell_type": "code",
   "execution_count": 151,
   "id": "fc1bcb3c-819f-4677-9970-7e7d38e8fe79",
   "metadata": {},
   "outputs": [],
   "source": [
    "box_office = box_office.drop(['year'], axis=1)"
   ]
  },
  {
   "cell_type": "code",
   "execution_count": 164,
   "id": "b7051813-95cc-45d4-b66e-95624261a35a",
   "metadata": {},
   "outputs": [],
   "source": [
    "rt_master_box_office = pd.merge(rotten_tomatoes_final, box_office, on='title', how='left')"
   ]
  },
  {
   "cell_type": "code",
   "execution_count": 166,
   "id": "18b8df2a-8f99-4a80-a1a2-fa7b68e1b4e5",
   "metadata": {},
   "outputs": [],
   "source": [
    "rt_master_box_office['domestic_box_office_MM'] = rt_master_box_office['domestic_box_office_MM'].fillna(rt_master_box_office['boxOfficeMM_clean'])"
   ]
  },
  {
   "cell_type": "code",
   "execution_count": 168,
   "id": "f48ca0fb-01ff-4ddb-a408-0bb2ef02d5dd",
   "metadata": {},
   "outputs": [
    {
     "data": {
      "text/plain": [
       "27.495709418124914"
      ]
     },
     "execution_count": 168,
     "metadata": {},
     "output_type": "execute_result"
    }
   ],
   "source": [
    "rt_master_box_office['domestic_box_office_MM'].mean()"
   ]
  },
  {
   "cell_type": "code",
   "execution_count": 173,
   "id": "98d7762d-a4b0-4126-b9aa-ecb04dc06d0a",
   "metadata": {},
   "outputs": [],
   "source": [
    "def box_office_mean(df):\n",
    "    rt_box_office = pd.merge(df, box_office, on='title', how='left')\n",
    "    rt_box_office['domestic_box_office_MM'] = rt_box_office['domestic_box_office_MM'].fillna(rt_box_office['boxOfficeMM_clean'])\n",
    "    box_office_avg = rt_box_office['domestic_box_office_MM'].mean()\n",
    "    return box_office_avg"
   ]
  },
  {
   "cell_type": "code",
   "execution_count": 174,
   "id": "81955eb3-b257-4248-9a51-280c9f2ea449",
   "metadata": {},
   "outputs": [
    {
     "data": {
      "text/plain": [
       "16.374712934996715"
      ]
     },
     "execution_count": 174,
     "metadata": {},
     "output_type": "execute_result"
    }
   ],
   "source": [
    "box_office_mean(rotten_tomatoes_high_critic)"
   ]
  },
  {
   "cell_type": "code",
   "execution_count": 175,
   "id": "cd8a64f6-fb9c-477f-8b9f-333554c8d1af",
   "metadata": {},
   "outputs": [
    {
     "data": {
      "text/plain": [
       "29.877040662323566"
      ]
     },
     "execution_count": 175,
     "metadata": {},
     "output_type": "execute_result"
    }
   ],
   "source": [
    "box_office_mean(rotten_tomatoes_high_audience)"
   ]
  },
  {
   "cell_type": "code",
   "execution_count": 176,
   "id": "c810642d-b036-45bf-b838-fcfdd4e98886",
   "metadata": {},
   "outputs": [
    {
     "data": {
      "text/plain": [
       "33.31908096897296"
      ]
     },
     "execution_count": 176,
     "metadata": {},
     "output_type": "execute_result"
    }
   ],
   "source": [
    "box_office_mean(rotten_tomatoes_high_high)"
   ]
  },
  {
   "cell_type": "code",
   "execution_count": 177,
   "id": "0b59d916-e6c3-48f1-b40c-3afc40e3318a",
   "metadata": {},
   "outputs": [
    {
     "data": {
      "text/plain": [
       "10.99169285714286"
      ]
     },
     "execution_count": 177,
     "metadata": {},
     "output_type": "execute_result"
    }
   ],
   "source": [
    "box_office_mean(rotten_tomatoes_high_critic_extreme)"
   ]
  },
  {
   "cell_type": "code",
   "execution_count": 178,
   "id": "c885cbab-b09f-47f7-b136-3ea3d8716b25",
   "metadata": {},
   "outputs": [
    {
     "data": {
      "text/plain": [
       "17.112393209876544"
      ]
     },
     "execution_count": 178,
     "metadata": {},
     "output_type": "execute_result"
    }
   ],
   "source": [
    "box_office_mean(rotten_tomatoes_high_audience_extreme)"
   ]
  },
  {
   "cell_type": "code",
   "execution_count": 179,
   "id": "e3089660-fd5a-402c-877b-a67c908cc760",
   "metadata": {},
   "outputs": [
    {
     "data": {
      "text/plain": [
       "41.35294337349397"
      ]
     },
     "execution_count": 179,
     "metadata": {},
     "output_type": "execute_result"
    }
   ],
   "source": [
    "box_office_mean(rotten_tomatoes_high_high_extreme)"
   ]
  },
  {
   "cell_type": "markdown",
   "id": "5f2f75c1-e5da-4e20-b3b0-597825ab5bd6",
   "metadata": {
    "jp-MarkdownHeadingCollapsed": true
   },
   "source": [
    "## 5 - What is the relationship between ratings and movie awards?"
   ]
  },
  {
   "cell_type": "code",
   "execution_count": 183,
   "id": "5fb14449-7471-4600-ab63-79eef35c70c6",
   "metadata": {},
   "outputs": [],
   "source": [
    "oscar_awards_import = pd.read_csv('../data/oscar_awards_edited.csv')"
   ]
  },
  {
   "cell_type": "code",
   "execution_count": 186,
   "id": "2db26977-7bac-4b96-b95f-9da453818214",
   "metadata": {},
   "outputs": [],
   "source": [
    "rt_high_critic_awards = pd.merge(oscar_awards_import, rotten_tomatoes_high_critic, left_on='film', right_on='title', how='left')"
   ]
  },
  {
   "cell_type": "code",
   "execution_count": 188,
   "id": "278d2fdf-a73f-41b7-a73d-54db553a5fec",
   "metadata": {},
   "outputs": [],
   "source": [
    "rt_high_critic_awards_filtered = rt_high_critic_awards[rt_high_critic_awards['id'].notnull()]"
   ]
  },
  {
   "cell_type": "code",
   "execution_count": 190,
   "id": "d3c162d9-0eca-402f-bd72-d06175f8c1d2",
   "metadata": {},
   "outputs": [
    {
     "data": {
      "text/plain": [
       "status\n",
       "Nominated    479\n",
       "Won           89\n",
       "Name: count, dtype: int64"
      ]
     },
     "execution_count": 190,
     "metadata": {},
     "output_type": "execute_result"
    }
   ],
   "source": [
    "rt_high_critic_awards_filtered['status'].value_counts()"
   ]
  },
  {
   "cell_type": "code",
   "execution_count": 191,
   "id": "131eeef5-9d3e-4fe8-9188-2a608e132480",
   "metadata": {},
   "outputs": [
    {
     "data": {
      "text/plain": [
       "award_category\n",
       "Actress In a Supporting Role                                    34\n",
       "Costume Design                                                  31\n",
       "Art Direction                                                   26\n",
       "Cinematography                                                  25\n",
       "Directing                                                       22\n",
       "                                                                ..\n",
       "Music (Song--Original for the Picture)                           1\n",
       "Short Subject (Live Action)                                      1\n",
       "Music (Original Music Score)                                     1\n",
       "Music (Original Score--For a Motion Picture [Not a Musical])     1\n",
       "Outstanding Picture                                              1\n",
       "Name: count, Length: 78, dtype: int64"
      ]
     },
     "execution_count": 191,
     "metadata": {},
     "output_type": "execute_result"
    }
   ],
   "source": [
    "rt_high_critic_awards_filtered['award_category'].value_counts()"
   ]
  },
  {
   "cell_type": "code",
   "execution_count": 192,
   "id": "2ee20938-7c8f-4a0b-b7b3-f09864acfe44",
   "metadata": {},
   "outputs": [],
   "source": [
    "def oscar_awards_counts(df):\n",
    "    rt_awards = pd.merge(oscar_awards_import, df, left_on='film', right_on='title', how='left')\n",
    "    rt_awards_filtered = rt_awards[rt_awards['id'].notnull()]\n",
    "    won_nominated_counts = rt_awards_filtered['status'].value_counts()\n",
    "    return won_nominated_counts"
   ]
  },
  {
   "cell_type": "code",
   "execution_count": 198,
   "id": "2a98be95-be78-49de-b191-7895e10869ba",
   "metadata": {},
   "outputs": [],
   "source": [
    "def oscar_categories_counts(df):\n",
    "    rt_awards = pd.merge(oscar_awards_import, df, left_on='film', right_on='title', how='left')\n",
    "    rt_awards_filtered = rt_awards[rt_awards['id'].notnull()]\n",
    "    award_category_counts = rt_awards_filtered['award_category'].value_counts()\n",
    "    return award_category_counts"
   ]
  },
  {
   "cell_type": "code",
   "execution_count": 193,
   "id": "78bfcbd3-ae30-4429-b6fb-9ecdfc40fdb7",
   "metadata": {},
   "outputs": [
    {
     "data": {
      "text/plain": [
       "status\n",
       "Nominated    381\n",
       "Won           89\n",
       "Name: count, dtype: int64"
      ]
     },
     "execution_count": 193,
     "metadata": {},
     "output_type": "execute_result"
    }
   ],
   "source": [
    "oscar_awards_counts(rotten_tomatoes_high_audience)"
   ]
  },
  {
   "cell_type": "code",
   "execution_count": 199,
   "id": "9fd3fed8-bb69-4c21-8f15-254246620980",
   "metadata": {},
   "outputs": [
    {
     "data": {
      "text/plain": [
       "award_category\n",
       "Music (Original Song)                                              38\n",
       "Costume Design                                                     28\n",
       "Cinematography                                                     27\n",
       "Art Direction                                                      22\n",
       "Sound                                                              21\n",
       "                                                                   ..\n",
       "Writing (Story and Screenplay--Written Directly for the Screen)     1\n",
       "Writing (Screenplay--Based on Material from Another Medium)         1\n",
       "Music (Song--Original for the Picture)                              1\n",
       "Music (Original Song Score)                                         1\n",
       "Special Effects                                                     1\n",
       "Name: count, Length: 69, dtype: int64"
      ]
     },
     "execution_count": 199,
     "metadata": {},
     "output_type": "execute_result"
    }
   ],
   "source": [
    "oscar_categories_counts(rotten_tomatoes_high_audience)"
   ]
  },
  {
   "cell_type": "code",
   "execution_count": 194,
   "id": "84392e7f-a058-4981-b407-0fee5c899a3a",
   "metadata": {},
   "outputs": [
    {
     "data": {
      "text/plain": [
       "status\n",
       "Nominated    5518\n",
       "Won          1700\n",
       "Name: count, dtype: int64"
      ]
     },
     "execution_count": 194,
     "metadata": {},
     "output_type": "execute_result"
    }
   ],
   "source": [
    "oscar_awards_counts(rotten_tomatoes_high_high)"
   ]
  },
  {
   "cell_type": "code",
   "execution_count": 200,
   "id": "cd9b1a21-07a4-4b25-9f05-abb30d0f4722",
   "metadata": {},
   "outputs": [
    {
     "data": {
      "text/plain": [
       "award_category\n",
       "Directing                       453\n",
       "Film Editing                    415\n",
       "Actor In a Supporting Role      411\n",
       "Actress In a Supporting Role    399\n",
       "Best Picture                    384\n",
       "                               ... \n",
       "Short Subject (Color)             1\n",
       "Documentary Short Film            1\n",
       "Documentary Feature Film          1\n",
       "Outstanding Picture               1\n",
       "Unique and Artistic Picture       1\n",
       "Name: count, Length: 97, dtype: int64"
      ]
     },
     "execution_count": 200,
     "metadata": {},
     "output_type": "execute_result"
    }
   ],
   "source": [
    "oscar_categories_counts(rotten_tomatoes_high_high)"
   ]
  },
  {
   "cell_type": "code",
   "execution_count": 195,
   "id": "3b056b80-c8d6-4a0a-95c4-4264842cbd66",
   "metadata": {},
   "outputs": [
    {
     "data": {
      "text/plain": [
       "status\n",
       "Nominated    29\n",
       "Won           1\n",
       "Name: count, dtype: int64"
      ]
     },
     "execution_count": 195,
     "metadata": {},
     "output_type": "execute_result"
    }
   ],
   "source": [
    "oscar_awards_counts(rotten_tomatoes_high_critic_extreme)"
   ]
  },
  {
   "cell_type": "code",
   "execution_count": 201,
   "id": "23729005-d6dc-4048-9dcb-dc03a246aab7",
   "metadata": {},
   "outputs": [
    {
     "data": {
      "text/plain": [
       "award_category\n",
       "Outstanding Production                                                                                                                       3\n",
       "Actress In a Leading Role                                                                                                                    3\n",
       "Costume Design                                                                                                                               3\n",
       "Art Direction                                                                                                                                2\n",
       "Cinematography                                                                                                                               2\n",
       "Sound                                                                                                                                        2\n",
       "Special Effects                                                                                                                              2\n",
       "Documentary (Feature)                                                                                                                        1\n",
       "Writing (Screenplay Written Directly for the Screen--based nn Factual Material or on Story Material not Previously Published or Produced)    1\n",
       "Actress                                                                                                                                      1\n",
       "Music (Scoring)                                                                                                                              1\n",
       "Music (Original Score)                                                                                                                       1\n",
       "Directing                                                                                                                                    1\n",
       "Best Picture                                                                                                                                 1\n",
       "Film Editing                                                                                                                                 1\n",
       "Documentary (Short Subject)                                                                                                                  1\n",
       "Actress In a Supporting Role                                                                                                                 1\n",
       "Actor In a Supporting Role                                                                                                                   1\n",
       "Visual Effects                                                                                                                               1\n",
       "Sound Recording                                                                                                                              1\n",
       "Name: count, dtype: int64"
      ]
     },
     "execution_count": 201,
     "metadata": {},
     "output_type": "execute_result"
    }
   ],
   "source": [
    "oscar_categories_counts(rotten_tomatoes_high_critic_extreme)"
   ]
  },
  {
   "cell_type": "code",
   "execution_count": 196,
   "id": "77ff188a-2420-40a5-ac89-5d8a0867f41c",
   "metadata": {},
   "outputs": [
    {
     "data": {
      "text/plain": [
       "status\n",
       "Nominated    35\n",
       "Won           4\n",
       "Name: count, dtype: int64"
      ]
     },
     "execution_count": 196,
     "metadata": {},
     "output_type": "execute_result"
    }
   ],
   "source": [
    "oscar_awards_counts(rotten_tomatoes_high_audience_extreme)"
   ]
  },
  {
   "cell_type": "code",
   "execution_count": 202,
   "id": "2d61e48f-15cc-4ddc-814c-781cfb1fb875",
   "metadata": {},
   "outputs": [
    {
     "data": {
      "text/plain": [
       "award_category\n",
       "Costume Design                                                  4\n",
       "Cinematography                                                  4\n",
       "Music (Original Song)                                           3\n",
       "Art Direction                                                   3\n",
       "Actress In a Leading Role                                       2\n",
       "Best Picture                                                    2\n",
       "Actress In a Supporting Role                                    2\n",
       "Foreign Language Film                                           2\n",
       "Actress                                                         2\n",
       "Actor                                                           1\n",
       "Cinematography (Black-And-White)                                1\n",
       "Writing (Screenplay--Based on Material from Another Medium)     1\n",
       "Sound                                                           1\n",
       "Music (Original Score--For a Motion Picture [Not a Musical])    1\n",
       "Actor In a Supporting Role                                      1\n",
       "Music (Original Score)                                          1\n",
       "Actor In a Leading Role                                         1\n",
       "Sound Mixing                                                    1\n",
       "Sound Editing                                                   1\n",
       "Makeup and Hairstyling                                          1\n",
       "Writing (Original Screenplay)                                   1\n",
       "Film Editing                                                    1\n",
       "Directing                                                       1\n",
       "Writing (Story and Screenplay)                                  1\n",
       "Name: count, dtype: int64"
      ]
     },
     "execution_count": 202,
     "metadata": {},
     "output_type": "execute_result"
    }
   ],
   "source": [
    "oscar_categories_counts(rotten_tomatoes_high_audience_extreme)"
   ]
  },
  {
   "cell_type": "code",
   "execution_count": 197,
   "id": "b05b310d-d597-4a31-b647-391e82fe989a",
   "metadata": {},
   "outputs": [
    {
     "data": {
      "text/plain": [
       "status\n",
       "Nominated    3005\n",
       "Won          1091\n",
       "Name: count, dtype: int64"
      ]
     },
     "execution_count": 197,
     "metadata": {},
     "output_type": "execute_result"
    }
   ],
   "source": [
    "oscar_awards_counts(rotten_tomatoes_high_high_extreme)"
   ]
  },
  {
   "cell_type": "code",
   "execution_count": 203,
   "id": "a02b34f7-72dd-4479-b63d-8db82d4d9df1",
   "metadata": {},
   "outputs": [
    {
     "data": {
      "text/plain": [
       "award_category\n",
       "Directing                                          304\n",
       "Film Editing                                       265\n",
       "Best Picture                                       251\n",
       "Actor In a Supporting Role                         249\n",
       "Actress In a Supporting Role                       201\n",
       "                                                  ... \n",
       "Music (Original Song Score or Adaptation Score)      1\n",
       "Short Subject (Comedy)                               1\n",
       "Short Subject (Live Action)                          1\n",
       "Writing                                              1\n",
       "Unique and Artistic Picture                          1\n",
       "Name: count, Length: 91, dtype: int64"
      ]
     },
     "execution_count": 203,
     "metadata": {},
     "output_type": "execute_result"
    }
   ],
   "source": [
    "oscar_categories_counts(rotten_tomatoes_high_high_extreme)"
   ]
  },
  {
   "cell_type": "markdown",
   "id": "f54164f2-0046-4034-8bdc-cf065e0f5868",
   "metadata": {},
   "source": [
    "## 6 - Superlatives"
   ]
  },
  {
   "cell_type": "code",
   "execution_count": null,
   "id": "47e82424-8633-4fbe-b2fd-f0dbe6eb6847",
   "metadata": {},
   "outputs": [],
   "source": []
  }
 ],
 "metadata": {
  "kernelspec": {
   "display_name": "Python 3 (ipykernel)",
   "language": "python",
   "name": "python3"
  },
  "language_info": {
   "codemirror_mode": {
    "name": "ipython",
    "version": 3
   },
   "file_extension": ".py",
   "mimetype": "text/x-python",
   "name": "python",
   "nbconvert_exporter": "python",
   "pygments_lexer": "ipython3",
   "version": "3.12.4"
  }
 },
 "nbformat": 4,
 "nbformat_minor": 5
}
