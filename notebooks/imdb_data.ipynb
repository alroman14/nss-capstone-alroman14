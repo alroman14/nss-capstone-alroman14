{
 "cells": [
  {
   "cell_type": "code",
   "execution_count": 1,
   "id": "d253d532-518e-4a1b-ab96-2fd43aca714a",
   "metadata": {},
   "outputs": [],
   "source": [
    "import pandas as pd"
   ]
  },
  {
   "cell_type": "code",
   "execution_count": 4,
   "id": "9784b006-4c87-4693-8fc6-d38cfccbc641",
   "metadata": {},
   "outputs": [],
   "source": [
    "def read_tsv(file):\n",
    "    df = pd.read_csv(file, sep='\\t')\n",
    "    print(df)"
   ]
  },
  {
   "cell_type": "code",
   "execution_count": 5,
   "id": "bc029ec3-fb9a-4c10-b492-fcc72435e717",
   "metadata": {},
   "outputs": [
    {
     "name": "stdout",
     "output_type": "stream",
     "text": [
      "            tconst  averageRating  numVotes\n",
      "0        tt0000001            5.7      2163\n",
      "1        tt0000002            5.5       296\n",
      "2        tt0000003            6.5      2213\n",
      "3        tt0000004            5.3       189\n",
      "4        tt0000005            6.2      2953\n",
      "...            ...            ...       ...\n",
      "1575796  tt9916846            5.8         6\n",
      "1575797  tt9916848            5.8         6\n",
      "1575798  tt9916850            5.8         6\n",
      "1575799  tt9916852            5.8         6\n",
      "1575800  tt9916880            7.7        10\n",
      "\n",
      "[1575801 rows x 3 columns]\n"
     ]
    }
   ],
   "source": [
    "file_ratings = '../data/title.ratings.tsv'\n",
    "read_tsv(file_ratings)"
   ]
  },
  {
   "cell_type": "code",
   "execution_count": 6,
   "id": "2c84532e-85df-4584-ad1d-719f16a45c34",
   "metadata": {},
   "outputs": [
    {
     "name": "stderr",
     "output_type": "stream",
     "text": [
      "C:\\Users\\amand\\AppData\\Local\\Temp\\ipykernel_14440\\3691943392.py:2: DtypeWarning: Columns (4) have mixed types. Specify dtype option on import or set low_memory=False.\n",
      "  df = pd.read_csv(file, sep='\\t')\n"
     ]
    },
    {
     "name": "stdout",
     "output_type": "stream",
     "text": [
      "             tconst  titleType               primaryTitle  \\\n",
      "0         tt0000001      short                 Carmencita   \n",
      "1         tt0000002      short     Le clown et ses chiens   \n",
      "2         tt0000003      short               Poor Pierrot   \n",
      "3         tt0000004      short                Un bon bock   \n",
      "4         tt0000005      short           Blacksmith Scene   \n",
      "...             ...        ...                        ...   \n",
      "11706613  tt9916848  tvEpisode              Episode #3.17   \n",
      "11706614  tt9916850  tvEpisode              Episode #3.19   \n",
      "11706615  tt9916852  tvEpisode              Episode #3.20   \n",
      "11706616  tt9916856      short                   The Wind   \n",
      "11706617  tt9916880  tvEpisode  Horrid Henry Knows It All   \n",
      "\n",
      "                      originalTitle isAdult startYear endYear runtimeMinutes  \\\n",
      "0                        Carmencita       0      1894      \\N              1   \n",
      "1            Le clown et ses chiens       0      1892      \\N              5   \n",
      "2                    Pauvre Pierrot       0      1892      \\N              5   \n",
      "3                       Un bon bock       0      1892      \\N             12   \n",
      "4                  Blacksmith Scene       0      1893      \\N              1   \n",
      "...                             ...     ...       ...     ...            ...   \n",
      "11706613              Episode #3.17       0      2009      \\N             \\N   \n",
      "11706614              Episode #3.19       0      2010      \\N             \\N   \n",
      "11706615              Episode #3.20       0      2010      \\N             \\N   \n",
      "11706616                   The Wind       0      2015      \\N             27   \n",
      "11706617  Horrid Henry Knows It All       0      2014      \\N             10   \n",
      "\n",
      "                              genres  \n",
      "0                  Documentary,Short  \n",
      "1                    Animation,Short  \n",
      "2           Animation,Comedy,Romance  \n",
      "3                    Animation,Short  \n",
      "4                              Short  \n",
      "...                              ...  \n",
      "11706613                       Drama  \n",
      "11706614                       Drama  \n",
      "11706615                       Drama  \n",
      "11706616                       Short  \n",
      "11706617  Adventure,Animation,Comedy  \n",
      "\n",
      "[11706618 rows x 9 columns]\n"
     ]
    }
   ],
   "source": [
    "file_basics = '../data/title.basics.tsv'\n",
    "read_tsv(file_basics)"
   ]
  },
  {
   "cell_type": "code",
   "execution_count": null,
   "id": "1cc335e3-a070-487c-9d96-652f0037c314",
   "metadata": {},
   "outputs": [],
   "source": []
  }
 ],
 "metadata": {
  "kernelspec": {
   "display_name": "Python 3 (ipykernel)",
   "language": "python",
   "name": "python3"
  },
  "language_info": {
   "codemirror_mode": {
    "name": "ipython",
    "version": 3
   },
   "file_extension": ".py",
   "mimetype": "text/x-python",
   "name": "python",
   "nbconvert_exporter": "python",
   "pygments_lexer": "ipython3",
   "version": "3.12.4"
  }
 },
 "nbformat": 4,
 "nbformat_minor": 5
}
